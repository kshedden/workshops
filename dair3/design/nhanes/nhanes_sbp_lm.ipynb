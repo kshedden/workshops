{
 "cells": [
  {
   "cell_type": "markdown",
   "id": "56329e61",
   "metadata": {
    "id": "56329e61"
   },
   "source": [
    "# Predictors of blood pressure in US adults\n",
    "\n",
    "This case study uses data from the [National Health and Nutrition Examination Survey (NHANES)](https://www.cdc.gov/nchs/nhanes/index.htm) to identify predictors of systolic [blood pressure](https://en.wikipedia.org/wiki/Blood_pressure) in US adults.  We will use this case study to illustrate regression analysis, with a focus on model selection among multiple alternative non-additive and non-linear models.\n",
    "\n",
    "NHANES is a [cross-sectional study](https://en.wikipedia.org/wiki/Cross-sectional_data) so in our data we have a single blood pressure measurement for each subject, along with many potential predictors (explanatory variables) that are acquired at the same point in time as the blood pressure is measured.  \n",
    "\n",
    "It is important to keep in mind that NHANES is an [observational study](https://en.wikipedia.org/wiki/Observational_study), so relationships between variables identified using [regression analysis](https://en.wikipedia.org/wiki/Regression_analysis) may not be [causal](https://en.wikipedia.org/wiki/Causality) (e.g. they may reflect an unmeasured common cause).\n",
    "\n",
    "Blood pressure is a somewhat volatile trait, so a single measurement may reflect transient factors that are not reflected in the covariates.  However some fraction of blood pressure variation is explained by covariates.  For example, we will see strong differences in blood pressure related to age, sex, body dimensions (height, weight, BMI), and race.  The roles of these explanatory variables will turn out to be nonlinear and non-additive.\n",
    "\n",
    "All analyses below employ linear least squares ([OLS](https://en.wikipedia.org/wiki/Ordinary_least_squares)) to estimate the _mean structure_.  By \"mean structure\" we are referring to the conditional mean (average value) of blood pressure at fixed values of the explanatory variables.  When focusing on the mean structure, we are deliberately placing less focus on the variance and covariance structures.  Specifically, models fit using OLS are ideal in [homoscedastic](https://en.wikipedia.org/wiki/Homoscedasticity_and_heteroscedasticity) settings where the variance is constant in the mean.  This is not strictly true here, as we will demonstrate below, but holds to good approximation.  OLS can be employed in the presence of mild heteroscedasticity, but there may be a small loss of precision (statistical power)."
   ]
  },
  {
   "cell_type": "code",
   "execution_count": null,
   "id": "dsMACimrJ7wr",
   "metadata": {
    "id": "dsMACimrJ7wr"
   },
   "outputs": [],
   "source": [
    "import pandas as pd\n",
    "import os\n",
    "import numpy as np\n",
    "import patsy\n",
    "import statsmodels.api as sm\n",
    "import matplotlib\n",
    "import matplotlib.pyplot as plt\n",
    "from statsmodels.nonparametric.smoothers_lowess import lowess"
   ]
  },
  {
   "cell_type": "markdown",
   "id": "z5ViuMUzKQja",
   "metadata": {
    "id": "z5ViuMUzKQja"
   },
   "source": [
    "The data are available from the NHANES web site.  We can read the data directly from the internet, you do not need to download the data files.  The data for different traits are stored in different files.  There are many files for each NHANES wave, but here we will use only three of them, the demographics file (DEMO), the body measurements file (BMX), and the blood pressure file (BPX).\n",
    "\n",
    "These files can be merged on the subject identifier SEQN to produce a single data file that we will use below.\n",
    "\n"
   ]
  },
  {
   "cell_type": "code",
   "execution_count": null,
   "id": "m8IjzcqrD5Zl",
   "metadata": {
    "id": "m8IjzcqrD5Zl"
   },
   "outputs": [],
   "source": [
    "# The URL of the 2017-2018 wave of NHANES\n",
    "pa = \"https://wwwn.cdc.gov/Nchs/Nhanes/2017-2018\"\n",
    "\n",
    "# File names of the three files we will be using\n",
    "fn = [\"DEMO_J.XPT\", \"BMX_J.XPT\", \"BPX_J.XPT\"]\n",
    "\n",
    "# Load the files\n",
    "da = []\n",
    "for f in fn:\n",
    "    dx = pd.read_sas(os.path.join(pa, f))\n",
    "    da.append(dx)\n",
    "\n",
    "# Merge the files\n",
    "df = pd.merge(da[0], da[1], how=\"left\", on=\"SEQN\")\n",
    "df = pd.merge(df, da[2], how=\"left\", on=\"SEQN\")\n",
    "\n",
    "# Recode sex and race\n",
    "df[\"RIAGENDR\"] = df[\"RIAGENDR\"].replace([1, 2], [\"M\", \"F\"])\n",
    "df[\"RIDRETH1\"] = df[\"RIDRETH1\"].replace([1, 2, 3, 4, 5], [\"MA\", \"OH\", \"NHW\", \"NHB\", \"Other\"])\n",
    "\n",
    "# Exclude non-adults\n",
    "df = df.loc[df.RIDAGEYR >= 18, :]"
   ]
  },
  {
   "cell_type": "markdown",
   "id": "5if7T_a3MQfO",
   "metadata": {
    "id": "5if7T_a3MQfO"
   },
   "source": [
    "The following cell customizes the colors for the plots to be made below."
   ]
  },
  {
   "cell_type": "code",
   "execution_count": null,
   "id": "028432ae",
   "metadata": {
    "id": "028432ae"
   },
   "outputs": [],
   "source": [
    "cm = matplotlib.colormaps[\"tab10\"]"
   ]
  },
  {
   "cell_type": "markdown",
   "id": "xyB-mUIE9J9K",
   "metadata": {
    "id": "xyB-mUIE9J9K"
   },
   "source": [
    "The focus of this notebook is on the explanatory variables for systolic blood pressure (SBP).  Mainly we will focus on age, sex, BMI (body mass index), and to some extent race.  A very simplistic way to get started is to view a scatterplot of SBP against age.  This gives us a bit of insight into the marginal relationship between SBP and age, but tells us nothing about the other factors.  We add to this plot a nonparametric estimate of the regression function (the conditional mean function), based on a \"scatterplot smoothing\" algorithm called [loess](https://en.wikipedia.org/wiki/Local_regression)."
   ]
  },
  {
   "cell_type": "code",
   "execution_count": null,
   "id": "ReX79Kr38Qru",
   "metadata": {
    "colab": {
     "base_uri": "https://localhost:8080/",
     "height": 472
    },
    "id": "ReX79Kr38Qru",
    "outputId": "79e354a6-79a0-44e1-9891-bc5f8ae45f8c"
   },
   "outputs": [],
   "source": [
    "xl = lowess(df[\"BPXSY1\"], df[\"RIDAGEYR\"], frac=0.2)\n",
    "\n",
    "plt.grid(True)\n",
    "plt.plot(df[\"RIDAGEYR\"], df[\"BPXSY1\"], \"o\", color=\"grey\", alpha=0.2)\n",
    "plt.plot(xl[:, 0], xl[:, 1], '-', color=\"orange\", lw=4)\n",
    "plt.xlabel(\"Age\", size=15)\n",
    "plt.ylabel(\"SBP\", size=15)"
   ]
  },
  {
   "cell_type": "markdown",
   "id": "dedb60c1",
   "metadata": {
    "id": "dedb60c1"
   },
   "source": [
    "Below we define four functions that plot fitted mean blood pressure as a function of age, for specific settings of other variables of interest.  These plots are the main way that we interpret the regression models to be fit below, since many of the models are too complex to interpret directly.  Below we create dataframes for plotting, consisting of regular sequences of values that cover the domains of the variables of interest."
   ]
  },
  {
   "cell_type": "code",
   "execution_count": null,
   "id": "f9966edb",
   "metadata": {
    "id": "f9966edb"
   },
   "outputs": [],
   "source": [
    "dp = df.iloc[0:50, :].copy()\n",
    "dp[\"RIDAGEYR\"] = np.linspace(18, 80, 50)\n",
    "dp[\"RIDRETH1\"] = \"MA\"\n",
    "\n",
    "db = df.iloc[0:50, :].copy()\n",
    "db[\"BMXBMI\"] = np.linspace(20, 50, 50)\n",
    "db[\"RIDRETH1\"] = \"MA\"\n",
    "db[\"RIDAGEYR\"] = 50"
   ]
  },
  {
   "cell_type": "code",
   "execution_count": null,
   "id": "29ae28ae",
   "metadata": {
    "id": "29ae28ae"
   },
   "outputs": [],
   "source": [
    "def plot1(rr, ii, dbands=False, bmi=25):\n",
    "    \"\"\"\"\n",
    "    Plot predicted SBP by sex at fixed BMI.  Optionally, broken lines at +/- 1 SD are also plotted.\n",
    "    \"\"\"\n",
    "    sigma = np.sqrt(rr.scale)\n",
    "    plt.figure(figsize=(5, 3))\n",
    "    plt.clf()\n",
    "    plt.axes([0.12, 0.12, 0.65, 0.8])\n",
    "    plt.grid(True)\n",
    "    for (jj,sex) in enumerate([\"F\", \"M\"]):\n",
    "        dp[\"RIAGENDR\"] = sex\n",
    "        dp[\"BMXBMI\"] = bmi\n",
    "        yh = rr.predict(exog=dp)\n",
    "        plt.plot(dp.RIDAGEYR, yh, color=cm(jj/10), label={\"F\": \"Female\", \"M\": \"Male\"}[sex])\n",
    "        if dbands:\n",
    "            plt.plot(dp.RIDAGEYR, yh + sigma, \":\", color=cm(jj/10))\n",
    "            plt.plot(dp.RIDAGEYR, yh - sigma, \":\", color=cm(jj/10))\n",
    "    plt.xlabel(\"Age\", size=14)\n",
    "    plt.ylabel(\"SBP\", size=14)\n",
    "    plt.title(\"Model %d\" % ii)\n",
    "    ha, lb = plt.gca().get_legend_handles_labels()\n",
    "    leg = plt.figlegend(ha, lb, loc=\"center right\")\n",
    "    leg.draw_frame(False)\n",
    "    plt.show()"
   ]
  },
  {
   "cell_type": "code",
   "execution_count": null,
   "id": "a13e8437",
   "metadata": {
    "id": "a13e8437"
   },
   "outputs": [],
   "source": [
    "def plot2(rr, ii, bmis = [25, 30]):\n",
    "    \"\"\"\n",
    "    Plot predicted SBP by sex at two different BMI levels (25 versus 30).\n",
    "    \"\"\"\n",
    "    plt.figure(figsize=(5.5, 3))\n",
    "    plt.clf()\n",
    "    plt.axes([0.12, 0.12, 0.65, 0.8])\n",
    "    plt.grid(True)\n",
    "    for sex in [\"F\", \"M\"]:\n",
    "        for bmi in bmis:\n",
    "            dp[\"RIAGENDR\"] = sex\n",
    "            dp[\"BMXBMI\"] = bmi\n",
    "            yh = rr.predict(exog=dp)\n",
    "            plt.plot(dp.RIDAGEYR, yh, label=\"%s/%.0f\" %\n",
    "                     ({\"F\": \"Female\", \"M\": \"Male\"}[sex], bmi))\n",
    "    plt.xlabel(\"Age\", size=14)\n",
    "    plt.ylabel(\"SBP\", size=14)\n",
    "    plt.title(\"Model %d\" % ii)\n",
    "    ha, lb = plt.gca().get_legend_handles_labels()\n",
    "    leg = plt.figlegend(ha, lb, loc=\"center right\")\n",
    "    leg.draw_frame(False)\n",
    "    leg.set_title(\"Sex/BMI\")\n",
    "    plt.show()"
   ]
  },
  {
   "cell_type": "code",
   "execution_count": null,
   "id": "49a135f9",
   "metadata": {
    "id": "49a135f9"
   },
   "outputs": [],
   "source": [
    "def plot3(rr, ii, bmi=25):\n",
    "    \"\"\"\n",
    "    Compare females and males at fixed BMI, for each age, with confidence bands.\n",
    "    \"\"\"\n",
    "    dp[\"BMXBMI\"] = bmi\n",
    "    yy, xm = [], []\n",
    "    for sex in [\"F\", \"M\"]:\n",
    "        dp[\"RIAGENDR\"] = sex\n",
    "        xx = patsy.dmatrix(rr.model.data.design_info, dp, return_type=\"dataframe\")\n",
    "        xm.append(xx)\n",
    "        y = rr.predict(exog=dp)\n",
    "        yy.append(y)\n",
    "    xd = xm[0] - xm[1]\n",
    "    vc = np.dot(xd, np.dot(rr.cov_params(), xd.T))\n",
    "    se = np.sqrt(np.diag(vc))\n",
    "    yd = yy[0] - yy[1]\n",
    "\n",
    "    plt.figure(figsize=(5, 3))\n",
    "    plt.clf()\n",
    "    plt.axes([0.12, 0.12, 0.65, 0.8])\n",
    "    plt.grid(True)\n",
    "    plt.fill_between(dp.RIDAGEYR, yd-2*se, yd+2*se, color=\"grey\")\n",
    "    plt.plot(dp.RIDAGEYR, yd, color=\"black\")\n",
    "    plt.xlabel(\"Age\", size=14)\n",
    "    plt.ylabel(\"SBP difference\", size=14)\n",
    "    plt.title(\"Model %d\" % ii)\n",
    "    plt.title(\"SBP difference based on sex (F-M) at BMI=25\")\n",
    "    plt.show()"
   ]
  },
  {
   "cell_type": "code",
   "execution_count": null,
   "id": "bb31f40a",
   "metadata": {
    "id": "bb31f40a"
   },
   "outputs": [],
   "source": [
    "def plot4(rr, ii, sex=\"F\"):\n",
    "    \"\"\"\n",
    "    Compare BMI 25 to BMI 30, for one sex only.\n",
    "    \"\"\"\n",
    "    dp[\"RIAGENDR\"] = sex\n",
    "    yy, xm = [], []\n",
    "    for bmi in [30, 25]:\n",
    "        dp[\"BMXBMI\"] = bmi\n",
    "        xx = patsy.dmatrix(rr.model.data.design_info, dp, return_type=\"dataframe\")\n",
    "        xm.append(xx)\n",
    "        y = rr.predict(exog=dp)\n",
    "        yy.append(y)\n",
    "    xd = xm[0] - xm[1]\n",
    "    vc = np.dot(xd, np.dot(rr.cov_params(), xd.T))\n",
    "    se = np.sqrt(np.diag(vc))\n",
    "    yd = yy[0] - yy[1]\n",
    "\n",
    "    plt.figure(figsize=(5, 3))\n",
    "    plt.clf()\n",
    "    plt.axes([0.12, 0.12, 0.65, 0.8])\n",
    "    plt.grid(True)\n",
    "    plt.fill_between(dp.RIDAGEYR, yd-2*se, yd+2*se, color=\"grey\")\n",
    "    plt.plot(dp.RIDAGEYR, yd, color=\"black\")\n",
    "    plt.xlabel(\"Age\", size=14)\n",
    "    plt.ylabel(\"SBP\", size=14)\n",
    "    plt.title(\"Model %d\" % ii)\n",
    "    plt.title(\"SBP difference based on BMI (30-25) for females\")\n",
    "    plt.show()"
   ]
  },
  {
   "cell_type": "code",
   "execution_count": null,
   "id": "a1eb1161",
   "metadata": {
    "id": "a1eb1161"
   },
   "outputs": [],
   "source": [
    "def plot5(rr, ii, ages = [40, 60]):\n",
    "    \"\"\"\n",
    "    Plot predicted SBP by BMI at two different age levels (40 and 60).\n",
    "    \"\"\"\n",
    "    plt.figure(figsize=(5.5, 3))\n",
    "    plt.clf()\n",
    "    plt.axes([0.12, 0.12, 0.65, 0.8])\n",
    "    plt.grid(True)\n",
    "    for sex in [\"F\", \"M\"]:\n",
    "        db[\"RIAGENDR\"] = sex\n",
    "        for age in ages:\n",
    "            db[\"RIDAGEYR\"] = age\n",
    "            yh = rr.predict(exog=db)\n",
    "            plt.plot(db.BMXBMI, yh, label=\"%s/%.0f\" %\n",
    "                     ({\"F\": \"Female\", \"M\": \"Male\"}[sex], age))\n",
    "    plt.xlabel(\"BMI\", size=14)\n",
    "    plt.ylabel(\"SBP\", size=14)\n",
    "    plt.title(\"Model %d\" % ii)\n",
    "    ha, lb = plt.gca().get_legend_handles_labels()\n",
    "    leg = plt.figlegend(ha, lb, loc=\"center right\")\n",
    "    leg.draw_frame(False)\n",
    "    leg.set_title(\"Sex/Age\")\n",
    "    plt.show()"
   ]
  },
  {
   "cell_type": "code",
   "execution_count": null,
   "id": "3a870814",
   "metadata": {
    "id": "3a870814"
   },
   "outputs": [],
   "source": [
    "def plot_all(rr, ii):\n",
    "    plot1(rr, ii, bmi=25)\n",
    "    plot1(rr, ii, dbands=True)\n",
    "    plot2(rr, ii, bmis=[25, 30])\n",
    "    plot3(rr, ii, bmi=25)\n",
    "    plot4(rr, ii, sex=\"F\")\n",
    "    plot5(rr, ii, ages=[40, 60])"
   ]
  },
  {
   "cell_type": "markdown",
   "id": "f8c8b72f",
   "metadata": {
    "id": "f8c8b72f"
   },
   "source": [
    "The first model is a very basic additive model expressing expected blood pressure as a linear function of age, sex, and BMI.  This is a \"linear mean structure model\" in the sense that blood pressure is modeled as a linear function of age for fixed values of sex and BMI.  It is also modeled as a linear function of BMI for fixed values of sex and age."
   ]
  },
  {
   "cell_type": "code",
   "execution_count": null,
   "id": "05ecb5bb",
   "metadata": {
    "colab": {
     "base_uri": "https://localhost:8080/",
     "height": 1000
    },
    "id": "05ecb5bb",
    "outputId": "691c93c4-8620-4729-f14d-820a98ef259f"
   },
   "outputs": [],
   "source": [
    "f0 = \"BPXSY1 ~ RIDAGEYR + RIAGENDR + BMXBMI\"\n",
    "m0 = sm.OLS.from_formula(f0, df)\n",
    "r0 = m0.fit()\n",
    "plot_all(r0, 0)"
   ]
  },
  {
   "cell_type": "markdown",
   "id": "8566484e",
   "metadata": {
    "id": "8566484e"
   },
   "source": [
    "Model 1 allows the age slopes to differ by sex, while additively controlling for BMI."
   ]
  },
  {
   "cell_type": "code",
   "execution_count": null,
   "id": "eb70452e",
   "metadata": {
    "colab": {
     "base_uri": "https://localhost:8080/",
     "height": 1000
    },
    "id": "eb70452e",
    "outputId": "799406ae-8341-4a06-aadd-2b6ce5385b2b"
   },
   "outputs": [],
   "source": [
    "f1 = \"BPXSY1 ~ RIDAGEYR * RIAGENDR + BMXBMI\"\n",
    "m1 = sm.OLS.from_formula(f1, df)\n",
    "r1 = m1.fit()\n",
    "plot_all(r1, 1)"
   ]
  },
  {
   "cell_type": "markdown",
   "id": "b2d9f1ff",
   "metadata": {
    "id": "b2d9f1ff"
   },
   "source": [
    "In model 2, we allow the BMI slopes to differ by sex, while additively controlling for age."
   ]
  },
  {
   "cell_type": "code",
   "execution_count": null,
   "id": "46333e94",
   "metadata": {
    "colab": {
     "base_uri": "https://localhost:8080/",
     "height": 1000
    },
    "id": "46333e94",
    "outputId": "fcb4afac-0758-45be-e036-1a771f51f5a5"
   },
   "outputs": [],
   "source": [
    "f2 = \"BPXSY1 ~ RIDAGEYR + RIAGENDR * BMXBMI\"\n",
    "m2 = sm.OLS.from_formula(f2, df)\n",
    "r2 = m2.fit()\n",
    "plot_all(r2, 2)"
   ]
  },
  {
   "cell_type": "markdown",
   "id": "ac05b874",
   "metadata": {
    "id": "ac05b874"
   },
   "source": [
    "Model 3 allows both the age and BMI slopes to differ by sex."
   ]
  },
  {
   "cell_type": "code",
   "execution_count": null,
   "id": "7511e959",
   "metadata": {
    "colab": {
     "base_uri": "https://localhost:8080/",
     "height": 1000
    },
    "id": "7511e959",
    "outputId": "804ba488-c843-48d2-cd0a-1d130525324d"
   },
   "outputs": [],
   "source": [
    "f3 = \"BPXSY1 ~ (RIDAGEYR + BMXBMI) * RIAGENDR\"\n",
    "m3 = sm.OLS.from_formula(f3, df)\n",
    "r3 = m3.fit()\n",
    "plot_all(r3, 3)"
   ]
  },
  {
   "cell_type": "markdown",
   "id": "1281367d",
   "metadata": {
    "id": "1281367d"
   },
   "source": [
    "Model 4 has full interactions among age, BMI, and sex."
   ]
  },
  {
   "cell_type": "code",
   "execution_count": null,
   "id": "e0e8223d",
   "metadata": {
    "colab": {
     "base_uri": "https://localhost:8080/",
     "height": 1000
    },
    "id": "e0e8223d",
    "outputId": "2b5d3be6-ca33-4995-9ea5-7323e77492b7"
   },
   "outputs": [],
   "source": [
    "f4 = \"BPXSY1 ~ RIDAGEYR * BMXBMI * RIAGENDR\"\n",
    "m4 = sm.OLS.from_formula(f4, df)\n",
    "r4 = m4.fit()\n",
    "plot_all(r4, 4)"
   ]
  },
  {
   "cell_type": "markdown",
   "id": "634867d1",
   "metadata": {
    "id": "634867d1"
   },
   "source": [
    "We can use the AIC to assess the goodness of fit of the models consider so far.  A lower AIC reflects a better fitting model."
   ]
  },
  {
   "cell_type": "code",
   "execution_count": null,
   "id": "915a79ad",
   "metadata": {
    "colab": {
     "base_uri": "https://localhost:8080/"
    },
    "id": "915a79ad",
    "outputId": "826d7c88-f031-4eb1-fef2-84f9612dba53"
   },
   "outputs": [],
   "source": [
    "print(\"AIC for models 0-4:\")\n",
    "aic = np.asarray([x.aic for x in (r0, r1, r2, r3, r4)])\n",
    "aic -= aic.min()\n",
    "print(aic)"
   ]
  },
  {
   "cell_type": "markdown",
   "id": "3f31dff7",
   "metadata": {
    "id": "3f31dff7"
   },
   "source": [
    "All models above treated quantitative variables (age and BMI) linearly.  Now we turn to the use of basis functions to capture nonlinear roles for these quantitative variables.  Model 5 allows for a nonlinear relationship between age and expected blood pressure, with additive control for sex and BMI."
   ]
  },
  {
   "cell_type": "code",
   "execution_count": null,
   "id": "48b00ada",
   "metadata": {
    "colab": {
     "base_uri": "https://localhost:8080/",
     "height": 1000
    },
    "id": "48b00ada",
    "outputId": "6e90e26c-3dea-4b45-8eb8-69ee870ab827"
   },
   "outputs": [],
   "source": [
    "f5 = \"BPXSY1 ~ bs(RIDAGEYR, 5) + RIAGENDR + BMXBMI\"\n",
    "m5 = sm.OLS.from_formula(f5, df)\n",
    "r5 = m5.fit()\n",
    "plot_all(r5, 5)"
   ]
  },
  {
   "cell_type": "markdown",
   "id": "7a9182ff",
   "metadata": {
    "id": "7a9182ff"
   },
   "source": [
    "Model 6 allows the age trends to differ by sex."
   ]
  },
  {
   "cell_type": "code",
   "execution_count": null,
   "id": "310a6e95",
   "metadata": {
    "colab": {
     "base_uri": "https://localhost:8080/",
     "height": 1000
    },
    "id": "310a6e95",
    "outputId": "35388896-6a79-47e6-8a73-174654c4a115"
   },
   "outputs": [],
   "source": [
    "f6 = \"BPXSY1 ~ bs(RIDAGEYR, 5) * RIAGENDR + BMXBMI\"\n",
    "m6 = sm.OLS.from_formula(f6, df)\n",
    "r6 = m6.fit()\n",
    "plot_all(r6, 6)"
   ]
  },
  {
   "cell_type": "markdown",
   "id": "28f63a2b",
   "metadata": {
    "id": "28f63a2b"
   },
   "source": [
    "Model 7 allows BMI trends to differ by sex, but BMI trends remain linear while age is modeled nonlinearly."
   ]
  },
  {
   "cell_type": "code",
   "execution_count": null,
   "id": "c1153470",
   "metadata": {
    "colab": {
     "base_uri": "https://localhost:8080/",
     "height": 1000
    },
    "id": "c1153470",
    "outputId": "32b38320-eafd-4a66-e365-c832c1fa8601"
   },
   "outputs": [],
   "source": [
    "# Allow BMI trends to differ by sex\n",
    "f7 = \"BPXSY1 ~ bs(RIDAGEYR, 5) + RIAGENDR * BMXBMI\"\n",
    "m7 = sm.OLS.from_formula(f7, df)\n",
    "r7 = m7.fit()\n",
    "plot_all(r7, 7)"
   ]
  },
  {
   "cell_type": "markdown",
   "id": "b4381ebc",
   "metadata": {
    "id": "b4381ebc"
   },
   "source": [
    "Model 8 allows both the nonlinear age and linear BMI effects to differ by sex."
   ]
  },
  {
   "cell_type": "code",
   "execution_count": null,
   "id": "10ff024e",
   "metadata": {
    "colab": {
     "base_uri": "https://localhost:8080/",
     "height": 1000
    },
    "id": "10ff024e",
    "outputId": "350d2c4d-b5ee-4970-992f-0dc51f21cf63"
   },
   "outputs": [],
   "source": [
    "f8 = \"BPXSY1 ~ (bs(RIDAGEYR, 5) + BMXBMI) * RIAGENDR\"\n",
    "m8 = sm.OLS.from_formula(f8, df)\n",
    "r8 = m8.fit()\n",
    "plot_all(r8, 8)"
   ]
  },
  {
   "cell_type": "markdown",
   "id": "75e986e3",
   "metadata": {
    "id": "75e986e3"
   },
   "source": [
    "Model 9 allows full interactions among nonlinear age, linear BMI, and sex."
   ]
  },
  {
   "cell_type": "code",
   "execution_count": null,
   "id": "4f63affe",
   "metadata": {
    "colab": {
     "base_uri": "https://localhost:8080/",
     "height": 1000
    },
    "id": "4f63affe",
    "outputId": "6dd81c1f-6c6d-4eab-96ce-c326bd308a44"
   },
   "outputs": [],
   "source": [
    "f9 = \"BPXSY1 ~ bs(RIDAGEYR, 5) * BMXBMI * RIAGENDR\"\n",
    "m9 = sm.OLS.from_formula(f9, df)\n",
    "r9 = m9.fit()\n",
    "plot_all(r9, 9)"
   ]
  },
  {
   "cell_type": "code",
   "execution_count": null,
   "id": "35775e81",
   "metadata": {
    "colab": {
     "base_uri": "https://localhost:8080/",
     "height": 1000
    },
    "id": "35775e81",
    "outputId": "a11bd575-1591-46de-dae8-8e13755e95c9"
   },
   "outputs": [],
   "source": [
    "# Full interactions among nonlinear age, BMI, and sex with additive control for ethnicity\n",
    "f10 = \"BPXSY1 ~ bs(RIDAGEYR, 5) * BMXBMI * RIAGENDR + RIDRETH1\"\n",
    "m10 = sm.OLS.from_formula(f10, df)\n",
    "r10 = m10.fit()\n",
    "plot_all(r10, 10)"
   ]
  },
  {
   "cell_type": "markdown",
   "id": "117874cf",
   "metadata": {
    "id": "117874cf"
   },
   "source": [
    "Model 11 has everything from model 10 and also includes main effects for ethnicity and an ethnicity x sex interaction."
   ]
  },
  {
   "cell_type": "code",
   "execution_count": null,
   "id": "5204a8d1",
   "metadata": {
    "colab": {
     "base_uri": "https://localhost:8080/",
     "height": 1000
    },
    "id": "5204a8d1",
    "outputId": "3c2c0b43-06f9-4972-b220-5c55ae080668"
   },
   "outputs": [],
   "source": [
    "f11 = \"BPXSY1 ~ (bs(RIDAGEYR, 5) * BMXBMI + RIDRETH1) * RIAGENDR\"\n",
    "m11 = sm.OLS.from_formula(f11, df)\n",
    "r11 = m11.fit()\n",
    "plot_all(r11, 11)"
   ]
  },
  {
   "cell_type": "markdown",
   "id": "907cb7aa",
   "metadata": {
    "id": "907cb7aa"
   },
   "source": [
    "Model 12 has full interactions among nonlinear age, BMI, and sex, and between sex and ethnicity, and between linear age and ethnicity."
   ]
  },
  {
   "cell_type": "code",
   "execution_count": null,
   "id": "c2d1f606",
   "metadata": {
    "colab": {
     "base_uri": "https://localhost:8080/",
     "height": 1000
    },
    "id": "c2d1f606",
    "outputId": "6ef69d95-9953-445b-9776-79414e7f4f55"
   },
   "outputs": [],
   "source": [
    "f12 = \"BPXSY1 ~ bs(RIDAGEYR, 5) * BMXBMI * RIAGENDR + (RIAGENDR + RIDAGEYR) * RIDRETH1\"\n",
    "m12 = sm.OLS.from_formula(f12, df)\n",
    "r12 = m12.fit()\n",
    "plot_all(r12, 12)"
   ]
  },
  {
   "cell_type": "markdown",
   "id": "47db5bf4",
   "metadata": {
    "id": "47db5bf4"
   },
   "source": [
    "Model 13 has full interactions among nonlinear age, BMI, and sex, and between sex and ethnicity, and between nonlinear age and ethnicity."
   ]
  },
  {
   "cell_type": "code",
   "execution_count": null,
   "id": "3c361526",
   "metadata": {
    "colab": {
     "base_uri": "https://localhost:8080/",
     "height": 1000
    },
    "id": "3c361526",
    "outputId": "becf39a4-aca4-41cb-f8cb-7031b8897192"
   },
   "outputs": [],
   "source": [
    "f13 = \"BPXSY1 ~ bs(RIDAGEYR, 5) * BMXBMI * RIAGENDR + (RIAGENDR + bs(RIDAGEYR, 5)) * RIDRETH1\"\n",
    "m13 = sm.OLS.from_formula(f13, df)\n",
    "r13 = m13.fit()\n",
    "plot_all(r13, 13)"
   ]
  },
  {
   "cell_type": "markdown",
   "id": "78bbadf7",
   "metadata": {
    "id": "78bbadf7"
   },
   "source": [
    "Model 14 has full interactions among nonlinear age, BMI, sex, and ethnicity."
   ]
  },
  {
   "cell_type": "code",
   "execution_count": null,
   "id": "ea2c7304",
   "metadata": {
    "colab": {
     "base_uri": "https://localhost:8080/",
     "height": 1000
    },
    "id": "ea2c7304",
    "outputId": "60b4840a-babb-42a1-c643-7a950a61b673"
   },
   "outputs": [],
   "source": [
    "f14 = \"BPXSY1 ~ bs(RIDAGEYR, 5) * BMXBMI * RIAGENDR * RIDRETH1\"\n",
    "m14 = sm.OLS.from_formula(f14, df)\n",
    "r14 = m14.fit()\n",
    "plot_all(r14, 14)"
   ]
  },
  {
   "cell_type": "markdown",
   "id": "fb3b0559",
   "metadata": {
    "id": "fb3b0559"
   },
   "source": [
    "Check AICs"
   ]
  },
  {
   "cell_type": "code",
   "execution_count": null,
   "id": "2783b22f",
   "metadata": {
    "colab": {
     "base_uri": "https://localhost:8080/"
    },
    "id": "2783b22f",
    "outputId": "d15147e6-4b3c-4807-9b83-c99ea1703232"
   },
   "outputs": [],
   "source": [
    "print(\"AIC for models 0-14:\")\n",
    "maic = [x.aic for x in (r0, r1, r2, r3, r4, r5, r6, r7, r8, r9, r10, r11, r12, r13, r14)]\n",
    "maic = np.asarray(maic)\n",
    "maic -= maic.min()\n",
    "print(maic)"
   ]
  },
  {
   "cell_type": "code",
   "execution_count": null,
   "id": "5e0a2a2e",
   "metadata": {
    "colab": {
     "base_uri": "https://localhost:8080/",
     "height": 476
    },
    "id": "5e0a2a2e",
    "outputId": "98b63b5b-f498-4a1e-e733-65200113072d"
   },
   "outputs": [],
   "source": [
    "plt.grid(True)\n",
    "plt.plot(r12.fittedvalues, r12.resid, \"o\", alpha=0.2)\n",
    "plt.xlabel(\"Fitted values\", size=14)\n",
    "plt.ylabel(\"Residuals\", size=14)"
   ]
  },
  {
   "cell_type": "markdown",
   "id": "3eeede24",
   "metadata": {
    "id": "3eeede24"
   },
   "source": [
    "All models above were fit using ordinary least squares (OLS), which works best under homoscedasticity (no relationship between the conditional variance and conditional mean).  We can assess this using the plot below, which reveals an increasing mean/variance relationship.  Since the mean/variance relationship is not strong, especially up to 140 mm Hg where most of the data lie, we have decided to ignore this phenomenon in the analyses presented above."
   ]
  },
  {
   "cell_type": "code",
   "execution_count": null,
   "id": "7e957c1e",
   "metadata": {
    "colab": {
     "base_uri": "https://localhost:8080/",
     "height": 471
    },
    "id": "7e957c1e",
    "outputId": "1a6d1c7c-3b11-41da-b869-f57ec186c2e7"
   },
   "outputs": [],
   "source": [
    "xl = lowess(np.abs(r12.resid), r12.fittedvalues, frac=0.1)\n",
    "\n",
    "plt.grid(True)\n",
    "plt.plot(r12.fittedvalues, np.abs(r12.resid), \"o\", alpha=0.2)\n",
    "plt.plot(xl[:, 0], xl[:, 1], \"-\", color=\"orange\")\n",
    "plt.xlabel(\"Fitted values\", size=14)\n",
    "plt.ylabel(\"Residuals\", size=14)"
   ]
  },
  {
   "cell_type": "markdown",
   "id": "907bd57b",
   "metadata": {
    "id": "907bd57b"
   },
   "source": [
    "Many of the models above employed B-spline basis functions to capture the nonlinear relationships between quantitative predictors and expected blood pressure.  Below we plot the basis functions for different degrees of freedom.  This is a didactic plot intended to help us understand how the models work."
   ]
  },
  {
   "cell_type": "code",
   "execution_count": null,
   "id": "5e4a72a2",
   "metadata": {
    "colab": {
     "base_uri": "https://localhost:8080/",
     "height": 1000
    },
    "id": "5e4a72a2",
    "outputId": "4fd6c7a1-f56d-4726-9df2-5e057edc8345"
   },
   "outputs": [],
   "source": [
    "df = df.sort_values(by=\"RIDAGEYR\")\n",
    "for j in [3, 5, 10]:\n",
    "    y = patsy.dmatrix(\"0 + bs(RIDAGEYR, %d)\" % j, df)\n",
    "    plt.clf()\n",
    "    plt.grid(True)\n",
    "    plt.title(\"%d dimensional cubic B-spline basis\" % j)\n",
    "    for k in range(j):\n",
    "        plt.plot(df[\"RIDAGEYR\"], y[:, k], \"-\", color=\"blue\", alpha=0.6)\n",
    "    plt.xlabel(\"RIDAGEYR\", size=15)\n",
    "    plt.ylabel(\"Basis function value\", size=15)\n",
    "    plt.show()"
   ]
  }
 ],
 "metadata": {
  "colab": {
   "provenance": []
  },
  "jupytext": {
   "cell_metadata_filter": "-all",
   "main_language": "python",
   "notebook_metadata_filter": "-all"
  },
  "kernelspec": {
   "display_name": "Python 3 (ipykernel)",
   "language": "python",
   "name": "python3"
  },
  "language_info": {
   "codemirror_mode": {
    "name": "ipython",
    "version": 3
   },
   "file_extension": ".py",
   "mimetype": "text/x-python",
   "name": "python",
   "nbconvert_exporter": "python",
   "pygments_lexer": "ipython3",
   "version": "3.10.9"
  }
 },
 "nbformat": 4,
 "nbformat_minor": 5
}
