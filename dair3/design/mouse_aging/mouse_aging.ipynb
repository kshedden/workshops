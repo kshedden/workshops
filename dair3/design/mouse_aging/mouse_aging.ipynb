{
 "cells": [
  {
   "cell_type": "markdown",
   "metadata": {
    "id": "4gBVEd8MZC2N"
   },
   "source": [
    "# Longevity phenotypes in mice of various ages\n",
    "\n",
    "In this notebook we consider a [mouse study](https://www.nature.com/articles/s41467-022-34515-y) that examines how phenotypes change as mice age. The work was authored by Xie et al., and was published in Nature Communications in 2022.  This is a large and complex study and we will only consider a few aspects of it here.  Our focus in this notebook is on the study design and analysis plan, which includes many of the issues covered [here](https://github.com/kshedden/workshops/blob/main/dair3/design/design.md).\n",
    "\n",
    "To keep this discussion accessible we will not be using advanced statistical methods, although there is plenty of opportunity to do so.  Also, we will not be discussing implementation details of the code provided below, since our focus is on concepts related to rigorous study design and reproducible analysis.\n",
    "\n",
    "## Data\n",
    "\n",
    "The study data are available [here](https://data.mendeley.com/preview/ypz9zyc9rp?a=09b16f74-4581-48f7-94af-469e01757949), but you do not need to download the data directly from this link, as the script below will read a prepared version of the data from [Github](https://github.com/kshedden/workshops/tree/main/dair3/design/mouse_data).  If you are curious about how the data were prepared, see the [pool.py](https://github.com/kshedden/workshops/blob/main/dair3/design/mouse_data/pool.py) script, but you do not need to do this to work with the code in this notebook.\n",
    "\n",
    "## Scientific aims\n",
    "\n",
    "The overarching aim of this study is to understand how phenotypes change with age in mice, either naturalistically or following an intervention.  These are referred to as _age specific phenotypes_, or \"ASPs\".  The authors claim to perform \"deep phenotyping\", by which they mean that a large number (around two-hundred) phenotypes are assessed. This is an open-ended exploratory study that does not test a specific pre-specified hypothesis.  The researchers considered all phenotypes in an \"unbiased\" manner for changes over the mouse lifespan, and in response to intervention.\n",
    "\n",
    "This study has an [observational](https://en.wikipedia.org/wiki/Observational_study) component in which changes in some phenotypes occur naturalistically over the mouse lifespan.  It also includes an interventional component with three independent interventions: two genetic manipulations and a dietary intervention (intermittent fasting).  \n",
    "\n",
    "The authors used both univariate and multivariate methods in their study.  In univariate analyses, a single phenotype was considered in relation to age, and (if present) intervention group assignment.  Below, we aim to replicate a subset of the univariate analyses (both observational and interventional).  We do not further consider the multivariate analyses here, since these require more advanced statistical methods.\n",
    "\n",
    "## Study design and analytic methods\n",
    "\n",
    "This study considers phenotypic change over the mouse lifespan. Since some of the phenotypes of interest can only be assessed after sacrificing the mouse, it is implemented as a [cross sectional](https://en.wikipedia.org/wiki/Cross-sectional_study) rather than a [longitudinal](https://en.wikipedia.org/wiki/Longitudinal_study) study.  In the observational component of the study, the authors collected data at 6 distinct ages during the mouse lifespan (from 3-26 months), with around 15 independent mice assessed at each age. In the interventional component of the study, only two time points were considered.  In both cases, mice observed at different ages are mutually independent.  \n",
    "\n",
    "The authors emphasize that at the first age (3 months) the mice are considered to be very young, and are not yet subject to any aging effects.  The effect of an intervention can be limited to the older ages, or alternatively can affect mice at all ages roughly equally.  Although both effects are interesting, the authors argue that the interventions that specifically impact older mice are more likely to translate to human therapies, or to reveal important mechanisms underlying aging.\n",
    "\n",
    "All mice in this study are male.  Current NIH guidance strongly advocates for sex balanced designs (this study was conducted in Europe).\n",
    "\n",
    "A large number of phenotypes are measured.  Some, such as heart rate, can be measured on a living mouse, while others such as organ weights can only be made upon sacrifice of the animal -- this is why the design is cross sectional rather than longitudinal (i.e. by making repeated measures on the same mice).  Some components of the study involved an intervention, such as mutation of a gene or dietary modifications.  Other components of the study are observational, considering changes in a phenotype such as heart rate in unperturbed mice of various ages.\n",
    "\n",
    "The authors make a number of comments about their study design choices in the Discussion section of their paper.\n",
    "\n",
    "An important practical consideration is whether the phenotypes approximately change linearly over time, or if the phenotype changes are more complex than can be described in linear form.  These two patterns of effects can be distinguished by considering models that are either additive, or that include a time by intervention group interaction."
   ]
  },
  {
   "cell_type": "markdown",
   "metadata": {},
   "source": [
    "We will use the following libraries in our analysis:"
   ]
  },
  {
   "cell_type": "code",
   "execution_count": null,
   "metadata": {
    "id": "ZlOr3QmP_G6-"
   },
   "outputs": [],
   "source": [
    "import pandas as pd\n",
    "import json\n",
    "import urllib.request\n",
    "import gzip\n",
    "import io\n",
    "import seaborn as sns\n",
    "import matplotlib.pyplot as plt\n",
    "import numpy as np\n",
    "from scipy import stats\n",
    "import statsmodels.api as sm\n",
    "from statsmodels.stats.anova import anova_lm\n",
    "import string\n",
    "from scipy.stats import distributions"
   ]
  },
  {
   "cell_type": "markdown",
   "metadata": {
    "id": "Fptt7ZjCw0su"
   },
   "source": [
    "The next cell loads the data from a Github repository.  The data take the form of a dictionary that associates the figures of the paper with various data tables.\n",
    "\n",
    "Each data table has two or three columns, giving the age and the recorded value for one phenotype, along with the intervention group assignment if an intervention was performed."
   ]
  },
  {
   "cell_type": "code",
   "execution_count": null,
   "metadata": {
    "id": "zyuHW5hc_WVm"
   },
   "outputs": [],
   "source": [
    "loc = \"https://github.com/kshedden/workshops/raw/main/dair3/design/mouse_aging/mouse_data.json.gz\"\n",
    "with urllib.request.urlopen(loc) as url:\n",
    "    fi = gzip.GzipFile(fileobj=url)\n",
    "    md = json.load(fi)"
   ]
  },
  {
   "cell_type": "markdown",
   "metadata": {
    "id": "5dkm_g30yCBB"
   },
   "source": [
    "We can count the number of datasets present in each section of the paper."
   ]
  },
  {
   "cell_type": "code",
   "execution_count": null,
   "metadata": {
    "colab": {
     "base_uri": "https://localhost:8080/"
    },
    "id": "oK62xPsLx-RV",
    "outputId": "ddc7eb50-cb50-4e1b-c699-2962fd96e8c6"
   },
   "outputs": [],
   "source": [
    "{k: len(md[k]) for k in md.keys()}"
   ]
  },
  {
   "cell_type": "markdown",
   "metadata": {},
   "source": [
    "Here is an example of one of the datasets (in text form):"
   ]
  },
  {
   "cell_type": "code",
   "execution_count": null,
   "metadata": {},
   "outputs": [],
   "source": [
    "md[\"Figure2_phenotypes\"][\"tibia_length\"]"
   ]
  },
  {
   "cell_type": "markdown",
   "metadata": {},
   "source": [
    "Here is what the data look like after extracting to a data frame:"
   ]
  },
  {
   "cell_type": "code",
   "execution_count": null,
   "metadata": {},
   "outputs": [],
   "source": [
    "pd.read_csv(io.StringIO(md[\"Figure2_phenotypes\"][\"tibia_length\"]), sep=\",\").head(10)"
   ]
  },
  {
   "cell_type": "markdown",
   "metadata": {
    "id": "5EulwIQr7Tah"
   },
   "source": [
    "The study data are stored as a large collection of small datasets.  The function below extracts one dataset and does some basic preprocessing of it."
   ]
  },
  {
   "cell_type": "code",
   "execution_count": null,
   "metadata": {
    "id": "muMiZBvS7B7O"
   },
   "outputs": [],
   "source": [
    "def get_data(dset, vname, convert_age=True, standardize=False):\n",
    "  \"\"\"\n",
    "  Extract the data for phenotype 'vname' from data collection 'dset'.  \n",
    "  If 'convert_age' is True, the age is converted to numeric values.  If\n",
    "  'standardize' is True, the phenotype values are standardized to zero \n",
    "  mean and unit standard deviation.\n",
    "  \"\"\"\n",
    "  da = pd.read_csv(io.StringIO(md[dset][vname]), sep=\",\")\n",
    "  # Standardize the variable names since they will appear in formulas\n",
    "  vname1 = vname.replace(\" \", \"_\")\n",
    "  vname1 = vname1.lstrip(string.digits)\n",
    "  vname1 = vname1.translate(str.maketrans('', '', string.punctuation.replace(\"_\", \"\")))\n",
    "  da = da.rename({vname: vname1}, axis=1)\n",
    "  da[vname1] = pd.to_numeric(da[vname1], errors=\"coerce\")\n",
    "  if convert_age:\n",
    "    da[\"age\"] = pd.to_numeric(da[\"age\"].str.replace(\"_mo\", \"\"))\n",
    "  if standardize:\n",
    "    da[vname1] = (da[vname1] - da[vname1].mean()) / da[vname1].std()\n",
    "  return vname1, da.dropna()"
   ]
  },
  {
   "cell_type": "markdown",
   "metadata": {},
   "source": [
    "Here is what the data look like after pre-processing:"
   ]
  },
  {
   "cell_type": "code",
   "execution_count": null,
   "metadata": {},
   "outputs": [],
   "source": [
    "get_data(\"Figure2_phenotypes\", \"tibia_length\")[1].head(10)"
   ]
  },
  {
   "cell_type": "markdown",
   "metadata": {},
   "source": [
    "We also have the option to convert the measurements to Z-scores:"
   ]
  },
  {
   "cell_type": "code",
   "execution_count": null,
   "metadata": {},
   "outputs": [],
   "source": [
    "get_data(\"Figure2_phenotypes\", \"tibia_length\", standardize=True)[1].head(10)"
   ]
  },
  {
   "cell_type": "markdown",
   "metadata": {
    "id": "0sl0rDoMxq7l"
   },
   "source": [
    "# Analysis of observational data\n",
    "\n",
    "## Visualization\n",
    "\n",
    "As a form of [exploratory data analysis](https://en.wikipedia.org/wiki/Exploratory_data_analysis), the next cell uses [boxplots](https://en.wikipedia.org/wiki/Box_plot) to visualize a few of the phenotypes from the \"figure 2\" set of experimental results (this is an observational component of the study, looking at associations between age and naturally-varying phenotypes).  We also print a frequency table for the number of observations (independent mice) at each age in each dataset.  \n",
    "\n",
    "The boxplots reflect one of the primary research aims of the study, which is to identify age-related changes in phenotypes.  The median line in each box should follow the trajectory of age-related change for each phenotype, and the widths of the boxes should reflect the degree of dispersion around the central value."
   ]
  },
  {
   "cell_type": "code",
   "execution_count": null,
   "metadata": {
    "colab": {
     "base_uri": "https://localhost:8080/",
     "height": 1000
    },
    "id": "mquOiTWkBdin",
    "outputId": "bf936c60-b364-4f16-f465-627ecd270826"
   },
   "outputs": [],
   "source": [
    "for vname in [\"Body_mass_NMR\", \"HR\"]:\n",
    "  _, da = get_data(\"Figure2_phenotypes\", vname)\n",
    "  c = da.groupby(\"age\").count().sort_index()\n",
    "  print(c)\n",
    "  plt.figure()\n",
    "  sns.boxplot(da, x=\"age\", y=vname)"
   ]
  },
  {
   "cell_type": "markdown",
   "metadata": {
    "id": "UVvYCiIK-J8w"
   },
   "source": [
    "## Formal statistical analyses\n",
    "\n",
    "In their paper, the authors claim that 59% of phenotypes have a [statistically significant](https://en.wikipedia.org/wiki/Statistical_significance) association with age.  The underlying analysis uses a nonparametric one-way ANOVA procedure ([Kruskall-Wallis](https://en.wikipedia.org/wiki/Kruskal%E2%80%93Wallis_test)) for (semi) quantitative phenotypes, and [Fisher's exact test](https://en.wikipedia.org/wiki/Fisher%27s_exact_test) for binary phenotypes.  Below we do a simplified version of this analysis, using for simplicity the Kruskall-Wallis ANOVA procedure for all phenotypes.  This analysis does not impose a mean structure model, such as assuming linear change of the phenotype with age.\n",
    "\n",
    "The results are quite similar to those reported in the publication (57% versus 59%)."
   ]
  },
  {
   "cell_type": "code",
   "execution_count": null,
   "metadata": {
    "colab": {
     "base_uri": "https://localhost:8080/"
    },
    "id": "RGE0ymLMWWTO",
    "outputId": "e7fcfb2b-e2dd-43f3-da04-16c4226e8c16"
   },
   "outputs": [],
   "source": [
    "n0, n1 = 0, 0\n",
    "for vname in md[\"Figure2_phenotypes\"].keys():\n",
    "  vname1, da = get_data(\"Figure2_phenotypes\", vname)\n",
    "  ga = da.groupby(\"age\").groups\n",
    "  dx = [da[vname1][g].values for g in ga.values()]\n",
    "  kr = stats.kruskal(*dx)\n",
    "  n0 += 1\n",
    "  n1 += kr.pvalue < 0.05\n",
    "(n0, n1, n1/n0)"
   ]
  },
  {
   "cell_type": "markdown",
   "metadata": {},
   "source": [
    "We can also assess for relationships using Pearson correlation.  This approach is more sensitive to linear change but is completely unable to detect \"U-shaped\" relationships.  In this case the results of the Pearson correlation analysis are almost identical to the results of the \"nonparametric\" approach."
   ]
  },
  {
   "cell_type": "code",
   "execution_count": null,
   "metadata": {},
   "outputs": [],
   "source": [
    "n0, n1 = 0, 0\n",
    "for vname in md[\"Figure2_phenotypes\"].keys():\n",
    "  vname1, da = get_data(\"Figure2_phenotypes\", vname)\n",
    "  r = np.corrcoef(da[\"age\"], da[vname1])[0,1]\n",
    "  se = 1/np.sqrt(da.shape[0])\n",
    "  n0 += 1\n",
    "  n1 += np.abs(r) > 2*se\n",
    "(n0, n1, n1/n0)"
   ]
  },
  {
   "cell_type": "markdown",
   "metadata": {},
   "source": [
    "We can take a [large scale inference](https://www.cambridge.org/core/books/largescale-inference/A0B183B0080A92966497F12CE5D12589) perspective and consider how the Kruskall-Wallis and Pearson correlation approaches relate across the large collection of phenotypes considered here."
   ]
  },
  {
   "cell_type": "code",
   "execution_count": null,
   "metadata": {},
   "outputs": [],
   "source": [
    "rr = []\n",
    "for vname in md[\"Figure2_phenotypes\"].keys():\n",
    "  vname1, da = get_data(\"Figure2_phenotypes\", vname)\n",
    "\n",
    "  # Kruskall-Wallis analysis\n",
    "  ga = da.groupby(\"age\").groups\n",
    "  dx = [da[vname1][g].values for g in ga.values()]\n",
    "  kr = stats.kruskal(*dx)\n",
    "    \n",
    "  # Convert the Kruskall-Wallis statistic to a Z-score\n",
    "  ng = len(ga.values()) # number of age groups\n",
    "  zstat = distributions.norm().ppf(distributions.chi2(ng-1).cdf(kr.statistic))\n",
    "\n",
    "  # Pearson correlation analysis\n",
    "  r = np.corrcoef(da[\"age\"], da[vname1])[0,1]\n",
    "  se = 1/np.sqrt(da.shape[0])\n",
    "    \n",
    "  rr.append([vname1, kr.statistic, kr.pvalue, zstat, r/se])\n",
    "\n",
    "rr = pd.DataFrame(rr, columns=[\"pheno\", \"KWstat\", \"KWpval\", \"KWZ\", \"PCZ\"])\n",
    "\n",
    "sns.scatterplot(rr, x=\"KWZ\", y=\"PCZ\")"
   ]
  },
  {
   "cell_type": "markdown",
   "metadata": {},
   "source": [
    "These are the phenotypes that have strong evidence for differences under the Kruskall-Wallis analysis and minimal evidence for differences under the Pearson correlation analysis."
   ]
  },
  {
   "cell_type": "code",
   "execution_count": null,
   "metadata": {},
   "outputs": [],
   "source": [
    "ii = (np.abs(rr.KWZ) > 2) & (np.abs(rr.PCZ) < 1) \n",
    "rr = rr[ii]\n",
    "for vname in rr[\"pheno\"]:\n",
    "    _, da = get_data(\"Figure2_phenotypes\", vname)\n",
    "    plt.figure()\n",
    "    sns.boxplot(da, x=\"age\", y=vname)"
   ]
  },
  {
   "cell_type": "markdown",
   "metadata": {
    "id": "4H6buFw3uHX2"
   },
   "source": [
    "## Analysis of interventional data\n",
    "\n",
    "Now we turn to diet, which is one of the interventional components of the study.  Mice were on either a calorie-restricted or regular diet.  In these experiments, there were two age groups denoted \"young\" and \"old\".\n",
    "\n",
    "We begin by using boxplots to explore the distributions for a few phenotypes."
   ]
  },
  {
   "cell_type": "code",
   "execution_count": null,
   "metadata": {},
   "outputs": [],
   "source": [
    "for vname in [\"ST\", \"Body_mass_NMR\", \"HR\"]:\n",
    "    vname1, da = get_data(\"Figure5_phenotypes\", vname, convert_age=False, standardize=False)\n",
    "    da[\"group\"] = [\"%s:%s\" % (a, b) for a,b in zip(da[\"age\"], da[\"diet\"])]\n",
    "    plt.figure()\n",
    "    sns.boxplot(da, x=\"group\", y=vname1)"
   ]
  },
  {
   "cell_type": "markdown",
   "metadata": {},
   "source": [
    "For more formal analysis, we can use [regression](https://en.wikipedia.org/wiki/Regression_analysis) and [analysis of variance](https://en.wikipedia.org/wiki/Analysis_of_variance) to consider the combined association of age and diet type in relation to each phenotype.  Here we use [ordinary least squares (OLS)](https://en.wikipedia.org/wiki/Ordinary_least_squares) to fit the models since we want effect estimates and not only significance levels.  We fit a \"saturated\" model for each phenotype, which has an intercept, main effects for age and diet, and an [interaction](https://en.wikipedia.org/wiki/Interaction_(statistics)) between age and diet.  \n",
    "\n",
    "In interpreting the results of the analysis, we consider the evidence for additive and non-additive associations between the intervention variable (diet) and the outcome phenotype.  Age is either a [nuisance variable](https://en.wikipedia.org/wiki/Nuisance_variable) or a [moderator](https://en.wikipedia.org/wiki/Moderation_(statistics)) (also known as a _modifier_).  \n",
    "\n",
    "Since age and diet happen to both be binary here, this is a _two-way ANOVA_, specifially a _2x2 layout_.  The additive model can be parameterized in three degrees of freedom and the non-additive model has four degrees of freedom.  We focus on two [Wald tests](https://en.wikipedia.org/wiki/Wald_test) - one testing for an additive contribution of diet, and one testing for non-additivity of the age and diet effects.  We have minimal interest in the main effect of age so do not formally test that effect below.\n",
    "\n",
    "There are over 200 phenotypes so we first calculate all of the relevant statistics and store them in a dataframe."
   ]
  },
  {
   "cell_type": "code",
   "execution_count": null,
   "metadata": {
    "id": "X9jgSQ1kUp4V"
   },
   "outputs": [],
   "source": [
    "anovas, models, vnames, prev = {}, {}, [], []\n",
    "for vname in md[\"Figure5_phenotypes\"].keys():\n",
    "    vname1, da = get_data(\"Figure5_phenotypes\", vname, convert_age=False, standardize=True)\n",
    "    mm = sm.OLS.from_formula(\"%s ~ age * diet\" % vname1, da)\n",
    "    rr = mm.fit()\n",
    "    mx = rr.model.exog\n",
    "    _,s,_ = np.linalg.svd(mx,0)\n",
    "    if s[0]/s[-1] > 100000:\n",
    "        print(\"Skipping %s\" % vname)\n",
    "        continue\n",
    "    aa = anova_lm(rr)\n",
    "    anovas[vname1] = aa\n",
    "    models[vname1] = rr\n",
    "    vnames.append(vname1)\n",
    "    prev.append([(da[\"age\"] == \"young\").mean(), (da[\"diet\"]==\"restricted\").mean()])"
   ]
  },
  {
   "cell_type": "markdown",
   "metadata": {},
   "source": [
    "Here is the result of one of the model fits above, specifically that for the heart rate (HR) phenotype.  The notation \"T.young\" indicates that this is the coefficient estimate for the indicator of a mouse being young, which (implicitly) tells us that the reference level for the age variable is \"old\". Similarly, the diet coefficient corresponds to the \"restricted\" diet and the reference level is \"control\" (an _ad lib_ diet)."
   ]
  },
  {
   "cell_type": "code",
   "execution_count": null,
   "metadata": {},
   "outputs": [],
   "source": [
    "models[\"HR\"].summary()"
   ]
  },
  {
   "cell_type": "markdown",
   "metadata": {
    "id": "LTUguJLGU1hE"
   },
   "source": [
    "The next cell organizes all of the regression findings into a dataframe.  This dataframe has one row for each phenotype."
   ]
  },
  {
   "cell_type": "code",
   "execution_count": null,
   "metadata": {
    "id": "vTEa_43SbOkr"
   },
   "outputs": [],
   "source": [
    "zscores = [models[v].params / models[v].bse for v in vnames]\n",
    "young_main = [models[v].params[\"age[T.young]\"] for v in vnames]\n",
    "young_main_z = [z[\"age[T.young]\"] for z in zscores]\n",
    "young_main_se = [models[v].bse[\"age[T.young]\"] for v in vnames]\n",
    "restricted_main = [models[v].params[\"diet[T.restricted]\"] for v in vnames]\n",
    "restricted_main_z = [z[\"diet[T.restricted]\"] for z in zscores]\n",
    "restricted_main_se = [models[v].bse[\"diet[T.restricted]\"] for v in vnames]\n",
    "interaction = [models[v].params[\"age[T.young]:diet[T.restricted]\"] for v in vnames]\n",
    "interaction_z = [z[\"age[T.young]:diet[T.restricted]\"] for z in zscores]\n",
    "interaction_se = [models[v].bse[\"age[T.young]:diet[T.restricted]\"] for v in vnames]\n",
    "prev = np.asarray(prev)\n",
    "\n",
    "effects = pd.DataFrame({\"Variable\": vnames,\n",
    "                        \"young_main\": young_main, \"young_main_z\": young_main_z,\n",
    "                        \"young_main_se\": young_main_se,\n",
    "                        \"restricted_main\": restricted_main, \"restricted_main_z\": restricted_main_z,\n",
    "                        \"restricted_main_se\": restricted_main_se,\n",
    "                        \"interaction\": interaction, \"interaction_z\": interaction_z,\n",
    "                        \"interaction_se\": interaction_se,\n",
    "                        \"age_sd\": np.sqrt(prev[:, 0] * (1 - prev[:, 0])),\n",
    "                        \"diet_sd\": np.sqrt(prev[:, 1] * (1 - prev[:, 1]))})\n",
    "\n",
    "# Standardized effects\n",
    "effects[\"young_main_s\"] = effects[\"young_main\"] * effects[\"age_sd\"]\n",
    "effects[\"restricted_main_s\"] = effects[\"restricted_main\"] * effects[\"diet_sd\"]\n",
    "effects[\"restricted_main_s_se\"] = effects[\"restricted_main_se\"] * effects[\"diet_sd\"]\n",
    "effects[\"interaction_s\"] = effects[\"interaction\"] * effects[\"age_sd\"] * effects[\"diet_sd\"]\n",
    "effects[\"interaction_s_se\"] = effects[\"interaction_se\"] * effects[\"age_sd\"] * effects[\"diet_sd\"]"
   ]
  },
  {
   "cell_type": "code",
   "execution_count": null,
   "metadata": {
    "colab": {
     "base_uri": "https://localhost:8080/",
     "height": 443
    },
    "id": "jp_PXZHjBFV2",
    "outputId": "f52bac40-cb24-45c9-f4d9-10230bba207a"
   },
   "outputs": [],
   "source": [
    "effects"
   ]
  },
  {
   "cell_type": "markdown",
   "metadata": {
    "id": "m4f44tY3vU8f"
   },
   "source": [
    "### Visualization of Z-scores\n",
    "\n",
    "The function below creates a dot-plot of the statistically standardized effects for each phenotype, considering one particular term in the model (i.e. one of the two main effects, or the interaction).  These \"statistically standardized effects\" are point estimates divided by the corresponding standard errors.  \n",
    "\n",
    "The vertical lines correspond to commonly-applied decision thresholds for Z-scores.  The dashed lines correspond to a \"nominal\" threshold corresponding to an unadjusted p-value being less than 0.05. The dotted lines correspond to thesholds corrected for multiple hypothesis testing using the [Bonferroni method](https://en.wikipedia.org/wiki/Bonferroni_correction), which controls the family-wise error rate."
   ]
  },
  {
   "cell_type": "code",
   "execution_count": null,
   "metadata": {
    "id": "T2OJj5hVe-Lb"
   },
   "outputs": [],
   "source": [
    "def gen_anova_z_plot(term):\n",
    "  dof = models[vnames[0]].df_resid\n",
    "\n",
    "  # Set up the plot\n",
    "  plt.figure().set_figheight(30)\n",
    "  plt.yticks(fontsize=6);\n",
    "  plt.axvline(x=0, color=\"grey\")\n",
    "\n",
    "  sns.stripplot(data=effects.sort_values(term), y=\"Variable\", x=term)\n",
    "\n",
    "  # Multiplier for confidence intervals with 95% simultaneous coverage. \n",
    "  t = stats.distributions.t(df=dof).ppf(1 - 0.025/effects.shape[0])\n",
    "    \n",
    "  plt.axvline(x=-t, color=\"grey\", ls=\"dotted\")\n",
    "  plt.axvline(x=t, color=\"grey\", ls=\"dotted\")\n",
    "    \n",
    "  # 95% CI's (no consideration of multiple coverage)\n",
    "  plt.axvline(x=-2, color=\"grey\", ls=\"dashed\")\n",
    "  plt.axvline(x=2, color=\"grey\", ls=\"dashed\")"
   ]
  },
  {
   "cell_type": "markdown",
   "metadata": {
    "id": "HINLLyx9vg5C"
   },
   "source": [
    "The plot below shows the Z-scores for the diet main effect with respect to each phenotype.  Since there is an interaction term in the model, these effects correspond to the difference between diet groups (restricted minus control) when fixing age at \"old\" (the reference level of age)."
   ]
  },
  {
   "cell_type": "code",
   "execution_count": null,
   "metadata": {
    "colab": {
     "base_uri": "https://localhost:8080/",
     "height": 1000
    },
    "id": "V-oZ1lPcqLIW",
    "outputId": "caa7d43e-db39-42a8-f720-8a83af65114c"
   },
   "outputs": [],
   "source": [
    "gen_anova_z_plot(\"restricted_main_z\")"
   ]
  },
  {
   "cell_type": "markdown",
   "metadata": {
    "id": "TzK3c1Igwn7h"
   },
   "source": [
    "The plot below shows the estimated interaction effects for each phenotype.  These interaction terms can be interpreted as the difference between the diet effect (restricted minus control) in the old age group and the same difference in the young age group.  That is, it is a \"difference of differences\".  Note that none of them reach the threshold required for [family-wise](https://en.wikipedia.org/wiki/Family-wise_error_rate) error control.  This is consistent with the authors' claims that interventions seldom change the rate of change of phenotypes with respect to aging, although some of the phenotypes do change their overall level in response to the intervention."
   ]
  },
  {
   "cell_type": "code",
   "execution_count": null,
   "metadata": {
    "colab": {
     "base_uri": "https://localhost:8080/",
     "height": 1000
    },
    "id": "H4oHc1Miq8B4",
    "outputId": "6a7fa231-aec6-4b5d-f7ea-e0d54e7a0edf"
   },
   "outputs": [],
   "source": [
    "gen_anova_z_plot(\"interaction_z\")"
   ]
  },
  {
   "cell_type": "markdown",
   "metadata": {
    "id": "29fCTc7RWm0U"
   },
   "source": [
    "### Visualization of standardized effects\n",
    "\n",
    "Next we visualize the same effects using a different approach.  A \"standardized effect\" refers here to the effect of one covariate relative to its standard deviation (above we considered Z-scores which are the effects relative to their [standard error](https://en.wikipedia.org/wiki/Standard_error)). Both Z-scores and standardized effects are dimension-free.  Standardized effects are a measure of the [size of an effect](https://en.wikipedia.org/wiki/Effect_size), not its statistical significance.  In order to convey information about statistical significance in these plots, we also include 95% [confidence intervals](https://en.wikipedia.org/wiki/Confidence_interval) (adjusted for multiple comparisons) for each standardized effect.  In the plots below, the organge dots are the point estimates and the blue dots are the lower and upper limits of 95% confidence intervals."
   ]
  },
  {
   "cell_type": "code",
   "execution_count": null,
   "metadata": {
    "id": "uh3AnOy0AyZ3"
   },
   "outputs": [],
   "source": [
    "def gen_anova_seffect_plot(term):\n",
    "  dof = models[vnames[0]].df_resid\n",
    "  plt.figure().set_figheight(30)\n",
    "  ee = effects.copy()\n",
    "  t = stats.distributions.t(df=dof).ppf(1 - 0.025/effects.shape[0])\n",
    "  ee[\"lcb\"] = ee[term] - t*ee[\"%s_se\" % term]\n",
    "  ee[\"ucb\"] = ee[term] + t*ee[\"%s_se\" % term]\n",
    "  ee = ee[[\"Variable\", \"lcb\", \"ucb\", term]]\n",
    "  ee = ee.set_index(\"Variable\").stack().reset_index()\n",
    "  ee.columns = [\"Variable\", \"hue\", term]\n",
    "  ee[\"hue\"] = ee[\"hue\"].replace({\"lcb\": \"cb\", \"ucb\": \"cb\"})\n",
    "  ee = ee.sort_values(term)\n",
    "  sns.stripplot(data=ee, y=\"Variable\", x=term, hue=\"hue\")\n",
    "  plt.axvline(x=0, color=\"grey\")\n",
    "  plt.gca().legend().set_visible(False)"
   ]
  },
  {
   "cell_type": "markdown",
   "metadata": {},
   "source": [
    "First we plot the standardized main effects and their 95% confidence intervals.  These are the main effects (or \"simple effects\") for diet (restricted minus control) in the older mice.  The heart rate, HDL, cholesterol, etc. are lower in mice on restricted diets than mice on ad lib diets."
   ]
  },
  {
   "cell_type": "code",
   "execution_count": null,
   "metadata": {
    "colab": {
     "base_uri": "https://localhost:8080/",
     "height": 1000
    },
    "id": "D-abgOYHnyyE",
    "outputId": "a50849a7-1816-46f4-f976-2afe28dd39c5"
   },
   "outputs": [],
   "source": [
    "gen_anova_seffect_plot(\"restricted_main_s\")"
   ]
  },
  {
   "cell_type": "markdown",
   "metadata": {},
   "source": [
    "Next we look at standardized \"difference of differences\", none of which are significantly different from zero."
   ]
  },
  {
   "cell_type": "code",
   "execution_count": null,
   "metadata": {
    "colab": {
     "base_uri": "https://localhost:8080/",
     "height": 1000
    },
    "id": "wUHUHsxQPQkR",
    "outputId": "1d7554cb-dc10-4645-e895-7116a4c14379"
   },
   "outputs": [],
   "source": [
    "gen_anova_seffect_plot(\"interaction_s\")"
   ]
  },
  {
   "cell_type": "markdown",
   "metadata": {},
   "source": [
    "Given the large number of phenotypes, and taking again a large scale inference perspective, we can empirically explore how the evidence for main effects of treatment (calorie restricted diet) relates to the evidence for interactions between the diet and age effects (i.e. for non-parallel diet effects).  These turn out to be inversely correlated -- the phenotypes that increase following calorie restriction in old mice (the main effect of calorie restriction) tend to increase less following calorie restriction in young mice."
   ]
  },
  {
   "cell_type": "code",
   "execution_count": null,
   "metadata": {},
   "outputs": [],
   "source": [
    "sns.scatterplot(effects, x=\"restricted_main_z\", y=\"interaction_z\")"
   ]
  },
  {
   "cell_type": "markdown",
   "metadata": {},
   "source": [
    "The main reason for the finding above is likely due to non-orthogonality between the main effect and interaction coefficients, as quantified below.  This can be seen as a form of [regression to the mean](https://en.wikipedia.org/wiki/Regression_toward_the_mean)."
   ]
  },
  {
   "cell_type": "code",
   "execution_count": null,
   "metadata": {},
   "outputs": [],
   "source": [
    "xx = models[\"ST\"].model.exog\n",
    "B = np.corrcoef(xx[:, 1:].T)\n",
    "print(\"Correlation matrix of covariates (excluding intercept):\")\n",
    "print(B)\n",
    "C = models[\"ST\"].cov_params()\n",
    "se = np.sqrt(np.diag(C))\n",
    "C /= np.outer(se, se)\n",
    "print(\"\\nCorrelation matrix of parameter estimates:\")\n",
    "print(C)"
   ]
  }
 ],
 "metadata": {
  "colab": {
   "provenance": []
  },
  "kernelspec": {
   "display_name": "Python 3 (ipykernel)",
   "language": "python",
   "name": "python3"
  },
  "language_info": {
   "codemirror_mode": {
    "name": "ipython",
    "version": 3
   },
   "file_extension": ".py",
   "mimetype": "text/x-python",
   "name": "python",
   "nbconvert_exporter": "python",
   "pygments_lexer": "ipython3",
   "version": "3.10.9"
  }
 },
 "nbformat": 4,
 "nbformat_minor": 1
}
