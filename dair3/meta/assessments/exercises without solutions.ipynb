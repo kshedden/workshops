{
 "cells": [
  {
   "cell_type": "markdown",
   "id": "0",
   "metadata": {},
   "source": [
    "## Meta-analysis exercises for DAIR3\n",
    "\n"
   ]
  },
  {
   "cell_type": "code",
   "execution_count": null,
   "id": "1",
   "metadata": {},
   "outputs": [],
   "source": [
    "import numpy as np\n",
    "import pandas as pd\n",
    "import statsmodels.api as sm\n",
    "import matplotlib.pyplot as plt\n",
    "import scipy.stats.distributions as dist"
   ]
  },
  {
   "cell_type": "markdown",
   "id": "2",
   "metadata": {},
   "source": [
    "**Background:** The function _gen_study_dat_ below simulates data from multiple independent two-arm studies.  You do not need to understand the internals of this function, but we will use it below to simulate data.  Though this function, we are able to specify the number of studies (n_study), the population effect size (pes), and some parameters that control how the per-arm sample sizes are generated (arm_size_mean, arm_size_cv, and arm_size_cor).  Finally, var_cv controls how the variances of the data in each study are simulated.  The average data variance is 1, but different studies have different variances and the [coefficient of variation](https://en.wikipedia.org/wiki/Coefficient_of_variation) of these variances is given by var_cv."
   ]
  },
  {
   "cell_type": "code",
   "execution_count": null,
   "id": "3",
   "metadata": {},
   "outputs": [],
   "source": [
    "def gen_study_dat(n_study, pes, arm_size_mean, arm_size_cv, arm_size_cor, var_cv, clust_icc):\n",
    "    \"\"\"\n",
    "    Simulate data for meta-analysis.  Each study in the meta-analysis is a two arm-study/\n",
    "    The population effect sizes are identical (the population is homogeneous).\n",
    "    \n",
    "    Parameters\n",
    "    ----------\n",
    "    n_study : number of studies\n",
    "    pes : population effect size (can be scalar for homogeneous or vector for heterogeneous studies)\n",
    "    arm_size_mean : the expected sample size of one study arm\n",
    "    arm_size_cv : the coefficient of variation of study arm sizes\n",
    "    arm_size_cor : the correlation between effect sizes of the two arms (on copula scale)\n",
    "    var_cv : the coeffient of variation of the unexplained variance\n",
    "    \n",
    "    Notes\n",
    "    -----\n",
    "    The unexplained variance always has mean 1.\n",
    "    \"\"\"\n",
    "    # Generate sample sizes for two arms in each study using a Gaussian copula\n",
    "    z = np.random.normal(size=(n_study, 2))\n",
    "    z[:, 1] = arm_size_cor*z[:, 0] + np.sqrt(1-arm_size_cor**2)*z[:, 1]\n",
    "    u = dist.norm.cdf(z)\n",
    "    v = (arm_size_mean * arm_size_cv)**2\n",
    "    a = arm_size_mean**2 / v\n",
    "    b = v / arm_size_mean\n",
    "    N = dist.gamma(a, scale=b).ppf(u)\n",
    "    N = np.ceil(N).astype(int)\n",
    "    N1 = N[:, 0]\n",
    "    N2 = N[:, 1]\n",
    "    \n",
    "    # Now generate variances, centered at 1\n",
    "    v = var_cv**2\n",
    "    sig = np.random.gamma(1/v, scale=v, size=n_study)\n",
    "    \n",
    "    f = (N1 + N2) / (N1 * N2)\n",
    "    se = np.sqrt(sig**2 * f)\n",
    "    z = np.random.normal(size=n_study)\n",
    "    if clust_icc == 0:\n",
    "        clust = None\n",
    "    else:\n",
    "        clust = np.random.choice(range(5), n_study)\n",
    "        for i in range(5):\n",
    "            jj = np.flatnonzero(clust == i)\n",
    "            if len(jj) > 0:\n",
    "                z[jj] = np.sqrt(clust_icc)*np.random.normal() + np.sqrt(1 - clust_icc)*z[jj]\n",
    "    md = pes + z*se\n",
    "    \n",
    "    return md, sig, N1, N2, clust"
   ]
  },
  {
   "cell_type": "markdown",
   "id": "ad2a1f3d",
   "metadata": {},
   "source": [
    "Below is an implementation of [Cochran's Q test](https://en.wikipedia.org/wiki/Cochran%27s_Q_test), a very common approach for assessing heterogeneity among study results and quantifying the extent of heterogeneity through the $I^2$ statistic."
   ]
  },
  {
   "cell_type": "code",
   "execution_count": null,
   "id": "4",
   "metadata": {},
   "outputs": [],
   "source": [
    "def cochran_Q(md, se):\n",
    "    \"\"\"\n",
    "    Assess heterogeneity in a meta-analysis using Cochran's Q approach.\n",
    "    \n",
    "    Parameters:\n",
    "    -----------\n",
    "    md : vector of point estimates (e.g. mean differences)\n",
    "    se : vector of standard errors\n",
    "    \n",
    "    Returns:\n",
    "    --------\n",
    "    q : Cochran's Q statistic\n",
    "    pval : A p-value testing the null hypothesis of no heterogeneity\n",
    "    I2 : The I2 statistic quantifying the extent of heterogeneity\n",
    "    \"\"\"\n",
    "    w = 1 / se**2\n",
    "    w /= w.sum()\n",
    "    pe = np.dot(md, w) # pooled estimate\n",
    "    q = np.sum((md - pe)**2 / se**2) # q-statistic\n",
    "    pval = 1 - dist.chi2(len(md) - 1).cdf(q)\n",
    "    I2 = 1 - (len(md) - 1) / q\n",
    "    return q, pval, I2"
   ]
  },
  {
   "cell_type": "markdown",
   "id": "58ad652e",
   "metadata": {},
   "source": [
    "Below we simulate study data with a particular set of parameters, then we present some plots to illustrate the data."
   ]
  },
  {
   "cell_type": "code",
   "execution_count": null,
   "id": "5",
   "metadata": {},
   "outputs": [],
   "source": [
    "md, sig, N1, N2, clust = gen_study_dat(20, 0.1, 30, 0.5, 0.7, 0.6, 0)"
   ]
  },
  {
   "cell_type": "code",
   "execution_count": null,
   "id": "15dd792f",
   "metadata": {},
   "outputs": [],
   "source": [
    "plt.plot(N1, N2, \"o\")\n",
    "plt.grid(True)\n",
    "plt.xlabel(\"Arm 1 sample size\")\n",
    "plt.ylabel(\"Arm 2 sample size\")"
   ]
  },
  {
   "cell_type": "code",
   "execution_count": null,
   "id": "f800a029",
   "metadata": {},
   "outputs": [],
   "source": [
    "plt.plot(md, sig, \"o\")\n",
    "plt.grid(True)\n",
    "plt.xlabel(\"Treatment effect\")\n",
    "plt.ylabel(\"Standard deviation\")"
   ]
  },
  {
   "cell_type": "markdown",
   "id": "6",
   "metadata": {},
   "source": [
    "**Assessment 1:**\n",
    "\n",
    "The cell above generates data from 20 two-arm studies that are suitable for a meta-analysis.  The vectors _md_, _sig_, _N1_, and _N2_ contain, respectively, the estimated mean difference (treatment effect), estimated pooled standard deviation, arm 1 sample size, and arm 2 sample size.  All results pertain to a set of 20 studies estimating a common parameter of interest.\n",
    "\n",
    "Answer the following sequence of questions, which could arise in a meta-analysis using these data.\n",
    "\n",
    "a: Efficiently estimate the consensus effect size\n",
    "\n",
    "b: Estimate the standard error of the consensus effect size from part a\n",
    "\n",
    "c: Modify the study characteristics (the parameters in _gen_study_dat_) to identify a setting where we reject the null hypothesis of zero consensus effect around half of the time (review the documentation for the _gen_study_dat_ function above to understand what the parameters mean). \n",
    "\n",
    "d: In the scenario that you constructed in part c, around how many of the studies would have been considered to produce statistically significant evidence of an effect if considered in isolation?\n",
    "\n",
    "e: Configure the parameters for _gen_study_dat_ as you like, then calculate a p-value for each study (considered in isolation), and use Fisher's method to produce an overall p-value.  Try to find a setting where the p-value for Fisher's method is less than 0.05 around half of the time."
   ]
  },
  {
   "cell_type": "code",
   "execution_count": null,
   "id": "7",
   "metadata": {},
   "outputs": [],
   "source": [
    "# part 1a"
   ]
  },
  {
   "cell_type": "code",
   "execution_count": null,
   "id": "8",
   "metadata": {},
   "outputs": [],
   "source": [
    "# part 1b"
   ]
  },
  {
   "cell_type": "code",
   "execution_count": null,
   "id": "9",
   "metadata": {},
   "outputs": [],
   "source": [
    "# part 1c"
   ]
  },
  {
   "cell_type": "code",
   "execution_count": null,
   "id": "10",
   "metadata": {},
   "outputs": [],
   "source": [
    "# part 1d"
   ]
  },
  {
   "cell_type": "code",
   "execution_count": null,
   "id": "11",
   "metadata": {},
   "outputs": [],
   "source": [
    "# part 1e"
   ]
  },
  {
   "cell_type": "markdown",
   "id": "dd39ad8f",
   "metadata": {},
   "source": [
    "**Assessment 2:**\n",
    "\n",
    "a: Generate data using _gen_study_dat_ that have homogeneous effect sizes.  Calculate the Cochran Q-statistic and confirm that the results are what you would expect.  \n",
    "\n",
    "b: Generate data using _gen_study_dat_ that have heterogeneous effect sizes.  Calculate the Cochran Q-statistics and briefly interpret your findings. \n",
    "\n",
    "c: Suppose we have a situation where of our 20 studies, around half were conducted in rural settings and the remainder were conducted in urban settings, with the treatment effect being much stronger in rural compared to urban settings.  Simulate a \"rural/urban\" variable, and then use _gen_study_dat_ to simulate data reflecting these heterogeneous treatment effects.  Then use generalized least squares to efficiently assess the treatment effect while accounting for both differing precisions of different studies, and heterogeneity due to the difference between rural and urban settings."
   ]
  },
  {
   "cell_type": "code",
   "execution_count": null,
   "id": "12",
   "metadata": {},
   "outputs": [],
   "source": [
    "# part 2a"
   ]
  },
  {
   "cell_type": "code",
   "execution_count": null,
   "id": "b6386256",
   "metadata": {},
   "outputs": [],
   "source": [
    "# part 2b "
   ]
  },
  {
   "cell_type": "code",
   "execution_count": null,
   "id": "e792836a",
   "metadata": {},
   "outputs": [],
   "source": [
    "# part 2c"
   ]
  },
  {
   "cell_type": "markdown",
   "id": "bb6e1024",
   "metadata": {},
   "source": [
    "**Assessment 3:**\n",
    "\n",
    "Use _gen_study_dat_ to simulate studies that fall into clusters (e.g. a cluster may be a set of studies using similar protocols).  \n",
    "\n",
    "a. Use an appropriate approach to estimate the consensus effect size.  \n",
    "\n",
    "b. For comparison, estimate the consensus effect size ignoring the clustering."
   ]
  },
  {
   "cell_type": "code",
   "execution_count": null,
   "id": "67750310",
   "metadata": {},
   "outputs": [],
   "source": [
    "# part 3a"
   ]
  },
  {
   "cell_type": "code",
   "execution_count": null,
   "id": "28cc4164",
   "metadata": {},
   "outputs": [],
   "source": [
    "# part 3b"
   ]
  }
 ],
 "metadata": {
  "kernelspec": {
   "display_name": "Python 3 (ipykernel)",
   "language": "python",
   "name": "python3"
  },
  "language_info": {
   "codemirror_mode": {
    "name": "ipython",
    "version": 3
   },
   "file_extension": ".py",
   "mimetype": "text/x-python",
   "name": "python",
   "nbconvert_exporter": "python",
   "pygments_lexer": "ipython3",
   "version": "3.10.9"
  }
 },
 "nbformat": 4,
 "nbformat_minor": 5
}
