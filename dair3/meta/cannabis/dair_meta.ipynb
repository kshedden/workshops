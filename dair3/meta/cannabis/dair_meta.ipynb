{
  "nbformat": 4,
  "nbformat_minor": 0,
  "metadata": {
    "colab": {
      "provenance": []
    },
    "kernelspec": {
      "name": "python3",
      "display_name": "Python 3"
    },
    "language_info": {
      "name": "python"
    }
  },
  "cells": [
    {
      "cell_type": "markdown",
      "source": [
        "## Meta Analysis examples\n",
        "\n",
        "In this notebook we consider two recently published meta-analyses of the psychological correlates of cannabis use:\n",
        "\n",
        "__Hindley et al.:__ [Psychiatric symptoms caused by cannabis constituents: a systematic review and meta-analysis](https://www.thelancet.com/journals/lanpsy/article/PIIS2215-0366(20)30074-2/fulltext#seccestitle10)\n",
        "\n",
        "__Schoeler et al.:__ [Assessing rates and predictors of cannabis-associated psychotic symptoms across observational, experimental and medical research](https://www.nature.com/articles/s44220-024-00261-x#code-availability)"
      ],
      "metadata": {
        "id": "Ux5tPZ800y6d"
      }
    },
    {
      "cell_type": "markdown",
      "source": [
        "__Overview of Hindley et al.__\n",
        "\n",
        "This is a focused meta-analysis of experiments that employ a [crossover design](https://en.wikipedia.org/wiki/Crossover_study) to assess the psychological effect of [tetrahydrocannabinol (THC)](https://en.wikipedia.org/wiki/Tetrahydrocannabinol), which is the primary psychoactive constituent of cannabis. In each study, healthy subjects were recruited according to eligibility criteria.  Then, in consecutive sessions subjects were administered controlled doses of THC or a placebo in a blinded fashion.  All subjects received both treatments (THC and placebo), and in some (but not all) studies the order of treatment administration was randomized.  Established symptom scales were used to quantify each subject's psychological state following each treatment.  \n",
        "\n",
        "All analysis is _within subjects_, meaning that we focus on the difference in a symptom scale between the THC and placebo treatments within each subject.\n",
        "\n",
        "The symptom scales in this work are referred to as _positive_ and _negative_.  These terms have technical meanings in psychiatry, with _positive_ here referring to delusions and hallucinations while _negative_ refers to amotivation and blunted affect.  We will focus on the positive symptom scales here.\n",
        "\n",
        "This meta-analysis imposed strict criteria for a study to be included.  Out of 517 studies that were initially considered, only 15 met the meta-analysis inclusion criterion.\n",
        "\n",
        "__Overview of Schoeler et al.__\n",
        "\n",
        "This is a synthesis of findings from experimental and observational studies of mental health sequelae of cannabis use, or of THC administration in experimental and/or medical settings.  All studies focus on psychological symptoms and associated outcomes relating to psychosis that may be caused by cannabis.  This scope includes individual symptoms as well as the outcome of seeking emergency care due to psychosis symptoms.\n",
        "\n",
        "There are essentially three distinct analyses:\n",
        "\n",
        "* The cannabis use findings aim to capture psychological symptoms in cannabis users based on observational data.  The underlying studies mainly rely on self-reported assessments of self-identified cannabis users among people who are enrolled into observational studies or who participate in web-surveys.  \n",
        "\n",
        "* The studies conducted in medical settings assess psychosis-related side effects of THC treatment for medical conditions such as pain.\n",
        "\n",
        "* The studies of THC administration in healthy subjects mostly echo the findings of the Hindley et al. study.\n"
      ],
      "metadata": {
        "id": "5mH5fy3rfkRR"
      }
    },
    {
      "cell_type": "code",
      "source": [
        "import io\n",
        "import numpy as np\n",
        "import pandas as pd\n",
        "import matplotlib.pyplot as plt\n",
        "from scipy.stats.distributions import t, chi2\n",
        "import statsmodels.api as sm"
      ],
      "metadata": {
        "id": "UP5rOWK00rmL"
      },
      "execution_count": 2,
      "outputs": []
    },
    {
      "cell_type": "markdown",
      "source": [
        "## Meta-analysis of Hindley et al.\n",
        "\n",
        "We can extract the data for the positive symptom scale from [supplementary table 2](\n",
        "https://www.thelancet.com/cms/10.1016/S2215-0366(20)30074-2/attachment/acd95ee4-1612-449d-adec-45fede8a9b51/mmc1.pdf).  Some of the key variables in the dataset are:\n",
        "\n",
        "* _n1i_, _n2i_ the treatment and placebo sample sizes, which are always equal since this is a within-subjects design\n",
        "\n",
        "* _m1i_, _m2i_ the sample means of the symptom scales for the treatment and control responses, respectively\n",
        "\n",
        "* _sd1i_, _sd2i_ the sample [standard deviations](https://en.wikipedia.org/wiki/Standard_deviation) of the symptom scales for the treatment and control conditions, respectively\n"
      ],
      "metadata": {
        "id": "L_m8D72peY_o"
      }
    },
    {
      "cell_type": "code",
      "source": [
        "dt = \"\"\"author,year,time,n1i,m1i,sd1i,n2i,m2i,sd2i,route,thc_drob,dose,prev_cannabis_mean,frequent_use,current_use,tobacco_current,age_m,Male,panss_bprs\n",
        "Barkus,2011,30,9,13.37,2.4,9,7.12,0.0,1,0,2.5,153.0,1.0,0.0,,26.3,100,1\n",
        "Bhattacharyya,2015,120,36,9.6,3.62367,36,7.26,0.582702,0,1,10.0,10.8333,0.0,0.0,25,25.97,100,1\n",
        "Bhattacharyya,2009,120,15,9.58847489,8.27122099,15,7.05801,0.24986901,0,1,10.0,8.0,0.0,0.0,46.66666667,26.7,100,1\n",
        "D'Souza,2012,10,26,12.65,3.19,26,7.96,2.18,1,1,2.133,318.0,1.0,,15.79,25.92,65.3846154,1\n",
        "D'Souza,2004,10,18,9.966837,2.71207595,18,6.813776,0.82992611,1,1,5.0,60.77,0.0,0.0,23.81,29.0,63.6363636,1\n",
        "D'Souza,2008,10,20,10.52,2.61,20,8.05,1.5,1,1,5.0,147.51,1.0,1.0,,24.8,70,1\n",
        "D'Souza,2009a,15,14,9.48755251,1.51,14,7.6335764,0.73450605,1,1,2.0774,48.86,0.0,0.0,0,25.85,78.5714286,1\n",
        "D'Souza,2009b,15,9,8.54065211,1.27455069,9,7.991526,0.866052,1,1,2.1125,141.72,1.0,1.0,11.11111111,22.66,100,1\n",
        "Kleinloog,2012,36,32,9.07,2.29,32,7.47,0.9,2,1,,292.2,1.0,0.0,0,22.3,100,1\n",
        "Liem-Moolenaar,2010,40,11,10.63,3.96,11,7.72,1.27,2,1,,,,0.0,,24.1,100,1\n",
        "Morgan,2018,NR,48,6.6870748,1.03687393,48,6.42857,1.0,2,1,8.0,,,1.0,70.83333333,21.705,70.83,0\n",
        "Morrison,2009,30,21,10.41396,5.28399034,21,7.0005403,0.0,1,0,2.5,,,0.0,,28.0,100,1\n",
        "Morrison,2011,30,16,11.3133161,3.5703548,16,7.036427,0.0,1,0,1.25,40.0,0.0,0.0,,26.0,43.75,1\n",
        "Radhakrishnan,2015,70,23,10.87,2.44,23,8.04,1.46,1,1,1.2147,296.75,1.0,,14.8148148,26.26,100,1\n",
        "Ranganathan,2012,120,26,9.68,1.93,26,7.726444,1.03775281,1,1,1.89,,,,26.66666667,27.14,86.6666667,1\"\"\"\n",
        "\n",
        "da = pd.read_csv(io.StringIO(dt))\n",
        "\n",
        "da[\"route\"] = da[\"route\"].replace({0: \"oral\", 1: \"IV\", 2: \"inhaled\"})\n",
        "da"
      ],
      "metadata": {
        "colab": {
          "base_uri": "https://localhost:8080/",
          "height": 557
        },
        "id": "60KybqjPGqOx",
        "outputId": "82df5ebd-cd50-4b0a-d871-e1aa201e7491"
      },
      "execution_count": 3,
      "outputs": [
        {
          "output_type": "execute_result",
          "data": {
            "text/plain": [
              "            author   year time  n1i        m1i      sd1i  n2i       m2i  \\\n",
              "0           Barkus   2011   30    9  13.370000  2.400000    9  7.120000   \n",
              "1    Bhattacharyya   2015  120   36   9.600000  3.623670   36  7.260000   \n",
              "2    Bhattacharyya   2009  120   15   9.588475  8.271221   15  7.058010   \n",
              "3          D'Souza   2012   10   26  12.650000  3.190000   26  7.960000   \n",
              "4          D'Souza   2004   10   18   9.966837  2.712076   18  6.813776   \n",
              "5          D'Souza   2008   10   20  10.520000  2.610000   20  8.050000   \n",
              "6          D'Souza  2009a   15   14   9.487553  1.510000   14  7.633576   \n",
              "7          D'Souza  2009b   15    9   8.540652  1.274551    9  7.991526   \n",
              "8        Kleinloog   2012   36   32   9.070000  2.290000   32  7.470000   \n",
              "9   Liem-Moolenaar   2010   40   11  10.630000  3.960000   11  7.720000   \n",
              "10          Morgan   2018   NR   48   6.687075  1.036874   48  6.428570   \n",
              "11        Morrison   2009   30   21  10.413960  5.283990   21  7.000540   \n",
              "12        Morrison   2011   30   16  11.313316  3.570355   16  7.036427   \n",
              "13   Radhakrishnan   2015   70   23  10.870000  2.440000   23  8.040000   \n",
              "14     Ranganathan   2012  120   26   9.680000  1.930000   26  7.726444   \n",
              "\n",
              "        sd2i    route  thc_drob     dose  prev_cannabis_mean  frequent_use  \\\n",
              "0   0.000000       IV         0   2.5000            153.0000           1.0   \n",
              "1   0.582702     oral         1  10.0000             10.8333           0.0   \n",
              "2   0.249869     oral         1  10.0000              8.0000           0.0   \n",
              "3   2.180000       IV         1   2.1330            318.0000           1.0   \n",
              "4   0.829926       IV         1   5.0000             60.7700           0.0   \n",
              "5   1.500000       IV         1   5.0000            147.5100           1.0   \n",
              "6   0.734506       IV         1   2.0774             48.8600           0.0   \n",
              "7   0.866052       IV         1   2.1125            141.7200           1.0   \n",
              "8   0.900000  inhaled         1      NaN            292.2000           1.0   \n",
              "9   1.270000  inhaled         1      NaN                 NaN           NaN   \n",
              "10  1.000000  inhaled         1   8.0000                 NaN           NaN   \n",
              "11  0.000000       IV         0   2.5000                 NaN           NaN   \n",
              "12  0.000000       IV         0   1.2500             40.0000           0.0   \n",
              "13  1.460000       IV         1   1.2147            296.7500           1.0   \n",
              "14  1.037753       IV         1   1.8900                 NaN           NaN   \n",
              "\n",
              "    current_use  tobacco_current   age_m        Male  panss_bprs  \n",
              "0           0.0              NaN  26.300  100.000000           1  \n",
              "1           0.0        25.000000  25.970  100.000000           1  \n",
              "2           0.0        46.666667  26.700  100.000000           1  \n",
              "3           NaN        15.790000  25.920   65.384615           1  \n",
              "4           0.0        23.810000  29.000   63.636364           1  \n",
              "5           1.0              NaN  24.800   70.000000           1  \n",
              "6           0.0         0.000000  25.850   78.571429           1  \n",
              "7           1.0        11.111111  22.660  100.000000           1  \n",
              "8           0.0         0.000000  22.300  100.000000           1  \n",
              "9           0.0              NaN  24.100  100.000000           1  \n",
              "10          1.0        70.833333  21.705   70.830000           0  \n",
              "11          0.0              NaN  28.000  100.000000           1  \n",
              "12          0.0              NaN  26.000   43.750000           1  \n",
              "13          NaN        14.814815  26.260  100.000000           1  \n",
              "14          NaN        26.666667  27.140   86.666667           1  "
            ],
            "text/html": [
              "\n",
              "  <div id=\"df-3e9f01eb-a712-4cef-9d41-982f03a8686c\" class=\"colab-df-container\">\n",
              "    <div>\n",
              "<style scoped>\n",
              "    .dataframe tbody tr th:only-of-type {\n",
              "        vertical-align: middle;\n",
              "    }\n",
              "\n",
              "    .dataframe tbody tr th {\n",
              "        vertical-align: top;\n",
              "    }\n",
              "\n",
              "    .dataframe thead th {\n",
              "        text-align: right;\n",
              "    }\n",
              "</style>\n",
              "<table border=\"1\" class=\"dataframe\">\n",
              "  <thead>\n",
              "    <tr style=\"text-align: right;\">\n",
              "      <th></th>\n",
              "      <th>author</th>\n",
              "      <th>year</th>\n",
              "      <th>time</th>\n",
              "      <th>n1i</th>\n",
              "      <th>m1i</th>\n",
              "      <th>sd1i</th>\n",
              "      <th>n2i</th>\n",
              "      <th>m2i</th>\n",
              "      <th>sd2i</th>\n",
              "      <th>route</th>\n",
              "      <th>thc_drob</th>\n",
              "      <th>dose</th>\n",
              "      <th>prev_cannabis_mean</th>\n",
              "      <th>frequent_use</th>\n",
              "      <th>current_use</th>\n",
              "      <th>tobacco_current</th>\n",
              "      <th>age_m</th>\n",
              "      <th>Male</th>\n",
              "      <th>panss_bprs</th>\n",
              "    </tr>\n",
              "  </thead>\n",
              "  <tbody>\n",
              "    <tr>\n",
              "      <th>0</th>\n",
              "      <td>Barkus</td>\n",
              "      <td>2011</td>\n",
              "      <td>30</td>\n",
              "      <td>9</td>\n",
              "      <td>13.370000</td>\n",
              "      <td>2.400000</td>\n",
              "      <td>9</td>\n",
              "      <td>7.120000</td>\n",
              "      <td>0.000000</td>\n",
              "      <td>IV</td>\n",
              "      <td>0</td>\n",
              "      <td>2.5000</td>\n",
              "      <td>153.0000</td>\n",
              "      <td>1.0</td>\n",
              "      <td>0.0</td>\n",
              "      <td>NaN</td>\n",
              "      <td>26.300</td>\n",
              "      <td>100.000000</td>\n",
              "      <td>1</td>\n",
              "    </tr>\n",
              "    <tr>\n",
              "      <th>1</th>\n",
              "      <td>Bhattacharyya</td>\n",
              "      <td>2015</td>\n",
              "      <td>120</td>\n",
              "      <td>36</td>\n",
              "      <td>9.600000</td>\n",
              "      <td>3.623670</td>\n",
              "      <td>36</td>\n",
              "      <td>7.260000</td>\n",
              "      <td>0.582702</td>\n",
              "      <td>oral</td>\n",
              "      <td>1</td>\n",
              "      <td>10.0000</td>\n",
              "      <td>10.8333</td>\n",
              "      <td>0.0</td>\n",
              "      <td>0.0</td>\n",
              "      <td>25.000000</td>\n",
              "      <td>25.970</td>\n",
              "      <td>100.000000</td>\n",
              "      <td>1</td>\n",
              "    </tr>\n",
              "    <tr>\n",
              "      <th>2</th>\n",
              "      <td>Bhattacharyya</td>\n",
              "      <td>2009</td>\n",
              "      <td>120</td>\n",
              "      <td>15</td>\n",
              "      <td>9.588475</td>\n",
              "      <td>8.271221</td>\n",
              "      <td>15</td>\n",
              "      <td>7.058010</td>\n",
              "      <td>0.249869</td>\n",
              "      <td>oral</td>\n",
              "      <td>1</td>\n",
              "      <td>10.0000</td>\n",
              "      <td>8.0000</td>\n",
              "      <td>0.0</td>\n",
              "      <td>0.0</td>\n",
              "      <td>46.666667</td>\n",
              "      <td>26.700</td>\n",
              "      <td>100.000000</td>\n",
              "      <td>1</td>\n",
              "    </tr>\n",
              "    <tr>\n",
              "      <th>3</th>\n",
              "      <td>D'Souza</td>\n",
              "      <td>2012</td>\n",
              "      <td>10</td>\n",
              "      <td>26</td>\n",
              "      <td>12.650000</td>\n",
              "      <td>3.190000</td>\n",
              "      <td>26</td>\n",
              "      <td>7.960000</td>\n",
              "      <td>2.180000</td>\n",
              "      <td>IV</td>\n",
              "      <td>1</td>\n",
              "      <td>2.1330</td>\n",
              "      <td>318.0000</td>\n",
              "      <td>1.0</td>\n",
              "      <td>NaN</td>\n",
              "      <td>15.790000</td>\n",
              "      <td>25.920</td>\n",
              "      <td>65.384615</td>\n",
              "      <td>1</td>\n",
              "    </tr>\n",
              "    <tr>\n",
              "      <th>4</th>\n",
              "      <td>D'Souza</td>\n",
              "      <td>2004</td>\n",
              "      <td>10</td>\n",
              "      <td>18</td>\n",
              "      <td>9.966837</td>\n",
              "      <td>2.712076</td>\n",
              "      <td>18</td>\n",
              "      <td>6.813776</td>\n",
              "      <td>0.829926</td>\n",
              "      <td>IV</td>\n",
              "      <td>1</td>\n",
              "      <td>5.0000</td>\n",
              "      <td>60.7700</td>\n",
              "      <td>0.0</td>\n",
              "      <td>0.0</td>\n",
              "      <td>23.810000</td>\n",
              "      <td>29.000</td>\n",
              "      <td>63.636364</td>\n",
              "      <td>1</td>\n",
              "    </tr>\n",
              "    <tr>\n",
              "      <th>5</th>\n",
              "      <td>D'Souza</td>\n",
              "      <td>2008</td>\n",
              "      <td>10</td>\n",
              "      <td>20</td>\n",
              "      <td>10.520000</td>\n",
              "      <td>2.610000</td>\n",
              "      <td>20</td>\n",
              "      <td>8.050000</td>\n",
              "      <td>1.500000</td>\n",
              "      <td>IV</td>\n",
              "      <td>1</td>\n",
              "      <td>5.0000</td>\n",
              "      <td>147.5100</td>\n",
              "      <td>1.0</td>\n",
              "      <td>1.0</td>\n",
              "      <td>NaN</td>\n",
              "      <td>24.800</td>\n",
              "      <td>70.000000</td>\n",
              "      <td>1</td>\n",
              "    </tr>\n",
              "    <tr>\n",
              "      <th>6</th>\n",
              "      <td>D'Souza</td>\n",
              "      <td>2009a</td>\n",
              "      <td>15</td>\n",
              "      <td>14</td>\n",
              "      <td>9.487553</td>\n",
              "      <td>1.510000</td>\n",
              "      <td>14</td>\n",
              "      <td>7.633576</td>\n",
              "      <td>0.734506</td>\n",
              "      <td>IV</td>\n",
              "      <td>1</td>\n",
              "      <td>2.0774</td>\n",
              "      <td>48.8600</td>\n",
              "      <td>0.0</td>\n",
              "      <td>0.0</td>\n",
              "      <td>0.000000</td>\n",
              "      <td>25.850</td>\n",
              "      <td>78.571429</td>\n",
              "      <td>1</td>\n",
              "    </tr>\n",
              "    <tr>\n",
              "      <th>7</th>\n",
              "      <td>D'Souza</td>\n",
              "      <td>2009b</td>\n",
              "      <td>15</td>\n",
              "      <td>9</td>\n",
              "      <td>8.540652</td>\n",
              "      <td>1.274551</td>\n",
              "      <td>9</td>\n",
              "      <td>7.991526</td>\n",
              "      <td>0.866052</td>\n",
              "      <td>IV</td>\n",
              "      <td>1</td>\n",
              "      <td>2.1125</td>\n",
              "      <td>141.7200</td>\n",
              "      <td>1.0</td>\n",
              "      <td>1.0</td>\n",
              "      <td>11.111111</td>\n",
              "      <td>22.660</td>\n",
              "      <td>100.000000</td>\n",
              "      <td>1</td>\n",
              "    </tr>\n",
              "    <tr>\n",
              "      <th>8</th>\n",
              "      <td>Kleinloog</td>\n",
              "      <td>2012</td>\n",
              "      <td>36</td>\n",
              "      <td>32</td>\n",
              "      <td>9.070000</td>\n",
              "      <td>2.290000</td>\n",
              "      <td>32</td>\n",
              "      <td>7.470000</td>\n",
              "      <td>0.900000</td>\n",
              "      <td>inhaled</td>\n",
              "      <td>1</td>\n",
              "      <td>NaN</td>\n",
              "      <td>292.2000</td>\n",
              "      <td>1.0</td>\n",
              "      <td>0.0</td>\n",
              "      <td>0.000000</td>\n",
              "      <td>22.300</td>\n",
              "      <td>100.000000</td>\n",
              "      <td>1</td>\n",
              "    </tr>\n",
              "    <tr>\n",
              "      <th>9</th>\n",
              "      <td>Liem-Moolenaar</td>\n",
              "      <td>2010</td>\n",
              "      <td>40</td>\n",
              "      <td>11</td>\n",
              "      <td>10.630000</td>\n",
              "      <td>3.960000</td>\n",
              "      <td>11</td>\n",
              "      <td>7.720000</td>\n",
              "      <td>1.270000</td>\n",
              "      <td>inhaled</td>\n",
              "      <td>1</td>\n",
              "      <td>NaN</td>\n",
              "      <td>NaN</td>\n",
              "      <td>NaN</td>\n",
              "      <td>0.0</td>\n",
              "      <td>NaN</td>\n",
              "      <td>24.100</td>\n",
              "      <td>100.000000</td>\n",
              "      <td>1</td>\n",
              "    </tr>\n",
              "    <tr>\n",
              "      <th>10</th>\n",
              "      <td>Morgan</td>\n",
              "      <td>2018</td>\n",
              "      <td>NR</td>\n",
              "      <td>48</td>\n",
              "      <td>6.687075</td>\n",
              "      <td>1.036874</td>\n",
              "      <td>48</td>\n",
              "      <td>6.428570</td>\n",
              "      <td>1.000000</td>\n",
              "      <td>inhaled</td>\n",
              "      <td>1</td>\n",
              "      <td>8.0000</td>\n",
              "      <td>NaN</td>\n",
              "      <td>NaN</td>\n",
              "      <td>1.0</td>\n",
              "      <td>70.833333</td>\n",
              "      <td>21.705</td>\n",
              "      <td>70.830000</td>\n",
              "      <td>0</td>\n",
              "    </tr>\n",
              "    <tr>\n",
              "      <th>11</th>\n",
              "      <td>Morrison</td>\n",
              "      <td>2009</td>\n",
              "      <td>30</td>\n",
              "      <td>21</td>\n",
              "      <td>10.413960</td>\n",
              "      <td>5.283990</td>\n",
              "      <td>21</td>\n",
              "      <td>7.000540</td>\n",
              "      <td>0.000000</td>\n",
              "      <td>IV</td>\n",
              "      <td>0</td>\n",
              "      <td>2.5000</td>\n",
              "      <td>NaN</td>\n",
              "      <td>NaN</td>\n",
              "      <td>0.0</td>\n",
              "      <td>NaN</td>\n",
              "      <td>28.000</td>\n",
              "      <td>100.000000</td>\n",
              "      <td>1</td>\n",
              "    </tr>\n",
              "    <tr>\n",
              "      <th>12</th>\n",
              "      <td>Morrison</td>\n",
              "      <td>2011</td>\n",
              "      <td>30</td>\n",
              "      <td>16</td>\n",
              "      <td>11.313316</td>\n",
              "      <td>3.570355</td>\n",
              "      <td>16</td>\n",
              "      <td>7.036427</td>\n",
              "      <td>0.000000</td>\n",
              "      <td>IV</td>\n",
              "      <td>0</td>\n",
              "      <td>1.2500</td>\n",
              "      <td>40.0000</td>\n",
              "      <td>0.0</td>\n",
              "      <td>0.0</td>\n",
              "      <td>NaN</td>\n",
              "      <td>26.000</td>\n",
              "      <td>43.750000</td>\n",
              "      <td>1</td>\n",
              "    </tr>\n",
              "    <tr>\n",
              "      <th>13</th>\n",
              "      <td>Radhakrishnan</td>\n",
              "      <td>2015</td>\n",
              "      <td>70</td>\n",
              "      <td>23</td>\n",
              "      <td>10.870000</td>\n",
              "      <td>2.440000</td>\n",
              "      <td>23</td>\n",
              "      <td>8.040000</td>\n",
              "      <td>1.460000</td>\n",
              "      <td>IV</td>\n",
              "      <td>1</td>\n",
              "      <td>1.2147</td>\n",
              "      <td>296.7500</td>\n",
              "      <td>1.0</td>\n",
              "      <td>NaN</td>\n",
              "      <td>14.814815</td>\n",
              "      <td>26.260</td>\n",
              "      <td>100.000000</td>\n",
              "      <td>1</td>\n",
              "    </tr>\n",
              "    <tr>\n",
              "      <th>14</th>\n",
              "      <td>Ranganathan</td>\n",
              "      <td>2012</td>\n",
              "      <td>120</td>\n",
              "      <td>26</td>\n",
              "      <td>9.680000</td>\n",
              "      <td>1.930000</td>\n",
              "      <td>26</td>\n",
              "      <td>7.726444</td>\n",
              "      <td>1.037753</td>\n",
              "      <td>IV</td>\n",
              "      <td>1</td>\n",
              "      <td>1.8900</td>\n",
              "      <td>NaN</td>\n",
              "      <td>NaN</td>\n",
              "      <td>NaN</td>\n",
              "      <td>26.666667</td>\n",
              "      <td>27.140</td>\n",
              "      <td>86.666667</td>\n",
              "      <td>1</td>\n",
              "    </tr>\n",
              "  </tbody>\n",
              "</table>\n",
              "</div>\n",
              "    <div class=\"colab-df-buttons\">\n",
              "\n",
              "  <div class=\"colab-df-container\">\n",
              "    <button class=\"colab-df-convert\" onclick=\"convertToInteractive('df-3e9f01eb-a712-4cef-9d41-982f03a8686c')\"\n",
              "            title=\"Convert this dataframe to an interactive table.\"\n",
              "            style=\"display:none;\">\n",
              "\n",
              "  <svg xmlns=\"http://www.w3.org/2000/svg\" height=\"24px\" viewBox=\"0 -960 960 960\">\n",
              "    <path d=\"M120-120v-720h720v720H120Zm60-500h600v-160H180v160Zm220 220h160v-160H400v160Zm0 220h160v-160H400v160ZM180-400h160v-160H180v160Zm440 0h160v-160H620v160ZM180-180h160v-160H180v160Zm440 0h160v-160H620v160Z\"/>\n",
              "  </svg>\n",
              "    </button>\n",
              "\n",
              "  <style>\n",
              "    .colab-df-container {\n",
              "      display:flex;\n",
              "      gap: 12px;\n",
              "    }\n",
              "\n",
              "    .colab-df-convert {\n",
              "      background-color: #E8F0FE;\n",
              "      border: none;\n",
              "      border-radius: 50%;\n",
              "      cursor: pointer;\n",
              "      display: none;\n",
              "      fill: #1967D2;\n",
              "      height: 32px;\n",
              "      padding: 0 0 0 0;\n",
              "      width: 32px;\n",
              "    }\n",
              "\n",
              "    .colab-df-convert:hover {\n",
              "      background-color: #E2EBFA;\n",
              "      box-shadow: 0px 1px 2px rgba(60, 64, 67, 0.3), 0px 1px 3px 1px rgba(60, 64, 67, 0.15);\n",
              "      fill: #174EA6;\n",
              "    }\n",
              "\n",
              "    .colab-df-buttons div {\n",
              "      margin-bottom: 4px;\n",
              "    }\n",
              "\n",
              "    [theme=dark] .colab-df-convert {\n",
              "      background-color: #3B4455;\n",
              "      fill: #D2E3FC;\n",
              "    }\n",
              "\n",
              "    [theme=dark] .colab-df-convert:hover {\n",
              "      background-color: #434B5C;\n",
              "      box-shadow: 0px 1px 3px 1px rgba(0, 0, 0, 0.15);\n",
              "      filter: drop-shadow(0px 1px 2px rgba(0, 0, 0, 0.3));\n",
              "      fill: #FFFFFF;\n",
              "    }\n",
              "  </style>\n",
              "\n",
              "    <script>\n",
              "      const buttonEl =\n",
              "        document.querySelector('#df-3e9f01eb-a712-4cef-9d41-982f03a8686c button.colab-df-convert');\n",
              "      buttonEl.style.display =\n",
              "        google.colab.kernel.accessAllowed ? 'block' : 'none';\n",
              "\n",
              "      async function convertToInteractive(key) {\n",
              "        const element = document.querySelector('#df-3e9f01eb-a712-4cef-9d41-982f03a8686c');\n",
              "        const dataTable =\n",
              "          await google.colab.kernel.invokeFunction('convertToInteractive',\n",
              "                                                    [key], {});\n",
              "        if (!dataTable) return;\n",
              "\n",
              "        const docLinkHtml = 'Like what you see? Visit the ' +\n",
              "          '<a target=\"_blank\" href=https://colab.research.google.com/notebooks/data_table.ipynb>data table notebook</a>'\n",
              "          + ' to learn more about interactive tables.';\n",
              "        element.innerHTML = '';\n",
              "        dataTable['output_type'] = 'display_data';\n",
              "        await google.colab.output.renderOutput(dataTable, element);\n",
              "        const docLink = document.createElement('div');\n",
              "        docLink.innerHTML = docLinkHtml;\n",
              "        element.appendChild(docLink);\n",
              "      }\n",
              "    </script>\n",
              "  </div>\n",
              "\n",
              "\n",
              "<div id=\"df-66beab9c-aa53-40a6-996d-313494c8f2de\">\n",
              "  <button class=\"colab-df-quickchart\" onclick=\"quickchart('df-66beab9c-aa53-40a6-996d-313494c8f2de')\"\n",
              "            title=\"Suggest charts\"\n",
              "            style=\"display:none;\">\n",
              "\n",
              "<svg xmlns=\"http://www.w3.org/2000/svg\" height=\"24px\"viewBox=\"0 0 24 24\"\n",
              "     width=\"24px\">\n",
              "    <g>\n",
              "        <path d=\"M19 3H5c-1.1 0-2 .9-2 2v14c0 1.1.9 2 2 2h14c1.1 0 2-.9 2-2V5c0-1.1-.9-2-2-2zM9 17H7v-7h2v7zm4 0h-2V7h2v10zm4 0h-2v-4h2v4z\"/>\n",
              "    </g>\n",
              "</svg>\n",
              "  </button>\n",
              "\n",
              "<style>\n",
              "  .colab-df-quickchart {\n",
              "      --bg-color: #E8F0FE;\n",
              "      --fill-color: #1967D2;\n",
              "      --hover-bg-color: #E2EBFA;\n",
              "      --hover-fill-color: #174EA6;\n",
              "      --disabled-fill-color: #AAA;\n",
              "      --disabled-bg-color: #DDD;\n",
              "  }\n",
              "\n",
              "  [theme=dark] .colab-df-quickchart {\n",
              "      --bg-color: #3B4455;\n",
              "      --fill-color: #D2E3FC;\n",
              "      --hover-bg-color: #434B5C;\n",
              "      --hover-fill-color: #FFFFFF;\n",
              "      --disabled-bg-color: #3B4455;\n",
              "      --disabled-fill-color: #666;\n",
              "  }\n",
              "\n",
              "  .colab-df-quickchart {\n",
              "    background-color: var(--bg-color);\n",
              "    border: none;\n",
              "    border-radius: 50%;\n",
              "    cursor: pointer;\n",
              "    display: none;\n",
              "    fill: var(--fill-color);\n",
              "    height: 32px;\n",
              "    padding: 0;\n",
              "    width: 32px;\n",
              "  }\n",
              "\n",
              "  .colab-df-quickchart:hover {\n",
              "    background-color: var(--hover-bg-color);\n",
              "    box-shadow: 0 1px 2px rgba(60, 64, 67, 0.3), 0 1px 3px 1px rgba(60, 64, 67, 0.15);\n",
              "    fill: var(--button-hover-fill-color);\n",
              "  }\n",
              "\n",
              "  .colab-df-quickchart-complete:disabled,\n",
              "  .colab-df-quickchart-complete:disabled:hover {\n",
              "    background-color: var(--disabled-bg-color);\n",
              "    fill: var(--disabled-fill-color);\n",
              "    box-shadow: none;\n",
              "  }\n",
              "\n",
              "  .colab-df-spinner {\n",
              "    border: 2px solid var(--fill-color);\n",
              "    border-color: transparent;\n",
              "    border-bottom-color: var(--fill-color);\n",
              "    animation:\n",
              "      spin 1s steps(1) infinite;\n",
              "  }\n",
              "\n",
              "  @keyframes spin {\n",
              "    0% {\n",
              "      border-color: transparent;\n",
              "      border-bottom-color: var(--fill-color);\n",
              "      border-left-color: var(--fill-color);\n",
              "    }\n",
              "    20% {\n",
              "      border-color: transparent;\n",
              "      border-left-color: var(--fill-color);\n",
              "      border-top-color: var(--fill-color);\n",
              "    }\n",
              "    30% {\n",
              "      border-color: transparent;\n",
              "      border-left-color: var(--fill-color);\n",
              "      border-top-color: var(--fill-color);\n",
              "      border-right-color: var(--fill-color);\n",
              "    }\n",
              "    40% {\n",
              "      border-color: transparent;\n",
              "      border-right-color: var(--fill-color);\n",
              "      border-top-color: var(--fill-color);\n",
              "    }\n",
              "    60% {\n",
              "      border-color: transparent;\n",
              "      border-right-color: var(--fill-color);\n",
              "    }\n",
              "    80% {\n",
              "      border-color: transparent;\n",
              "      border-right-color: var(--fill-color);\n",
              "      border-bottom-color: var(--fill-color);\n",
              "    }\n",
              "    90% {\n",
              "      border-color: transparent;\n",
              "      border-bottom-color: var(--fill-color);\n",
              "    }\n",
              "  }\n",
              "</style>\n",
              "\n",
              "  <script>\n",
              "    async function quickchart(key) {\n",
              "      const quickchartButtonEl =\n",
              "        document.querySelector('#' + key + ' button');\n",
              "      quickchartButtonEl.disabled = true;  // To prevent multiple clicks.\n",
              "      quickchartButtonEl.classList.add('colab-df-spinner');\n",
              "      try {\n",
              "        const charts = await google.colab.kernel.invokeFunction(\n",
              "            'suggestCharts', [key], {});\n",
              "      } catch (error) {\n",
              "        console.error('Error during call to suggestCharts:', error);\n",
              "      }\n",
              "      quickchartButtonEl.classList.remove('colab-df-spinner');\n",
              "      quickchartButtonEl.classList.add('colab-df-quickchart-complete');\n",
              "    }\n",
              "    (() => {\n",
              "      let quickchartButtonEl =\n",
              "        document.querySelector('#df-66beab9c-aa53-40a6-996d-313494c8f2de button');\n",
              "      quickchartButtonEl.style.display =\n",
              "        google.colab.kernel.accessAllowed ? 'block' : 'none';\n",
              "    })();\n",
              "  </script>\n",
              "</div>\n",
              "\n",
              "  <div id=\"id_e6c13585-c959-4dff-9181-36a9f4d82c0c\">\n",
              "    <style>\n",
              "      .colab-df-generate {\n",
              "        background-color: #E8F0FE;\n",
              "        border: none;\n",
              "        border-radius: 50%;\n",
              "        cursor: pointer;\n",
              "        display: none;\n",
              "        fill: #1967D2;\n",
              "        height: 32px;\n",
              "        padding: 0 0 0 0;\n",
              "        width: 32px;\n",
              "      }\n",
              "\n",
              "      .colab-df-generate:hover {\n",
              "        background-color: #E2EBFA;\n",
              "        box-shadow: 0px 1px 2px rgba(60, 64, 67, 0.3), 0px 1px 3px 1px rgba(60, 64, 67, 0.15);\n",
              "        fill: #174EA6;\n",
              "      }\n",
              "\n",
              "      [theme=dark] .colab-df-generate {\n",
              "        background-color: #3B4455;\n",
              "        fill: #D2E3FC;\n",
              "      }\n",
              "\n",
              "      [theme=dark] .colab-df-generate:hover {\n",
              "        background-color: #434B5C;\n",
              "        box-shadow: 0px 1px 3px 1px rgba(0, 0, 0, 0.15);\n",
              "        filter: drop-shadow(0px 1px 2px rgba(0, 0, 0, 0.3));\n",
              "        fill: #FFFFFF;\n",
              "      }\n",
              "    </style>\n",
              "    <button class=\"colab-df-generate\" onclick=\"generateWithVariable('da')\"\n",
              "            title=\"Generate code using this dataframe.\"\n",
              "            style=\"display:none;\">\n",
              "\n",
              "  <svg xmlns=\"http://www.w3.org/2000/svg\" height=\"24px\"viewBox=\"0 0 24 24\"\n",
              "       width=\"24px\">\n",
              "    <path d=\"M7,19H8.4L18.45,9,17,7.55,7,17.6ZM5,21V16.75L18.45,3.32a2,2,0,0,1,2.83,0l1.4,1.43a1.91,1.91,0,0,1,.58,1.4,1.91,1.91,0,0,1-.58,1.4L9.25,21ZM18.45,9,17,7.55Zm-12,3A5.31,5.31,0,0,0,4.9,8.1,5.31,5.31,0,0,0,1,6.5,5.31,5.31,0,0,0,4.9,4.9,5.31,5.31,0,0,0,6.5,1,5.31,5.31,0,0,0,8.1,4.9,5.31,5.31,0,0,0,12,6.5,5.46,5.46,0,0,0,6.5,12Z\"/>\n",
              "  </svg>\n",
              "    </button>\n",
              "    <script>\n",
              "      (() => {\n",
              "      const buttonEl =\n",
              "        document.querySelector('#id_e6c13585-c959-4dff-9181-36a9f4d82c0c button.colab-df-generate');\n",
              "      buttonEl.style.display =\n",
              "        google.colab.kernel.accessAllowed ? 'block' : 'none';\n",
              "\n",
              "      buttonEl.onclick = () => {\n",
              "        google.colab.notebook.generateWithVariable('da');\n",
              "      }\n",
              "      })();\n",
              "    </script>\n",
              "  </div>\n",
              "\n",
              "    </div>\n",
              "  </div>\n"
            ],
            "application/vnd.google.colaboratory.intrinsic+json": {
              "type": "dataframe",
              "variable_name": "da",
              "summary": "{\n  \"name\": \"da\",\n  \"rows\": 15,\n  \"fields\": [\n    {\n      \"column\": \"author\",\n      \"properties\": {\n        \"dtype\": \"string\",\n        \"num_unique_values\": 9,\n        \"samples\": [\n          \"Radhakrishnan\",\n          \"Bhattacharyya\",\n          \"Morgan\"\n        ],\n        \"semantic_type\": \"\",\n        \"description\": \"\"\n      }\n    },\n    {\n      \"column\": \"year\",\n      \"properties\": {\n        \"dtype\": \"string\",\n        \"num_unique_values\": 10,\n        \"samples\": [\n          \"2010\",\n          \"2015\",\n          \"2008\"\n        ],\n        \"semantic_type\": \"\",\n        \"description\": \"\"\n      }\n    },\n    {\n      \"column\": \"time\",\n      \"properties\": {\n        \"dtype\": \"string\",\n        \"num_unique_values\": 8,\n        \"samples\": [\n          \"120\",\n          \"40\",\n          \"30\"\n        ],\n        \"semantic_type\": \"\",\n        \"description\": \"\"\n      }\n    },\n    {\n      \"column\": \"n1i\",\n      \"properties\": {\n        \"dtype\": \"number\",\n        \"std\": 10,\n        \"min\": 9,\n        \"max\": 48,\n        \"num_unique_values\": 13,\n        \"samples\": [\n          16,\n          48,\n          9\n        ],\n        \"semantic_type\": \"\",\n        \"description\": \"\"\n      }\n    },\n    {\n      \"column\": \"m1i\",\n      \"properties\": {\n        \"dtype\": \"number\",\n        \"std\": 1.6032368921114935,\n        \"min\": 6.6870748,\n        \"max\": 13.37,\n        \"num_unique_values\": 15,\n        \"samples\": [\n          10.63,\n          10.41396,\n          13.37\n        ],\n        \"semantic_type\": \"\",\n        \"description\": \"\"\n      }\n    },\n    {\n      \"column\": \"sd1i\",\n      \"properties\": {\n        \"dtype\": \"number\",\n        \"std\": 1.8166299737905456,\n        \"min\": 1.03687393,\n        \"max\": 8.27122099,\n        \"num_unique_values\": 15,\n        \"samples\": [\n          3.96,\n          5.28399034,\n          2.4\n        ],\n        \"semantic_type\": \"\",\n        \"description\": \"\"\n      }\n    },\n    {\n      \"column\": \"n2i\",\n      \"properties\": {\n        \"dtype\": \"number\",\n        \"std\": 10,\n        \"min\": 9,\n        \"max\": 48,\n        \"num_unique_values\": 13,\n        \"samples\": [\n          16,\n          48,\n          9\n        ],\n        \"semantic_type\": \"\",\n        \"description\": \"\"\n      }\n    },\n    {\n      \"column\": \"m2i\",\n      \"properties\": {\n        \"dtype\": \"number\",\n        \"std\": 0.5036801675883912,\n        \"min\": 6.42857,\n        \"max\": 8.05,\n        \"num_unique_values\": 15,\n        \"samples\": [\n          7.72,\n          7.0005403,\n          7.12\n        ],\n        \"semantic_type\": \"\",\n        \"description\": \"\"\n      }\n    },\n    {\n      \"column\": \"sd2i\",\n      \"properties\": {\n        \"dtype\": \"number\",\n        \"std\": 0.6217466408651958,\n        \"min\": 0.0,\n        \"max\": 2.18,\n        \"num_unique_values\": 13,\n        \"samples\": [\n          1.46,\n          1.27,\n          0.0\n        ],\n        \"semantic_type\": \"\",\n        \"description\": \"\"\n      }\n    },\n    {\n      \"column\": \"route\",\n      \"properties\": {\n        \"dtype\": \"category\",\n        \"num_unique_values\": 3,\n        \"samples\": [\n          \"IV\",\n          \"oral\",\n          \"inhaled\"\n        ],\n        \"semantic_type\": \"\",\n        \"description\": \"\"\n      }\n    },\n    {\n      \"column\": \"thc_drob\",\n      \"properties\": {\n        \"dtype\": \"number\",\n        \"std\": 0,\n        \"min\": 0,\n        \"max\": 1,\n        \"num_unique_values\": 2,\n        \"samples\": [\n          1,\n          0\n        ],\n        \"semantic_type\": \"\",\n        \"description\": \"\"\n      }\n    },\n    {\n      \"column\": \"dose\",\n      \"properties\": {\n        \"dtype\": \"number\",\n        \"std\": 3.2249127155153063,\n        \"min\": 1.2147,\n        \"max\": 10.0,\n        \"num_unique_values\": 10,\n        \"samples\": [\n          1.2147,\n          10.0\n        ],\n        \"semantic_type\": \"\",\n        \"description\": \"\"\n      }\n    },\n    {\n      \"column\": \"prev_cannabis_mean\",\n      \"properties\": {\n        \"dtype\": \"number\",\n        \"std\": 117.5985763187981,\n        \"min\": 8.0,\n        \"max\": 318.0,\n        \"num_unique_values\": 11,\n        \"samples\": [\n          147.51,\n          153.0\n        ],\n        \"semantic_type\": \"\",\n        \"description\": \"\"\n      }\n    },\n    {\n      \"column\": \"frequent_use\",\n      \"properties\": {\n        \"dtype\": \"number\",\n        \"std\": 0.5222329678670935,\n        \"min\": 0.0,\n        \"max\": 1.0,\n        \"num_unique_values\": 2,\n        \"samples\": [\n          0.0,\n          1.0\n        ],\n        \"semantic_type\": \"\",\n        \"description\": \"\"\n      }\n    },\n    {\n      \"column\": \"current_use\",\n      \"properties\": {\n        \"dtype\": \"number\",\n        \"std\": 0.45226701686664544,\n        \"min\": 0.0,\n        \"max\": 1.0,\n        \"num_unique_values\": 2,\n        \"samples\": [\n          1.0,\n          0.0\n        ],\n        \"semantic_type\": \"\",\n        \"description\": \"\"\n      }\n    },\n    {\n      \"column\": \"tobacco_current\",\n      \"properties\": {\n        \"dtype\": \"number\",\n        \"std\": 21.55706748372675,\n        \"min\": 0.0,\n        \"max\": 70.83333333,\n        \"num_unique_values\": 9,\n        \"samples\": [\n          14.8148148,\n          46.66666667\n        ],\n        \"semantic_type\": \"\",\n        \"description\": \"\"\n      }\n    },\n    {\n      \"column\": \"age_m\",\n      \"properties\": {\n        \"dtype\": \"number\",\n        \"std\": 2.066256506917995,\n        \"min\": 21.705,\n        \"max\": 29.0,\n        \"num_unique_values\": 15,\n        \"samples\": [\n          24.1,\n          28.0\n        ],\n        \"semantic_type\": \"\",\n        \"description\": \"\"\n      }\n    },\n    {\n      \"column\": \"Male\",\n      \"properties\": {\n        \"dtype\": \"number\",\n        \"std\": 18.538842264808657,\n        \"min\": 43.75,\n        \"max\": 100.0,\n        \"num_unique_values\": 8,\n        \"samples\": [\n          65.3846154,\n          70.83\n        ],\n        \"semantic_type\": \"\",\n        \"description\": \"\"\n      }\n    },\n    {\n      \"column\": \"panss_bprs\",\n      \"properties\": {\n        \"dtype\": \"number\",\n        \"std\": 0,\n        \"min\": 0,\n        \"max\": 1,\n        \"num_unique_values\": 2,\n        \"samples\": [\n          0,\n          1\n        ],\n        \"semantic_type\": \"\",\n        \"description\": \"\"\n      }\n    }\n  ]\n}"
            }
          },
          "metadata": {},
          "execution_count": 3
        }
      ]
    },
    {
      "cell_type": "markdown",
      "source": [
        "## Informal analyses\n",
        "\n",
        "Before proceeding to a more formal meta-analysis, we first use visualization to explore the data.\n",
        "\n",
        "The first two plots below show the relationship between the standard deviation and mean, first in the treatment condition and then in the placebo condition. A few immediate insights are:\n",
        "\n",
        "* There is a weak but evident mean/variance relationship, in which the studies with greater means tend to have greater standard deviation.\n",
        "\n",
        "* Three of the studies report zero standard deviation in the placebo condition."
      ],
      "metadata": {
        "id": "hmCWQJshl4f9"
      }
    },
    {
      "cell_type": "code",
      "source": [
        "plt.grid(True)\n",
        "plt.plot(da[\"m1i\"], da[\"sd1i\"], \"o\")\n",
        "plt.xlabel(\"Treatment mean\")\n",
        "plt.ylabel(\"Treatment standard deviation\")"
      ],
      "metadata": {
        "colab": {
          "base_uri": "https://localhost:8080/",
          "height": 467
        },
        "id": "mm_95XbzlCfG",
        "outputId": "cca5c1b0-16a3-4420-d0cc-4dd12de674db"
      },
      "execution_count": 4,
      "outputs": [
        {
          "output_type": "execute_result",
          "data": {
            "text/plain": [
              "Text(0, 0.5, 'Treatment standard deviation')"
            ]
          },
          "metadata": {},
          "execution_count": 4
        },
        {
          "output_type": "display_data",
          "data": {
            "text/plain": [
              "<Figure size 640x480 with 1 Axes>"
            ],
            "image/png": "[encoded data removed]"
          },
          "metadata": {}
        }
      ]
    },
    {
      "cell_type": "code",
      "source": [
        "plt.grid(True)\n",
        "plt.plot(da[\"m2i\"], da[\"sd2i\"], \"o\")\n",
        "plt.xlabel(\"Placebo mean\")\n",
        "plt.ylabel(\"Placebo standard deviation\")"
      ],
      "metadata": {
        "colab": {
          "base_uri": "https://localhost:8080/",
          "height": 467
        },
        "id": "zEWDLOuXmLQK",
        "outputId": "79ce4e3f-7f30-4f33-ea93-9a51c83dad07"
      },
      "execution_count": 5,
      "outputs": [
        {
          "output_type": "execute_result",
          "data": {
            "text/plain": [
              "Text(0, 0.5, 'Placebo standard deviation')"
            ]
          },
          "metadata": {},
          "execution_count": 5
        },
        {
          "output_type": "display_data",
          "data": {
            "text/plain": [
              "<Figure size 640x480 with 1 Axes>"
            ],
            "image/png": "[encoded data removed]"
          },
          "metadata": {}
        }
      ]
    },
    {
      "cell_type": "markdown",
      "source": [
        "The scatterplot below examines the relationship between the treatment and placebo mean responses.  If there is a lot of heterogeneity in baseline risk, this plot will show a positive trend.  Although no such trend is evident here, it is notable that the same study has the lowest mean for both the placebo and treatment conditions."
      ],
      "metadata": {
        "id": "jj7G5uu3pSVg"
      }
    },
    {
      "cell_type": "code",
      "source": [
        "plt.grid(True)\n",
        "plt.plot(da[\"m1i\"], da[\"m2i\"], \"o\")\n",
        "plt.xlabel(\"Treatment mean\")\n",
        "plt.ylabel(\"Placebo mean\")"
      ],
      "metadata": {
        "colab": {
          "base_uri": "https://localhost:8080/",
          "height": 467
        },
        "id": "egViTvcFo8aV",
        "outputId": "81342f88-73e5-4954-f311-9d83cd0088bc"
      },
      "execution_count": 6,
      "outputs": [
        {
          "output_type": "execute_result",
          "data": {
            "text/plain": [
              "Text(0, 0.5, 'Placebo mean')"
            ]
          },
          "metadata": {},
          "execution_count": 6
        },
        {
          "output_type": "display_data",
          "data": {
            "text/plain": [
              "<Figure size 640x480 with 1 Axes>"
            ],
            "image/png": "[encoded data removed]"
          },
          "metadata": {}
        }
      ]
    },
    {
      "cell_type": "markdown",
      "source": [
        "The scatterplot below examines the standard deviations in the placebo and active conditions.  There is no evident relationship between the two standard deviations."
      ],
      "metadata": {
        "id": "ybpgpTM5NJkk"
      }
    },
    {
      "cell_type": "code",
      "source": [
        "plt.grid(True)\n",
        "plt.plot(da[\"sd1i\"], da[\"sd2i\"], \"o\")\n",
        "plt.xlabel(\"Treatment standard deviation\")\n",
        "plt.ylabel(\"Placebo standard deviation\")"
      ],
      "metadata": {
        "colab": {
          "base_uri": "https://localhost:8080/",
          "height": 467
        },
        "id": "RMCcQcAapF1F",
        "outputId": "47d3a68f-e849-4635-cb12-6f4c142052d0"
      },
      "execution_count": 7,
      "outputs": [
        {
          "output_type": "execute_result",
          "data": {
            "text/plain": [
              "Text(0, 0.5, 'Placebo standard deviation')"
            ]
          },
          "metadata": {},
          "execution_count": 7
        },
        {
          "output_type": "display_data",
          "data": {
            "text/plain": [
              "<Figure size 640x480 with 1 Axes>"
            ],
            "image/png": "[encoded data removed]"
          },
          "metadata": {}
        }
      ]
    },
    {
      "cell_type": "markdown",
      "source": [
        "The next two scatterplots show the treamtent and placebo sample sizes against their respective means.\n",
        "\n",
        "There is little evidence of a systematic difference in the estimated treatment arm responses between smaller and larger studies, and this is also true for the placebo arm responses."
      ],
      "metadata": {
        "id": "PfHmv53goPwS"
      }
    },
    {
      "cell_type": "code",
      "source": [
        "plt.grid(True)\n",
        "plt.plot(da[\"n1i\"], da[\"m1i\"], \"o\")\n",
        "plt.xlabel(\"Treatment sample size\")\n",
        "plt.ylabel(\"Treatment mean\")"
      ],
      "metadata": {
        "colab": {
          "base_uri": "https://localhost:8080/",
          "height": 467
        },
        "id": "Y34naGQ7j80s",
        "outputId": "3b8d72fb-1e36-42ce-dfbb-59342d6f575b"
      },
      "execution_count": 8,
      "outputs": [
        {
          "output_type": "execute_result",
          "data": {
            "text/plain": [
              "Text(0, 0.5, 'Treatment mean')"
            ]
          },
          "metadata": {},
          "execution_count": 8
        },
        {
          "output_type": "display_data",
          "data": {
            "text/plain": [
              "<Figure size 640x480 with 1 Axes>"
            ],
            "image/png": "[encoded data removed]"
          },
          "metadata": {}
        }
      ]
    },
    {
      "cell_type": "code",
      "source": [
        "plt.grid(True)\n",
        "plt.plot(da[\"n2i\"], da[\"m2i\"], \"o\")\n",
        "plt.xlabel(\"Placebo sample size\")\n",
        "plt.ylabel(\"Placebo mean\")"
      ],
      "metadata": {
        "colab": {
          "base_uri": "https://localhost:8080/",
          "height": 467
        },
        "id": "L-LlH1ZTkPuA",
        "outputId": "0584ff2b-8f3d-44f2-b300-e70bcbb564a7"
      },
      "execution_count": 9,
      "outputs": [
        {
          "output_type": "execute_result",
          "data": {
            "text/plain": [
              "Text(0, 0.5, 'Placebo mean')"
            ]
          },
          "metadata": {},
          "execution_count": 9
        },
        {
          "output_type": "display_data",
          "data": {
            "text/plain": [
              "<Figure size 640x480 with 1 Axes>"
            ],
            "image/png": "[encoded data removed]"
          },
          "metadata": {}
        }
      ]
    },
    {
      "cell_type": "markdown",
      "source": [
        "The scatterplot below shows the placebo mean plotted against the treatment mean.  The grey line is the line of equality and it is evident that in all studies, the treatment mean is greater than the placebo mean."
      ],
      "metadata": {
        "id": "MOZU5usint8o"
      }
    },
    {
      "cell_type": "code",
      "source": [
        "plt.grid(True)\n",
        "plt.plot(da[\"m1i\"], da[\"m2i\"], \"o\")\n",
        "plt.axline([6, 6], [8, 8], color=\"grey\")\n",
        "plt.xlabel(\"Treatment mean\")\n",
        "plt.ylabel(\"Placebo mean\")"
      ],
      "metadata": {
        "colab": {
          "base_uri": "https://localhost:8080/",
          "height": 467
        },
        "id": "h6cXUlKRkXBI",
        "outputId": "21fa5d58-376b-489f-e3e8-4fba94e550b0"
      },
      "execution_count": 10,
      "outputs": [
        {
          "output_type": "execute_result",
          "data": {
            "text/plain": [
              "Text(0, 0.5, 'Placebo mean')"
            ]
          },
          "metadata": {},
          "execution_count": 10
        },
        {
          "output_type": "display_data",
          "data": {
            "text/plain": [
              "<Figure size 640x480 with 1 Axes>"
            ],
            "image/png": "[encoded data removed]"
          },
          "metadata": {}
        }
      ]
    },
    {
      "cell_type": "code",
      "source": [],
      "metadata": {
        "id": "OOAV4ik7-JqP"
      },
      "execution_count": 10,
      "outputs": []
    },
    {
      "cell_type": "markdown",
      "source": [
        "# Standardized mean changes\n",
        "\n",
        "The function below calculates the average within-subject \"standardized mean change\" (SMC) between the treatment and control conditions and its standard error, for each study in the meta-analysis.  The SMC is a dimension-free measure of effect size that can b e compared more directly between studies.  It is closely related to the widely-reported \"Cohen's-D\" effect size.\n",
        "\n",
        "A key challenge here is that in any within-subjects design, the two measurements for a subject are correlated, but researchers rarely report this correlation in their manuscripts.  The standardized mean change cannot be calculated without knowing this correlation.  It is therefore common in meta-analyses to assume a value for this parameter such as r=0.5."
      ],
      "metadata": {
        "id": "TNBoHMfReosX"
      }
    },
    {
      "cell_type": "code",
      "execution_count": 11,
      "metadata": {
        "id": "76BS1BWTxuP7"
      },
      "outputs": [],
      "source": [
        "def gen_se(da, r):\n",
        "  \"\"\"\n",
        "  Append the standardized mean change (SMC) for each study to the dataframe 'da',\n",
        "  assuming that the within-subject correlation is 'r'.\n",
        "\n",
        "  The standard error for the SMC is also calculated, along with the upper and lower 95% confidence bounds.\n",
        "  \"\"\"\n",
        "  # Standard deviation of the within-subject difference for one subject.\n",
        "  sdd = np.sqrt(da[\"sd1i\"]**2 + da[\"sd2i\"]**2 - 2*r*da[\"sd1i\"]*da[\"sd2i\"])\n",
        "  # The standardized mean difference\n",
        "  da[\"smc\"] = (da[\"m1i\"] - da[\"m2i\"]) / sdd\n",
        "  # The standard error of the standardized mean difference\n",
        "  da[\"smc_se\"] = 1 / np.sqrt(da[\"n1i\"])\n",
        "  # Lower and upper confidence limits for the SMC\n",
        "  qq = t(da[\"n1i\"]-2).ppf(0.975)\n",
        "  da[\"lcb\"] = da[\"smc\"] - qq*da[\"smc_se\"]\n",
        "  da[\"ucb\"] = da[\"smc\"] + qq*da[\"smc_se\"]\n",
        "  return da\n",
        "\n",
        "da = gen_se(da, 0.5)"
      ]
    },
    {
      "cell_type": "markdown",
      "source": [
        "There are some special consequences of using the SMC (standardized mean change) in a meta-analysis that utilizes within-subject commparisons.  Let $d_i = y_i - x_i$ denote the difference between subject $i$'s response for the active treatment ($y_i$) and the placebo ($x_i$).  The standard deviation of $d_i$ is $s_p = \\sqrt{s_1^2 + s_2^2 - 2rs_1s_2}$.  Let $\\tilde{d}_i = d_i/s_p$.  The standard deviation of $\\tilde{d}_i$ is $1$.\n",
        "\n",
        "Let $\\bar{d} = (\\tilde{d}_1 + \\cdots + \\tilde{d}_n)/m$ denote the average of the $\\tilde{d}_i$ over the (independent) studies.  The standard error of $\\bar{d}$ is $1/\\sqrt{m}$.  The standard error of the SMC does not depend on the standard deviations or on the assumed correlation coefficient $r$.  \n",
        "\n",
        "Each $\\tilde{d}_i$ does in general depend on the standard deviations and correlation parameter.  However, something special happens when we use $r=1/2$ as done here.  In this case, the standard deviation of $d_i$ is $\\sqrt{s_1^2 + s_2^2 - s_1s_2}$.  If $s_2 = 0$, the SD simplifies to $s_1$, and if we replace the value of $s_2$ with $s_1$ then we also get $s_1$.  Thus, in this special case, replacing a value $s_2=0$ with $s_2=s_1$ yields identical results."
      ],
      "metadata": {
        "id": "ZzpRmVXEmC4Q"
      }
    },
    {
      "cell_type": "markdown",
      "source": [
        "The standard error of the SMC is a smoothly decreasing function of the sample size ($1/\\sqrt{n}$)."
      ],
      "metadata": {
        "id": "6P0kqp6VLX0f"
      }
    },
    {
      "cell_type": "code",
      "source": [
        "plt.grid(True)\n",
        "n1i = np.sort(da[\"n1i\"])\n",
        "plt.plot(n1i, 1/np.sqrt(n1i), \"-\", label=\"$1/\\sqrt{n}$\")\n",
        "plt.plot(da[\"n1i\"], da[\"smc_se\"], \"o\")\n",
        "plt.xlabel(\"Sample size\")\n",
        "plt.ylabel(\"SMC SE\")\n",
        "ha, lb = plt.gca().get_legend_handles_labels()\n",
        "plt.figlegend(ha, lb, loc=\"center right\")"
      ],
      "metadata": {
        "colab": {
          "base_uri": "https://localhost:8080/",
          "height": 467
        },
        "id": "nDUzWNdOLTVH",
        "outputId": "4de18277-1be1-4716-abc0-15cbdd331827"
      },
      "execution_count": 12,
      "outputs": [
        {
          "output_type": "execute_result",
          "data": {
            "text/plain": [
              "<matplotlib.legend.Legend at 0x7f3268b3a500>"
            ]
          },
          "metadata": {},
          "execution_count": 12
        },
        {
          "output_type": "display_data",
          "data": {
            "text/plain": [
              "<Figure size 640x480 with 1 Axes>"
            ],
            "image/png": "[encoded data removed]"
          },
          "metadata": {}
        }
      ]
    },
    {
      "cell_type": "markdown",
      "source": [
        "## Integration of p-values\n",
        "\n",
        "We begin by calculating the study-level p-values.  We can analyze these as an esemble of evidence from different sources, and combine them into a \"meta p-value\".  If all studies are null (i.e. if the \"global null\" holds), then these p-values would be an IID sample from a uniform distribution in (0,1), but clearly that is not the case here."
      ],
      "metadata": {
        "id": "Qnh3kJry-oic"
      }
    },
    {
      "cell_type": "code",
      "source": [
        "da[\"pvalue\"] = t(da[\"n1i\"]-2).cdf(-np.abs(da[\"smc\"])/da[\"smc_se\"])"
      ],
      "metadata": {
        "id": "5bVgMtk--nlt"
      },
      "execution_count": 13,
      "outputs": []
    },
    {
      "cell_type": "markdown",
      "source": [
        "Fisher's combining rule produces a statistic that under the global null follows a chi-square distribution with $2m=30$ degrees of freedom.  The \"meta p-value\" based on Fisher's method is essentially zero.\n"
      ],
      "metadata": {
        "id": "DTNK--laAc0f"
      }
    },
    {
      "cell_type": "code",
      "source": [
        "fp = -2*np.log(da[\"pvalue\"]).sum()\n",
        "meta_p = 1 - chi2(2*da.shape[0]).cdf(fp)\n",
        "[fp, meta_p]"
      ],
      "metadata": {
        "colab": {
          "base_uri": "https://localhost:8080/"
        },
        "id": "Wz4YZqfC_5mY",
        "outputId": "ffd13be4-13c7-4910-d0cc-4f200f9cbd6e"
      },
      "execution_count": 14,
      "outputs": [
        {
          "output_type": "execute_result",
          "data": {
            "text/plain": [
              "[262.00753522900357, 0.0]"
            ]
          },
          "metadata": {},
          "execution_count": 14
        }
      ]
    },
    {
      "cell_type": "markdown",
      "source": [
        "The studies under consideration include multiple studies conducted by similar author groups, and these could potentially be statistically dependent.  One way to account for such dependence is using the Bonferroni approach, under which the evidence remains strong."
      ],
      "metadata": {
        "id": "Sq1GwePyIH6p"
      }
    },
    {
      "cell_type": "code",
      "source": [
        "bonf = da.shape[0] * da[\"pvalue\"].min()\n",
        "bonf"
      ],
      "metadata": {
        "colab": {
          "base_uri": "https://localhost:8080/"
        },
        "id": "EWTD_MROH9sW",
        "outputId": "e5cfbbc4-73bc-47ed-ca98-f23e734af091"
      },
      "execution_count": 15,
      "outputs": [
        {
          "output_type": "execute_result",
          "data": {
            "text/plain": [
              "8.516266761843816e-08"
            ]
          },
          "metadata": {},
          "execution_count": 15
        }
      ]
    },
    {
      "cell_type": "markdown",
      "source": [
        "Methods due to Vovk allow us to obtain p-values that are robust to dependence by rescaling the three [Pythagorean means](https://en.wikipedia.org/wiki/Pythagorean_means)."
      ],
      "metadata": {
        "id": "V8DMkz3JJ9f5"
      }
    },
    {
      "cell_type": "code",
      "source": [
        "pval = da[\"pvalue\"]\n",
        "m = da.shape[0]\n",
        "am = 2*pval.mean()\n",
        "gm = np.exp(1) * np.exp(np.log(pval).mean())\n",
        "hm = np.log(m) / np.mean(1 / pval)\n",
        "[am, gm, hm]"
      ],
      "metadata": {
        "colab": {
          "base_uri": "https://localhost:8080/"
        },
        "id": "PIMuvjJXJEkm",
        "outputId": "845478ab-c30d-4778-b3f0-cd9ba3ac475a"
      },
      "execution_count": 16,
      "outputs": [
        {
          "output_type": "execute_result",
          "data": {
            "text/plain": [
              "[0.03697682558328242, 0.0004378717460811575, 2.2873822038144646e-07]"
            ]
          },
          "metadata": {},
          "execution_count": 16
        }
      ]
    },
    {
      "cell_type": "markdown",
      "source": [
        "We proceed with a scatterplot of the SMC against the study size.  This is a simple way to assess for heterogeneity that could possibly reflect systematic methodological differences between larger and smaller studies.  There is no clear trend below, although it is notable that the largest study has the smallest SMC and one of the two smallest studies has the largest SMC."
      ],
      "metadata": {
        "id": "4hRDk37drIjE"
      }
    },
    {
      "cell_type": "code",
      "source": [
        "plt.grid(True)\n",
        "plt.plot(da[\"n1i\"], da[\"smc\"], \"o\")\n",
        "plt.xlabel(\"Sample size\")\n",
        "plt.ylabel(\"SMC\")"
      ],
      "metadata": {
        "colab": {
          "base_uri": "https://localhost:8080/",
          "height": 467
        },
        "id": "IymrMAyzq5pb",
        "outputId": "00f7321d-8315-4910-e122-5df5cb14acd6"
      },
      "execution_count": 17,
      "outputs": [
        {
          "output_type": "execute_result",
          "data": {
            "text/plain": [
              "Text(0, 0.5, 'SMC')"
            ]
          },
          "metadata": {},
          "execution_count": 17
        },
        {
          "output_type": "display_data",
          "data": {
            "text/plain": [
              "<Figure size 640x480 with 1 Axes>"
            ],
            "image/png": "[encoded data removed]"
          },
          "metadata": {}
        }
      ]
    },
    {
      "cell_type": "markdown",
      "source": [
        "## Assessment of heterogeneity\n",
        "\n",
        "The following function calculates the pooled estimate of the SMC using inverse variance weighting."
      ],
      "metadata": {
        "id": "0Z1pbI4owaSq"
      }
    },
    {
      "cell_type": "code",
      "source": [
        "def pooled_smc(da):\n",
        "  w = 1 / da[\"smc_se\"]**2\n",
        "  w /= w.sum()\n",
        "  smc0 = np.dot(w, da[\"smc\"])\n",
        "  return smc0"
      ],
      "metadata": {
        "id": "5U-veDHhwUg9"
      },
      "execution_count": 18,
      "outputs": []
    },
    {
      "cell_type": "markdown",
      "source": [
        "The following function constructs a simple [forest plot](https://en.wikipedia.org/wiki/Forest_plot) of the study-level SMC's, along with the pooled estimate of the population SMC.  This should align with figure 3 from the Hindley et al. paper."
      ],
      "metadata": {
        "id": "C_WN4iN3wnV2"
      }
    },
    {
      "cell_type": "code",
      "source": [
        "def forest(da):\n",
        "  ii = da.shape[0] - np.arange(da.shape[0])\n",
        "  plt.plot(da[\"smc\"], ii, \"o\", color=\"black\")\n",
        "  for i in range(len(ii)):\n",
        "    plt.plot([da[\"lcb\"][i], da[\"ucb\"][i]], [ii[i], ii[i]], \"-\", color=\"black\")\n",
        "  smc0 = pooled_smc(da)\n",
        "  plt.gca().axvline(smc0)\n",
        "  plt.gca().axvline(0, color=\"grey\")\n",
        "  plt.gca().spines[['right', 'left', 'top']].set_visible(False)\n",
        "  plt.gca().set_yticks([])\n",
        "  plt.xlabel(\"SMC\")\n",
        "  plt.show()\n",
        "\n",
        "forest(da)"
      ],
      "metadata": {
        "colab": {
          "base_uri": "https://localhost:8080/",
          "height": 449
        },
        "id": "k79Wzwge9uQr",
        "outputId": "849ad93e-8703-4455-ff24-9ee428a15949"
      },
      "execution_count": 19,
      "outputs": [
        {
          "output_type": "display_data",
          "data": {
            "text/plain": [
              "<Figure size 640x480 with 1 Axes>"
            ],
            "image/png": "[encoded data removed]"
          },
          "metadata": {}
        }
      ]
    },
    {
      "cell_type": "markdown",
      "source": [
        "The function below calculate the pooled SMC estimate, the Cochrane's Q statistics, and the corresponding estimate of the heterogeneity statistic (I-squared)."
      ],
      "metadata": {
        "id": "zO3T6MJX0Usy"
      }
    },
    {
      "cell_type": "code",
      "source": [
        "def cochraneQ(da):\n",
        "  smc0 = pooled_smc(da)\n",
        "  cq = (da[\"smc\"] - smc0) / da[\"smc_se\"]\n",
        "  Q = np.sum(cq**2)\n",
        "  isquare = 1 - (da.shape[0]-1)/Q\n",
        "  return smc0,Q,isquare"
      ],
      "metadata": {
        "id": "nKt-r9_1tycO"
      },
      "execution_count": 20,
      "outputs": []
    },
    {
      "cell_type": "markdown",
      "source": [
        "The Hindley et al. study reports a consensus treatment effect of 0.91, a Q statistic of 43.7 and an I-square of 65.7%.  Our estimates of these quantities are shown below.  We are using a slightly different method to estimate the consensus treatment effect and yet the findings for this parameter are quite similar.  Our estimates of heterogeneity are larger than reported by the authors."
      ],
      "metadata": {
        "id": "AKacfE6ESnYb"
      }
    },
    {
      "cell_type": "code",
      "source": [
        "smc0, Q, isquare = cochraneQ(da)\n",
        "[smc0, Q, isquare]"
      ],
      "metadata": {
        "id": "I8WqVzN-0R9L",
        "colab": {
          "base_uri": "https://localhost:8080/"
        },
        "outputId": "4ff72891-7696-48bb-d737-1ad9696f2485"
      },
      "execution_count": 21,
      "outputs": [
        {
          "output_type": "execute_result",
          "data": {
            "text/plain": [
              "[0.945969416777176, 85.58393139452481, 0.8364178909302168]"
            ]
          },
          "metadata": {},
          "execution_count": 21
        }
      ]
    },
    {
      "cell_type": "markdown",
      "source": [
        "## Meta-regression analysis\n",
        "\n",
        "Next we perform some meta-regressions to assess the extent to which specific study features are associated with greater treatment effects.  We will conduct meta-regressions using weighted least squares (WLS) with inverse variance weighting based on the SMC standard error within each study.\n",
        "\n",
        "The authors note a negative association between prevalence of tobacco use and the SMC so we begin by looking at that factor alone, and are able to corroborate the claim:"
      ],
      "metadata": {
        "id": "1n-lCLo0qXrf"
      }
    },
    {
      "cell_type": "code",
      "source": [
        "wgt = 1 / da[\"smc_se\"]**2\n",
        "m0 = sm.WLS.from_formula(\"smc ~ tobacco_current\", weights=wgt, data=da)\n",
        "r0 = m0.fit()\n",
        "r0.summary()"
      ],
      "metadata": {
        "colab": {
          "base_uri": "https://localhost:8080/",
          "height": 480
        },
        "id": "gUuTVbDZqWsW",
        "outputId": "e5727122-6b58-4c63-d3ec-608049b5fe0c"
      },
      "execution_count": 22,
      "outputs": [
        {
          "output_type": "stream",
          "name": "stderr",
          "text": [
            "/usr/local/lib/python3.10/dist-packages/scipy/stats/_stats_py.py:1806: UserWarning: kurtosistest only valid for n>=20 ... continuing anyway, n=10\n",
            "  warnings.warn(\"kurtosistest only valid for n>=20 ... continuing \"\n"
          ]
        },
        {
          "output_type": "execute_result",
          "data": {
            "text/plain": [
              "<class 'statsmodels.iolib.summary.Summary'>\n",
              "\"\"\"\n",
              "                            WLS Regression Results                            \n",
              "==============================================================================\n",
              "Dep. Variable:                    smc   R-squared:                       0.471\n",
              "Model:                            WLS   Adj. R-squared:                  0.405\n",
              "Method:                 Least Squares   F-statistic:                     7.124\n",
              "Date:                Sat, 22 Jun 2024   Prob (F-statistic):             0.0284\n",
              "Time:                        02:34:51   Log-Likelihood:                -4.1653\n",
              "No. Observations:                  10   AIC:                             12.33\n",
              "Df Residuals:                       8   BIC:                             12.94\n",
              "Df Model:                           1                                         \n",
              "Covariance Type:            nonrobust                                         \n",
              "===================================================================================\n",
              "                      coef    std err          t      P>|t|      [0.025      0.975]\n",
              "-----------------------------------------------------------------------------------\n",
              "Intercept           1.2771      0.191      6.697      0.000       0.837       1.717\n",
              "tobacco_current    -0.0138      0.005     -2.669      0.028      -0.026      -0.002\n",
              "==============================================================================\n",
              "Omnibus:                        0.502   Durbin-Watson:                   1.225\n",
              "Prob(Omnibus):                  0.778   Jarque-Bera (JB):                0.500\n",
              "Skew:                           0.092   Prob(JB):                        0.779\n",
              "Kurtosis:                       1.920   Cond. No.                         57.3\n",
              "==============================================================================\n",
              "\n",
              "Notes:\n",
              "[1] Standard Errors assume that the covariance matrix of the errors is correctly specified.\n",
              "\"\"\""
            ],
            "text/html": [
              "<table class=\"simpletable\">\n",
              "<caption>WLS Regression Results</caption>\n",
              "<tr>\n",
              "  <th>Dep. Variable:</th>           <td>smc</td>       <th>  R-squared:         </th> <td>   0.471</td>\n",
              "</tr>\n",
              "<tr>\n",
              "  <th>Model:</th>                   <td>WLS</td>       <th>  Adj. R-squared:    </th> <td>   0.405</td>\n",
              "</tr>\n",
              "<tr>\n",
              "  <th>Method:</th>             <td>Least Squares</td>  <th>  F-statistic:       </th> <td>   7.124</td>\n",
              "</tr>\n",
              "<tr>\n",
              "  <th>Date:</th>             <td>Sat, 22 Jun 2024</td> <th>  Prob (F-statistic):</th>  <td>0.0284</td> \n",
              "</tr>\n",
              "<tr>\n",
              "  <th>Time:</th>                 <td>02:34:51</td>     <th>  Log-Likelihood:    </th> <td> -4.1653</td>\n",
              "</tr>\n",
              "<tr>\n",
              "  <th>No. Observations:</th>      <td>    10</td>      <th>  AIC:               </th> <td>   12.33</td>\n",
              "</tr>\n",
              "<tr>\n",
              "  <th>Df Residuals:</th>          <td>     8</td>      <th>  BIC:               </th> <td>   12.94</td>\n",
              "</tr>\n",
              "<tr>\n",
              "  <th>Df Model:</th>              <td>     1</td>      <th>                     </th>     <td> </td>   \n",
              "</tr>\n",
              "<tr>\n",
              "  <th>Covariance Type:</th>      <td>nonrobust</td>    <th>                     </th>     <td> </td>   \n",
              "</tr>\n",
              "</table>\n",
              "<table class=\"simpletable\">\n",
              "<tr>\n",
              "         <td></td>            <th>coef</th>     <th>std err</th>      <th>t</th>      <th>P>|t|</th>  <th>[0.025</th>    <th>0.975]</th>  \n",
              "</tr>\n",
              "<tr>\n",
              "  <th>Intercept</th>       <td>    1.2771</td> <td>    0.191</td> <td>    6.697</td> <td> 0.000</td> <td>    0.837</td> <td>    1.717</td>\n",
              "</tr>\n",
              "<tr>\n",
              "  <th>tobacco_current</th> <td>   -0.0138</td> <td>    0.005</td> <td>   -2.669</td> <td> 0.028</td> <td>   -0.026</td> <td>   -0.002</td>\n",
              "</tr>\n",
              "</table>\n",
              "<table class=\"simpletable\">\n",
              "<tr>\n",
              "  <th>Omnibus:</th>       <td> 0.502</td> <th>  Durbin-Watson:     </th> <td>   1.225</td>\n",
              "</tr>\n",
              "<tr>\n",
              "  <th>Prob(Omnibus):</th> <td> 0.778</td> <th>  Jarque-Bera (JB):  </th> <td>   0.500</td>\n",
              "</tr>\n",
              "<tr>\n",
              "  <th>Skew:</th>          <td> 0.092</td> <th>  Prob(JB):          </th> <td>   0.779</td>\n",
              "</tr>\n",
              "<tr>\n",
              "  <th>Kurtosis:</th>      <td> 1.920</td> <th>  Cond. No.          </th> <td>    57.3</td>\n",
              "</tr>\n",
              "</table><br/><br/>Notes:<br/>[1] Standard Errors assume that the covariance matrix of the errors is correctly specified."
            ],
            "text/latex": "\\begin{center}\n\\begin{tabular}{lclc}\n\\toprule\n\\textbf{Dep. Variable:}    &       smc        & \\textbf{  R-squared:         } &     0.471   \\\\\n\\textbf{Model:}            &       WLS        & \\textbf{  Adj. R-squared:    } &     0.405   \\\\\n\\textbf{Method:}           &  Least Squares   & \\textbf{  F-statistic:       } &     7.124   \\\\\n\\textbf{Date:}             & Sat, 22 Jun 2024 & \\textbf{  Prob (F-statistic):} &   0.0284    \\\\\n\\textbf{Time:}             &     02:34:51     & \\textbf{  Log-Likelihood:    } &   -4.1653   \\\\\n\\textbf{No. Observations:} &          10      & \\textbf{  AIC:               } &     12.33   \\\\\n\\textbf{Df Residuals:}     &           8      & \\textbf{  BIC:               } &     12.94   \\\\\n\\textbf{Df Model:}         &           1      & \\textbf{                     } &             \\\\\n\\textbf{Covariance Type:}  &    nonrobust     & \\textbf{                     } &             \\\\\n\\bottomrule\n\\end{tabular}\n\\begin{tabular}{lcccccc}\n                          & \\textbf{coef} & \\textbf{std err} & \\textbf{t} & \\textbf{P$> |$t$|$} & \\textbf{[0.025} & \\textbf{0.975]}  \\\\\n\\midrule\n\\textbf{Intercept}        &       1.2771  &        0.191     &     6.697  &         0.000        &        0.837    &        1.717     \\\\\n\\textbf{tobacco\\_current} &      -0.0138  &        0.005     &    -2.669  &         0.028        &       -0.026    &       -0.002     \\\\\n\\bottomrule\n\\end{tabular}\n\\begin{tabular}{lclc}\n\\textbf{Omnibus:}       &  0.502 & \\textbf{  Durbin-Watson:     } &    1.225  \\\\\n\\textbf{Prob(Omnibus):} &  0.778 & \\textbf{  Jarque-Bera (JB):  } &    0.500  \\\\\n\\textbf{Skew:}          &  0.092 & \\textbf{  Prob(JB):          } &    0.779  \\\\\n\\textbf{Kurtosis:}      &  1.920 & \\textbf{  Cond. No.          } &     57.3  \\\\\n\\bottomrule\n\\end{tabular}\n%\\caption{WLS Regression Results}\n\\end{center}\n\nNotes: \\newline\n [1] Standard Errors assume that the covariance matrix of the errors is correctly specified."
          },
          "metadata": {},
          "execution_count": 22
        }
      ]
    },
    {
      "cell_type": "markdown",
      "source": [
        "If we weight the studies equally, the p-value for the tobacco effect is somewhat larger (but [the difference between significant and not significant is not significant](http://www.stat.columbia.edu/~gelman/research/published/signif4.pdf))."
      ],
      "metadata": {
        "id": "Kpt4wJt_tNzv"
      }
    },
    {
      "cell_type": "code",
      "source": [
        "m1 = sm.OLS.from_formula(\"smc ~ tobacco_current\", data=da)\n",
        "r1 = m1.fit()\n",
        "r1.summary()"
      ],
      "metadata": {
        "colab": {
          "base_uri": "https://localhost:8080/",
          "height": 480
        },
        "id": "UFa_hsH1sqFh",
        "outputId": "482f8efd-ed90-440b-ffe9-3bf9b6c15b81"
      },
      "execution_count": 23,
      "outputs": [
        {
          "output_type": "stream",
          "name": "stderr",
          "text": [
            "/usr/local/lib/python3.10/dist-packages/scipy/stats/_stats_py.py:1806: UserWarning: kurtosistest only valid for n>=20 ... continuing anyway, n=10\n",
            "  warnings.warn(\"kurtosistest only valid for n>=20 ... continuing \"\n"
          ]
        },
        {
          "output_type": "execute_result",
          "data": {
            "text/plain": [
              "<class 'statsmodels.iolib.summary.Summary'>\n",
              "\"\"\"\n",
              "                            OLS Regression Results                            \n",
              "==============================================================================\n",
              "Dep. Variable:                    smc   R-squared:                       0.358\n",
              "Model:                            OLS   Adj. R-squared:                  0.277\n",
              "Method:                 Least Squares   F-statistic:                     4.452\n",
              "Date:                Sat, 22 Jun 2024   Prob (F-statistic):             0.0679\n",
              "Time:                        02:34:51   Log-Likelihood:                -4.4990\n",
              "No. Observations:                  10   AIC:                             13.00\n",
              "Df Residuals:                       8   BIC:                             13.60\n",
              "Df Model:                           1                                         \n",
              "Covariance Type:            nonrobust                                         \n",
              "===================================================================================\n",
              "                      coef    std err          t      P>|t|      [0.025      0.975]\n",
              "-----------------------------------------------------------------------------------\n",
              "Intercept           1.2682      0.204      6.210      0.000       0.797       1.739\n",
              "tobacco_current    -0.0138      0.007     -2.110      0.068      -0.029       0.001\n",
              "==============================================================================\n",
              "Omnibus:                        0.732   Durbin-Watson:                   1.301\n",
              "Prob(Omnibus):                  0.693   Jarque-Bera (JB):                0.575\n",
              "Skew:                          -0.127   Prob(JB):                        0.750\n",
              "Kurtosis:                       1.853   Cond. No.                         47.4\n",
              "==============================================================================\n",
              "\n",
              "Notes:\n",
              "[1] Standard Errors assume that the covariance matrix of the errors is correctly specified.\n",
              "\"\"\""
            ],
            "text/html": [
              "<table class=\"simpletable\">\n",
              "<caption>OLS Regression Results</caption>\n",
              "<tr>\n",
              "  <th>Dep. Variable:</th>           <td>smc</td>       <th>  R-squared:         </th> <td>   0.358</td>\n",
              "</tr>\n",
              "<tr>\n",
              "  <th>Model:</th>                   <td>OLS</td>       <th>  Adj. R-squared:    </th> <td>   0.277</td>\n",
              "</tr>\n",
              "<tr>\n",
              "  <th>Method:</th>             <td>Least Squares</td>  <th>  F-statistic:       </th> <td>   4.452</td>\n",
              "</tr>\n",
              "<tr>\n",
              "  <th>Date:</th>             <td>Sat, 22 Jun 2024</td> <th>  Prob (F-statistic):</th>  <td>0.0679</td> \n",
              "</tr>\n",
              "<tr>\n",
              "  <th>Time:</th>                 <td>02:34:51</td>     <th>  Log-Likelihood:    </th> <td> -4.4990</td>\n",
              "</tr>\n",
              "<tr>\n",
              "  <th>No. Observations:</th>      <td>    10</td>      <th>  AIC:               </th> <td>   13.00</td>\n",
              "</tr>\n",
              "<tr>\n",
              "  <th>Df Residuals:</th>          <td>     8</td>      <th>  BIC:               </th> <td>   13.60</td>\n",
              "</tr>\n",
              "<tr>\n",
              "  <th>Df Model:</th>              <td>     1</td>      <th>                     </th>     <td> </td>   \n",
              "</tr>\n",
              "<tr>\n",
              "  <th>Covariance Type:</th>      <td>nonrobust</td>    <th>                     </th>     <td> </td>   \n",
              "</tr>\n",
              "</table>\n",
              "<table class=\"simpletable\">\n",
              "<tr>\n",
              "         <td></td>            <th>coef</th>     <th>std err</th>      <th>t</th>      <th>P>|t|</th>  <th>[0.025</th>    <th>0.975]</th>  \n",
              "</tr>\n",
              "<tr>\n",
              "  <th>Intercept</th>       <td>    1.2682</td> <td>    0.204</td> <td>    6.210</td> <td> 0.000</td> <td>    0.797</td> <td>    1.739</td>\n",
              "</tr>\n",
              "<tr>\n",
              "  <th>tobacco_current</th> <td>   -0.0138</td> <td>    0.007</td> <td>   -2.110</td> <td> 0.068</td> <td>   -0.029</td> <td>    0.001</td>\n",
              "</tr>\n",
              "</table>\n",
              "<table class=\"simpletable\">\n",
              "<tr>\n",
              "  <th>Omnibus:</th>       <td> 0.732</td> <th>  Durbin-Watson:     </th> <td>   1.301</td>\n",
              "</tr>\n",
              "<tr>\n",
              "  <th>Prob(Omnibus):</th> <td> 0.693</td> <th>  Jarque-Bera (JB):  </th> <td>   0.575</td>\n",
              "</tr>\n",
              "<tr>\n",
              "  <th>Skew:</th>          <td>-0.127</td> <th>  Prob(JB):          </th> <td>   0.750</td>\n",
              "</tr>\n",
              "<tr>\n",
              "  <th>Kurtosis:</th>      <td> 1.853</td> <th>  Cond. No.          </th> <td>    47.4</td>\n",
              "</tr>\n",
              "</table><br/><br/>Notes:<br/>[1] Standard Errors assume that the covariance matrix of the errors is correctly specified."
            ],
            "text/latex": "\\begin{center}\n\\begin{tabular}{lclc}\n\\toprule\n\\textbf{Dep. Variable:}    &       smc        & \\textbf{  R-squared:         } &     0.358   \\\\\n\\textbf{Model:}            &       OLS        & \\textbf{  Adj. R-squared:    } &     0.277   \\\\\n\\textbf{Method:}           &  Least Squares   & \\textbf{  F-statistic:       } &     4.452   \\\\\n\\textbf{Date:}             & Sat, 22 Jun 2024 & \\textbf{  Prob (F-statistic):} &   0.0679    \\\\\n\\textbf{Time:}             &     02:34:51     & \\textbf{  Log-Likelihood:    } &   -4.4990   \\\\\n\\textbf{No. Observations:} &          10      & \\textbf{  AIC:               } &     13.00   \\\\\n\\textbf{Df Residuals:}     &           8      & \\textbf{  BIC:               } &     13.60   \\\\\n\\textbf{Df Model:}         &           1      & \\textbf{                     } &             \\\\\n\\textbf{Covariance Type:}  &    nonrobust     & \\textbf{                     } &             \\\\\n\\bottomrule\n\\end{tabular}\n\\begin{tabular}{lcccccc}\n                          & \\textbf{coef} & \\textbf{std err} & \\textbf{t} & \\textbf{P$> |$t$|$} & \\textbf{[0.025} & \\textbf{0.975]}  \\\\\n\\midrule\n\\textbf{Intercept}        &       1.2682  &        0.204     &     6.210  &         0.000        &        0.797    &        1.739     \\\\\n\\textbf{tobacco\\_current} &      -0.0138  &        0.007     &    -2.110  &         0.068        &       -0.029    &        0.001     \\\\\n\\bottomrule\n\\end{tabular}\n\\begin{tabular}{lclc}\n\\textbf{Omnibus:}       &  0.732 & \\textbf{  Durbin-Watson:     } &    1.301  \\\\\n\\textbf{Prob(Omnibus):} &  0.693 & \\textbf{  Jarque-Bera (JB):  } &    0.575  \\\\\n\\textbf{Skew:}          & -0.127 & \\textbf{  Prob(JB):          } &    0.750  \\\\\n\\textbf{Kurtosis:}      &  1.853 & \\textbf{  Cond. No.          } &     47.4  \\\\\n\\bottomrule\n\\end{tabular}\n%\\caption{OLS Regression Results}\n\\end{center}\n\nNotes: \\newline\n [1] Standard Errors assume that the covariance matrix of the errors is correctly specified."
          },
          "metadata": {},
          "execution_count": 23
        }
      ]
    },
    {
      "cell_type": "markdown",
      "source": [
        "Five of the studies were conducted by one group (lead author D'Souza), and the meta-analysis authors claim that this group obtains significantly greater SMC\n",
        "values than the others.  We do find a trend toward greater SMC in the D'Souza group studies, but it is not statistically significant in our analysis."
      ],
      "metadata": {
        "id": "uAEbo5C8uYFt"
      }
    },
    {
      "cell_type": "code",
      "source": [
        "da[\"dsouza\"] = da[\"author\"].str.contains(\"D'Souza\")\n",
        "m2 = sm.WLS.from_formula(\"smc ~ dsouza\", weights=wgt, data=da)\n",
        "r2 = m2.fit()\n",
        "r2.summary()"
      ],
      "metadata": {
        "colab": {
          "base_uri": "https://localhost:8080/",
          "height": 480
        },
        "id": "05EsqYZ_tYHQ",
        "outputId": "d0ceb447-0b37-4248-efcd-25b330d286de"
      },
      "execution_count": 24,
      "outputs": [
        {
          "output_type": "stream",
          "name": "stderr",
          "text": [
            "/usr/local/lib/python3.10/dist-packages/scipy/stats/_stats_py.py:1806: UserWarning: kurtosistest only valid for n>=20 ... continuing anyway, n=15\n",
            "  warnings.warn(\"kurtosistest only valid for n>=20 ... continuing \"\n"
          ]
        },
        {
          "output_type": "execute_result",
          "data": {
            "text/plain": [
              "<class 'statsmodels.iolib.summary.Summary'>\n",
              "\"\"\"\n",
              "                            WLS Regression Results                            \n",
              "==============================================================================\n",
              "Dep. Variable:                    smc   R-squared:                       0.170\n",
              "Model:                            WLS   Adj. R-squared:                  0.107\n",
              "Method:                 Least Squares   F-statistic:                     2.671\n",
              "Date:                Sat, 22 Jun 2024   Prob (F-statistic):              0.126\n",
              "Time:                        02:34:51   Log-Likelihood:                -10.736\n",
              "No. Observations:                  15   AIC:                             25.47\n",
              "Df Residuals:                      13   BIC:                             26.89\n",
              "Df Model:                           1                                         \n",
              "Covariance Type:            nonrobust                                         \n",
              "==================================================================================\n",
              "                     coef    std err          t      P>|t|      [0.025      0.975]\n",
              "----------------------------------------------------------------------------------\n",
              "Intercept          0.8174      0.152      5.385      0.000       0.489       1.145\n",
              "dsouza[T.True]     0.4787      0.293      1.634      0.126      -0.154       1.112\n",
              "==============================================================================\n",
              "Omnibus:                        1.821   Durbin-Watson:                   1.482\n",
              "Prob(Omnibus):                  0.402   Jarque-Bera (JB):                0.510\n",
              "Skew:                           0.414   Prob(JB):                        0.775\n",
              "Kurtosis:                       3.361   Cond. No.                         2.45\n",
              "==============================================================================\n",
              "\n",
              "Notes:\n",
              "[1] Standard Errors assume that the covariance matrix of the errors is correctly specified.\n",
              "\"\"\""
            ],
            "text/html": [
              "<table class=\"simpletable\">\n",
              "<caption>WLS Regression Results</caption>\n",
              "<tr>\n",
              "  <th>Dep. Variable:</th>           <td>smc</td>       <th>  R-squared:         </th> <td>   0.170</td>\n",
              "</tr>\n",
              "<tr>\n",
              "  <th>Model:</th>                   <td>WLS</td>       <th>  Adj. R-squared:    </th> <td>   0.107</td>\n",
              "</tr>\n",
              "<tr>\n",
              "  <th>Method:</th>             <td>Least Squares</td>  <th>  F-statistic:       </th> <td>   2.671</td>\n",
              "</tr>\n",
              "<tr>\n",
              "  <th>Date:</th>             <td>Sat, 22 Jun 2024</td> <th>  Prob (F-statistic):</th>  <td> 0.126</td> \n",
              "</tr>\n",
              "<tr>\n",
              "  <th>Time:</th>                 <td>02:34:51</td>     <th>  Log-Likelihood:    </th> <td> -10.736</td>\n",
              "</tr>\n",
              "<tr>\n",
              "  <th>No. Observations:</th>      <td>    15</td>      <th>  AIC:               </th> <td>   25.47</td>\n",
              "</tr>\n",
              "<tr>\n",
              "  <th>Df Residuals:</th>          <td>    13</td>      <th>  BIC:               </th> <td>   26.89</td>\n",
              "</tr>\n",
              "<tr>\n",
              "  <th>Df Model:</th>              <td>     1</td>      <th>                     </th>     <td> </td>   \n",
              "</tr>\n",
              "<tr>\n",
              "  <th>Covariance Type:</th>      <td>nonrobust</td>    <th>                     </th>     <td> </td>   \n",
              "</tr>\n",
              "</table>\n",
              "<table class=\"simpletable\">\n",
              "<tr>\n",
              "         <td></td>           <th>coef</th>     <th>std err</th>      <th>t</th>      <th>P>|t|</th>  <th>[0.025</th>    <th>0.975]</th>  \n",
              "</tr>\n",
              "<tr>\n",
              "  <th>Intercept</th>      <td>    0.8174</td> <td>    0.152</td> <td>    5.385</td> <td> 0.000</td> <td>    0.489</td> <td>    1.145</td>\n",
              "</tr>\n",
              "<tr>\n",
              "  <th>dsouza[T.True]</th> <td>    0.4787</td> <td>    0.293</td> <td>    1.634</td> <td> 0.126</td> <td>   -0.154</td> <td>    1.112</td>\n",
              "</tr>\n",
              "</table>\n",
              "<table class=\"simpletable\">\n",
              "<tr>\n",
              "  <th>Omnibus:</th>       <td> 1.821</td> <th>  Durbin-Watson:     </th> <td>   1.482</td>\n",
              "</tr>\n",
              "<tr>\n",
              "  <th>Prob(Omnibus):</th> <td> 0.402</td> <th>  Jarque-Bera (JB):  </th> <td>   0.510</td>\n",
              "</tr>\n",
              "<tr>\n",
              "  <th>Skew:</th>          <td> 0.414</td> <th>  Prob(JB):          </th> <td>   0.775</td>\n",
              "</tr>\n",
              "<tr>\n",
              "  <th>Kurtosis:</th>      <td> 3.361</td> <th>  Cond. No.          </th> <td>    2.45</td>\n",
              "</tr>\n",
              "</table><br/><br/>Notes:<br/>[1] Standard Errors assume that the covariance matrix of the errors is correctly specified."
            ],
            "text/latex": "\\begin{center}\n\\begin{tabular}{lclc}\n\\toprule\n\\textbf{Dep. Variable:}    &       smc        & \\textbf{  R-squared:         } &     0.170   \\\\\n\\textbf{Model:}            &       WLS        & \\textbf{  Adj. R-squared:    } &     0.107   \\\\\n\\textbf{Method:}           &  Least Squares   & \\textbf{  F-statistic:       } &     2.671   \\\\\n\\textbf{Date:}             & Sat, 22 Jun 2024 & \\textbf{  Prob (F-statistic):} &    0.126    \\\\\n\\textbf{Time:}             &     02:34:51     & \\textbf{  Log-Likelihood:    } &   -10.736   \\\\\n\\textbf{No. Observations:} &          15      & \\textbf{  AIC:               } &     25.47   \\\\\n\\textbf{Df Residuals:}     &          13      & \\textbf{  BIC:               } &     26.89   \\\\\n\\textbf{Df Model:}         &           1      & \\textbf{                     } &             \\\\\n\\textbf{Covariance Type:}  &    nonrobust     & \\textbf{                     } &             \\\\\n\\bottomrule\n\\end{tabular}\n\\begin{tabular}{lcccccc}\n                        & \\textbf{coef} & \\textbf{std err} & \\textbf{t} & \\textbf{P$> |$t$|$} & \\textbf{[0.025} & \\textbf{0.975]}  \\\\\n\\midrule\n\\textbf{Intercept}      &       0.8174  &        0.152     &     5.385  &         0.000        &        0.489    &        1.145     \\\\\n\\textbf{dsouza[T.True]} &       0.4787  &        0.293     &     1.634  &         0.126        &       -0.154    &        1.112     \\\\\n\\bottomrule\n\\end{tabular}\n\\begin{tabular}{lclc}\n\\textbf{Omnibus:}       &  1.821 & \\textbf{  Durbin-Watson:     } &    1.482  \\\\\n\\textbf{Prob(Omnibus):} &  0.402 & \\textbf{  Jarque-Bera (JB):  } &    0.510  \\\\\n\\textbf{Skew:}          &  0.414 & \\textbf{  Prob(JB):          } &    0.775  \\\\\n\\textbf{Kurtosis:}      &  3.361 & \\textbf{  Cond. No.          } &     2.45  \\\\\n\\bottomrule\n\\end{tabular}\n%\\caption{WLS Regression Results}\n\\end{center}\n\nNotes: \\newline\n [1] Standard Errors assume that the covariance matrix of the errors is correctly specified."
          },
          "metadata": {},
          "execution_count": 24
        }
      ]
    },
    {
      "cell_type": "markdown",
      "source": [
        "The meta-analysis also claims greater SMC values are associated with the intravaneous (IV) route of administration.  This claim is replicated in our analysis below."
      ],
      "metadata": {
        "id": "DwKAr1Bwuz8d"
      }
    },
    {
      "cell_type": "code",
      "source": [
        "m3 = sm.WLS.from_formula(\"smc ~ route\", weights=wgt, data=da)\n",
        "r3 = m3.fit()\n",
        "r3.summary()"
      ],
      "metadata": {
        "colab": {
          "base_uri": "https://localhost:8080/",
          "height": 501
        },
        "id": "-V-4k3l8uH_p",
        "outputId": "4b13cea4-de90-4eb1-de65-eceac324ebf2"
      },
      "execution_count": 25,
      "outputs": [
        {
          "output_type": "stream",
          "name": "stderr",
          "text": [
            "/usr/local/lib/python3.10/dist-packages/scipy/stats/_stats_py.py:1806: UserWarning: kurtosistest only valid for n>=20 ... continuing anyway, n=15\n",
            "  warnings.warn(\"kurtosistest only valid for n>=20 ... continuing \"\n"
          ]
        },
        {
          "output_type": "execute_result",
          "data": {
            "text/plain": [
              "<class 'statsmodels.iolib.summary.Summary'>\n",
              "\"\"\"\n",
              "                            WLS Regression Results                            \n",
              "==============================================================================\n",
              "Dep. Variable:                    smc   R-squared:                       0.490\n",
              "Model:                            WLS   Adj. R-squared:                  0.405\n",
              "Method:                 Least Squares   F-statistic:                     5.763\n",
              "Date:                Sat, 22 Jun 2024   Prob (F-statistic):             0.0176\n",
              "Time:                        02:34:51   Log-Likelihood:                -7.0884\n",
              "No. Observations:                  15   AIC:                             20.18\n",
              "Df Residuals:                      12   BIC:                             22.30\n",
              "Df Model:                           2                                         \n",
              "Covariance Type:            nonrobust                                         \n",
              "====================================================================================\n",
              "                       coef    std err          t      P>|t|      [0.025      0.975]\n",
              "------------------------------------------------------------------------------------\n",
              "Intercept            1.2632      0.141      8.935      0.000       0.955       1.571\n",
              "route[T.inhaled]    -0.7474      0.245     -3.052      0.010      -1.281      -0.214\n",
              "route[T.oral]       -0.6818      0.302     -2.256      0.044      -1.340      -0.023\n",
              "==============================================================================\n",
              "Omnibus:                        1.122   Durbin-Watson:                   1.624\n",
              "Prob(Omnibus):                  0.571   Jarque-Bera (JB):                0.360\n",
              "Skew:                           0.379   Prob(JB):                        0.835\n",
              "Kurtosis:                       3.038   Cond. No.                         3.30\n",
              "==============================================================================\n",
              "\n",
              "Notes:\n",
              "[1] Standard Errors assume that the covariance matrix of the errors is correctly specified.\n",
              "\"\"\""
            ],
            "text/html": [
              "<table class=\"simpletable\">\n",
              "<caption>WLS Regression Results</caption>\n",
              "<tr>\n",
              "  <th>Dep. Variable:</th>           <td>smc</td>       <th>  R-squared:         </th> <td>   0.490</td>\n",
              "</tr>\n",
              "<tr>\n",
              "  <th>Model:</th>                   <td>WLS</td>       <th>  Adj. R-squared:    </th> <td>   0.405</td>\n",
              "</tr>\n",
              "<tr>\n",
              "  <th>Method:</th>             <td>Least Squares</td>  <th>  F-statistic:       </th> <td>   5.763</td>\n",
              "</tr>\n",
              "<tr>\n",
              "  <th>Date:</th>             <td>Sat, 22 Jun 2024</td> <th>  Prob (F-statistic):</th>  <td>0.0176</td> \n",
              "</tr>\n",
              "<tr>\n",
              "  <th>Time:</th>                 <td>02:34:51</td>     <th>  Log-Likelihood:    </th> <td> -7.0884</td>\n",
              "</tr>\n",
              "<tr>\n",
              "  <th>No. Observations:</th>      <td>    15</td>      <th>  AIC:               </th> <td>   20.18</td>\n",
              "</tr>\n",
              "<tr>\n",
              "  <th>Df Residuals:</th>          <td>    12</td>      <th>  BIC:               </th> <td>   22.30</td>\n",
              "</tr>\n",
              "<tr>\n",
              "  <th>Df Model:</th>              <td>     2</td>      <th>                     </th>     <td> </td>   \n",
              "</tr>\n",
              "<tr>\n",
              "  <th>Covariance Type:</th>      <td>nonrobust</td>    <th>                     </th>     <td> </td>   \n",
              "</tr>\n",
              "</table>\n",
              "<table class=\"simpletable\">\n",
              "<tr>\n",
              "          <td></td>            <th>coef</th>     <th>std err</th>      <th>t</th>      <th>P>|t|</th>  <th>[0.025</th>    <th>0.975]</th>  \n",
              "</tr>\n",
              "<tr>\n",
              "  <th>Intercept</th>        <td>    1.2632</td> <td>    0.141</td> <td>    8.935</td> <td> 0.000</td> <td>    0.955</td> <td>    1.571</td>\n",
              "</tr>\n",
              "<tr>\n",
              "  <th>route[T.inhaled]</th> <td>   -0.7474</td> <td>    0.245</td> <td>   -3.052</td> <td> 0.010</td> <td>   -1.281</td> <td>   -0.214</td>\n",
              "</tr>\n",
              "<tr>\n",
              "  <th>route[T.oral]</th>    <td>   -0.6818</td> <td>    0.302</td> <td>   -2.256</td> <td> 0.044</td> <td>   -1.340</td> <td>   -0.023</td>\n",
              "</tr>\n",
              "</table>\n",
              "<table class=\"simpletable\">\n",
              "<tr>\n",
              "  <th>Omnibus:</th>       <td> 1.122</td> <th>  Durbin-Watson:     </th> <td>   1.624</td>\n",
              "</tr>\n",
              "<tr>\n",
              "  <th>Prob(Omnibus):</th> <td> 0.571</td> <th>  Jarque-Bera (JB):  </th> <td>   0.360</td>\n",
              "</tr>\n",
              "<tr>\n",
              "  <th>Skew:</th>          <td> 0.379</td> <th>  Prob(JB):          </th> <td>   0.835</td>\n",
              "</tr>\n",
              "<tr>\n",
              "  <th>Kurtosis:</th>      <td> 3.038</td> <th>  Cond. No.          </th> <td>    3.30</td>\n",
              "</tr>\n",
              "</table><br/><br/>Notes:<br/>[1] Standard Errors assume that the covariance matrix of the errors is correctly specified."
            ],
            "text/latex": "\\begin{center}\n\\begin{tabular}{lclc}\n\\toprule\n\\textbf{Dep. Variable:}    &       smc        & \\textbf{  R-squared:         } &     0.490   \\\\\n\\textbf{Model:}            &       WLS        & \\textbf{  Adj. R-squared:    } &     0.405   \\\\\n\\textbf{Method:}           &  Least Squares   & \\textbf{  F-statistic:       } &     5.763   \\\\\n\\textbf{Date:}             & Sat, 22 Jun 2024 & \\textbf{  Prob (F-statistic):} &   0.0176    \\\\\n\\textbf{Time:}             &     02:34:51     & \\textbf{  Log-Likelihood:    } &   -7.0884   \\\\\n\\textbf{No. Observations:} &          15      & \\textbf{  AIC:               } &     20.18   \\\\\n\\textbf{Df Residuals:}     &          12      & \\textbf{  BIC:               } &     22.30   \\\\\n\\textbf{Df Model:}         &           2      & \\textbf{                     } &             \\\\\n\\textbf{Covariance Type:}  &    nonrobust     & \\textbf{                     } &             \\\\\n\\bottomrule\n\\end{tabular}\n\\begin{tabular}{lcccccc}\n                          & \\textbf{coef} & \\textbf{std err} & \\textbf{t} & \\textbf{P$> |$t$|$} & \\textbf{[0.025} & \\textbf{0.975]}  \\\\\n\\midrule\n\\textbf{Intercept}        &       1.2632  &        0.141     &     8.935  &         0.000        &        0.955    &        1.571     \\\\\n\\textbf{route[T.inhaled]} &      -0.7474  &        0.245     &    -3.052  &         0.010        &       -1.281    &       -0.214     \\\\\n\\textbf{route[T.oral]}    &      -0.6818  &        0.302     &    -2.256  &         0.044        &       -1.340    &       -0.023     \\\\\n\\bottomrule\n\\end{tabular}\n\\begin{tabular}{lclc}\n\\textbf{Omnibus:}       &  1.122 & \\textbf{  Durbin-Watson:     } &    1.624  \\\\\n\\textbf{Prob(Omnibus):} &  0.571 & \\textbf{  Jarque-Bera (JB):  } &    0.360  \\\\\n\\textbf{Skew:}          &  0.379 & \\textbf{  Prob(JB):          } &    0.835  \\\\\n\\textbf{Kurtosis:}      &  3.038 & \\textbf{  Cond. No.          } &     3.30  \\\\\n\\bottomrule\n\\end{tabular}\n%\\caption{WLS Regression Results}\n\\end{center}\n\nNotes: \\newline\n [1] Standard Errors assume that the covariance matrix of the errors is correctly specified."
          },
          "metadata": {},
          "execution_count": 25
        }
      ]
    },
    {
      "cell_type": "markdown",
      "source": [
        "Meta-regression essentially comes down to a (weighted) regression analysis, using the study-level treatment effect estimates as the dependent variable and available study characteristics as the independent (explanatory) variables.  Thus, any methods for regression analysis can be used for meta-regression.  Below we will use the Lasso to explore possible factors underlying heterogeneity in the effect estimates.\n",
        "\n",
        "Rather than using cross-validation to select the Lasso tuning parameter, we will sweep through a sequence of tuning parameters and assess how the estimated regression effects change.  In general, as the penalty parameter increases most parameter estimates will attenuate toward zero.\n",
        "\n",
        "Some factors have missing values and due to the small sample size it is desirable to retain all of the studies here, so we label missing categorical variable values with a new category called \"missing\" and we impute missing quantitative variable values with the mean of all observed values for the same variable.  These single-imputation approaches are not ideal, but we wish to keep things somewhat simple here."
      ],
      "metadata": {
        "id": "MYiHMFbE6QY_"
      }
    },
    {
      "cell_type": "code",
      "source": [
        "# Create a new dataframe with missing values imputed\n",
        "da1 = da.copy()\n",
        "for v in [\"route\"]:\n",
        "    # Handle missing categoricals\n",
        "    ii = pd.isnull(da1[v])\n",
        "    da1.loc[ii, v] = \"missing\"\n",
        "for v in [\"dose\", \"tobacco_current\", \"frequent_use\", \"current_use\", \"Male\", \"age_m\", \"prev_cannabis_mean\"]:\n",
        "    # Handle missing quantitative\n",
        "    ii = pd.isnull(da1[v])\n",
        "    jj = pd.notnull(da1[v])\n",
        "    da1.loc[ii, v] = da1.loc[jj, v].mean()\n",
        "\n",
        "# Create a dummy-coded design matrix\n",
        "import patsy\n",
        "y = da1[\"smc\"]\n",
        "X = patsy.dmatrix(\"0 + dose + tobacco_current + route + dsouza + frequent_use + current_use + prev_cannabis_mean + Male + age_m\", da1, return_type=\"dataframe\")\n",
        "\n",
        "# Standardize all effects so that the measurement scale does not influence the results.\n",
        "X -= X.mean(0)\n",
        "X /= X.std(0)\n",
        "\n",
        "# Lasso\n",
        "m4 = sm.WLS(y, X, weights=wgt)\n",
        "for alpha in [0.01, 0.05, 0.1, 0.2]:\n",
        "  print(\"alha=%.3f\" % alpha)\n",
        "  r4 = m4.fit_regularized(alpha=alpha, L1_wt=1)\n",
        "  print(r4.params)"
      ],
      "metadata": {
        "colab": {
          "base_uri": "https://localhost:8080/"
        },
        "id": "QjGW4fF7wuKo",
        "outputId": "ed4802d3-21a0-4423-a913-ff5cb06c4019"
      },
      "execution_count": 26,
      "outputs": [
        {
          "output_type": "stream",
          "name": "stdout",
          "text": [
            "alha=0.010\n",
            "route[IV]             0.000000\n",
            "route[inhaled]       -0.085844\n",
            "route[oral]           0.000000\n",
            "dsouza[T.True]       -0.178827\n",
            "dose                  0.252615\n",
            "tobacco_current      -0.147198\n",
            "frequent_use          0.000000\n",
            "current_use           0.000000\n",
            "prev_cannabis_mean    0.428508\n",
            "Male                 -0.349476\n",
            "age_m                 0.210741\n",
            "dtype: float64\n",
            "alha=0.050\n",
            "route[IV]             0.000000\n",
            "route[inhaled]        0.000000\n",
            "route[oral]           0.000000\n",
            "dsouza[T.True]        0.000000\n",
            "dose                  0.000000\n",
            "tobacco_current       0.000000\n",
            "frequent_use          0.000000\n",
            "current_use          -0.033713\n",
            "prev_cannabis_mean    0.233422\n",
            "Male                 -0.124734\n",
            "age_m                 0.120050\n",
            "dtype: float64\n",
            "alha=0.100\n",
            "route[IV]             0.000000\n",
            "route[inhaled]        0.000000\n",
            "route[oral]           0.000000\n",
            "dsouza[T.True]        0.000000\n",
            "dose                  0.000000\n",
            "tobacco_current       0.000000\n",
            "frequent_use          0.000000\n",
            "current_use           0.000000\n",
            "prev_cannabis_mean    0.163052\n",
            "Male                 -0.045314\n",
            "age_m                 0.073821\n",
            "dtype: float64\n",
            "alha=0.200\n",
            "route[IV]             0.000000\n",
            "route[inhaled]        0.000000\n",
            "route[oral]           0.000000\n",
            "dsouza[T.True]        0.000000\n",
            "dose                  0.000000\n",
            "tobacco_current       0.000000\n",
            "frequent_use          0.000000\n",
            "current_use           0.000000\n",
            "prev_cannabis_mean    0.043102\n",
            "Male                  0.000000\n",
            "age_m                 0.000000\n",
            "dtype: float64\n"
          ]
        }
      ]
    },
    {
      "cell_type": "markdown",
      "source": [
        "## Simulation study to assess estimation of I-square"
      ],
      "metadata": {
        "id": "xOIHJXUwyus8"
      }
    },
    {
      "cell_type": "code",
      "source": [
        "n_study = 30\n",
        "mean_study_n = 50\n",
        "\n",
        "# Mean and standard deviation of effect sizes.\n",
        "es_mean = 3\n",
        "es_sd = 0.1\n",
        "\n",
        "def gen_study_ns(n_study, mean_study_n, cv=0.1):\n",
        "  a = 1 / cv**2\n",
        "  b = mean_study_n / a\n",
        "  return np.ceil(np.random.gamma(a, scale=b, size=n_study)).astype(int)\n",
        "\n",
        "def gen_study(es_mean, es_sd, n_study, mean_study_n, cv=0.1):\n",
        "\n",
        "  # Simulate effect sizes\n",
        "  es = es_mean + es_sd * np.random.normal(size=n_study)\n",
        "\n",
        "  ns = gen_study_ns(n_study, mean_study_n, cv)\n",
        "\n",
        "  return es, ns\n",
        "\n",
        "def gendat(n, e):\n",
        "  smc = e + np.random.normal(size=n)\n",
        "  return [smc.mean(), smc.std() / np.sqrt(n)]"
      ],
      "metadata": {
        "id": "K2TA13fXyva4"
      },
      "execution_count": 238,
      "outputs": []
    },
    {
      "cell_type": "code",
      "source": [
        "nrep = 1000\n",
        "cv = 0.5\n",
        "\n",
        "smc0, Q, isquare = [], [], []\n",
        "\n",
        "for k in range(nrep):\n",
        "  es, ns = gen_study(es_mean, es_sd, n_study, mean_study_n, cv)\n",
        "  dd = [gendat(n, e) for (e, n) in zip(es, ns)]\n",
        "  da = pd.DataFrame({\"smc\": [x[0] for x in dd], \"smc_se\": [x[1] for x in dd],\n",
        "                     \"n\": ns})\n",
        "  da = da.loc[da[\"n\"] > 5, :]\n",
        "  s, qq, isq = cochraneQ(da)\n",
        "  smc0.append(s)\n",
        "  Q.append(qq)\n",
        "  isquare.append(isq)\n",
        "\n",
        "rr = pd.DataFrame({\"smc0\": smc0, \"Q\": Q, \"isquare\": isquare})\n",
        "rr.mean(0)"
      ],
      "metadata": {
        "colab": {
          "base_uri": "https://localhost:8080/"
        },
        "id": "iXwbJZXp1kH0",
        "outputId": "e3d3e8b0-ea2f-40e6-b50f-c26dfea7bed4"
      },
      "execution_count": 252,
      "outputs": [
        {
          "output_type": "execute_result",
          "data": {
            "text/plain": [
              "smc0        2.999552\n",
              "Q          46.744537\n",
              "isquare     0.328581\n",
              "dtype: float64"
            ]
          },
          "metadata": {},
          "execution_count": 252
        }
      ]
    },
    {
      "cell_type": "code",
      "source": [
        "mean_study_var = (1 / gen_study_ns(1000, mean_study_n, cv=cv)).mean()\n",
        "true_isquare = es_sd**2 / (es_sd**2 + mean_study_var)\n",
        "true_isquare"
      ],
      "metadata": {
        "colab": {
          "base_uri": "https://localhost:8080/"
        },
        "id": "K8eL4xAjEMm6",
        "outputId": "43d3a246-d696-4b85-9cf0-72f93b1fa07c"
      },
      "execution_count": 250,
      "outputs": [
        {
          "output_type": "execute_result",
          "data": {
            "text/plain": [
              "0.2791983265349918"
            ]
          },
          "metadata": {},
          "execution_count": 250
        }
      ]
    },
    {
      "cell_type": "code",
      "source": [
        "plt.hist(rr[\"isquare\"])"
      ],
      "metadata": {
        "colab": {
          "base_uri": "https://localhost:8080/",
          "height": 521
        },
        "id": "RI7vGSIfIcn1",
        "outputId": "53085028-efa6-41cf-d7b4-7893b160f5db"
      },
      "execution_count": 253,
      "outputs": [
        {
          "output_type": "execute_result",
          "data": {
            "text/plain": [
              "(array([  1.,   1.,   3.,   6.,  17.,  52., 135., 307., 366., 112.]),\n",
              " array([-0.96317077, -0.7961663 , -0.62916182, -0.46215734, -0.29515287,\n",
              "        -0.12814839,  0.03885609,  0.20586057,  0.37286504,  0.53986952,\n",
              "         0.706874  ]),\n",
              " <BarContainer object of 10 artists>)"
            ]
          },
          "metadata": {},
          "execution_count": 253
        },
        {
          "output_type": "display_data",
          "data": {
            "text/plain": [
              "<Figure size 640x480 with 1 Axes>"
            ],
            "image/png": "[encoded data removed]"
          },
          "metadata": {}
        }
      ]
    }
  ]
}