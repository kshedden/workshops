{
 "cells": [
  {
   "cell_type": "markdown",
   "metadata": {
    "id": "Ux5tPZ800y6d"
   },
   "source": [
    "## Meta Analysis examples\n",
    "\n",
    "In this notebook we consider two recently published meta-analyses of the psychological correlates of cannabis use:\n",
    "\n",
    "__Hindley et al.:__ [Psychiatric symptoms caused by cannabis constituents: a systematic review and meta-analysis](https://www.thelancet.com/journals/lanpsy/article/PIIS2215-0366(20)30074-2/fulltext#seccestitle10)\n",
    "\n",
    "__Schoeler et al.:__ [Assessing rates and predictors of cannabis-associated psychotic symptoms across observational, experimental and medical research](https://www.nature.com/articles/s44220-024-00261-x#code-availability)"
   ]
  },
  {
   "cell_type": "markdown",
   "metadata": {
    "id": "5mH5fy3rfkRR"
   },
   "source": [
    "__Overview of Hindley et al.__\n",
    "\n",
    "This is a focused meta-analysis of experiments that employ a [crossover design](https://en.wikipedia.org/wiki/Crossover_study) to assess the psychological effect of [tetrahydrocannabinol (THC)](https://en.wikipedia.org/wiki/Tetrahydrocannabinol), which is the primary psychoactive constituent of cannabis. In each study, healthy subjects were recruited according to eligibility criteria.  Then, in consecutive sessions subjects were administered controlled doses of THC or a placebo in a blinded fashion.  All subjects received two treatments (THC and placebo), and in some (but not all) studies the order of treatment administration was randomized.  Established symptom scales were used to quantify each subject's psychological state following each treatment.  \n",
    "\n",
    "All analysis is _within-subjects_, meaning that we focus on the difference in a symptom scale between the THC and placebo treatments within each subject.\n",
    "\n",
    "The symptom scales in this work are referred to as _positive_ and _negative_.  These terms have technical meanings in psychiatry, with _positive_ here referring to delusions and hallucinations while _negative_ refers to amotivation and blunted affect.  We will focus on the positive symptom scales here.\n",
    "\n",
    "This meta-analysis imposed strict criteria for a study to be included.  Out of 517 studies that were initially considered, only 15 met the meta-analysis inclusion criterion for the positive symptoms.\n",
    "\n",
    "__Overview of Schoeler et al.__\n",
    "\n",
    "This is a synthesis of findings from experimental and observational studies of mental health sequelae of cannabis use, or of THC administration in experimental and/or medical settings.  All studies focus on psychological symptoms and associated outcomes relating to psychosis that may be caused by cannabis.  This scope includes individual symptoms as well as the outcome of seeking emergency care due to psychosis symptoms.\n",
    "\n",
    "There are essentially three distinct analyses:\n",
    "\n",
    "* The cannabis use findings aim to capture psychological symptoms in cannabis users based on observational data.  The underlying studies mainly rely on self-reported assessments of self-identified cannabis users among people who are enrolled into observational studies or who participate in web-surveys.  \n",
    "\n",
    "* The studies conducted in medical settings assess psychosis-related side effects of THC treatment for medical conditions such as pain.\n",
    "\n",
    "* The studies of THC administration in healthy subjects mostly echo the findings of the Hindley et al. study.\n"
   ]
  },
  {
   "cell_type": "code",
   "execution_count": null,
   "metadata": {
    "id": "UP5rOWK00rmL"
   },
   "outputs": [],
   "source": [
    "import io\n",
    "import numpy as np\n",
    "import pandas as pd\n",
    "import matplotlib.pyplot as plt\n",
    "from scipy.stats.distributions import t, chi2\n",
    "import statsmodels.api as sm"
   ]
  },
  {
   "cell_type": "markdown",
   "metadata": {
    "id": "L_m8D72peY_o"
   },
   "source": [
    "## Meta-analysis of Hindley et al.\n",
    "\n",
    "We can extract the data for the positive symptom scale from [supplementary table 2](\n",
    "https://www.thelancet.com/cms/10.1016/S2215-0366(20)30074-2/attachment/acd95ee4-1612-449d-adec-45fede8a9b51/mmc1.pdf).  Some of the key variables in the dataset are:\n",
    "\n",
    "* _n1i_, _n2i_ the treatment and placebo sample sizes, which are always equal since this is a within-subjects design\n",
    "\n",
    "* _m1i_, _m2i_ the sample means of the symptom scales for the treatment and control responses, respectively\n",
    "\n",
    "* _sd1i_, _sd2i_ the sample [standard deviations](https://en.wikipedia.org/wiki/Standard_deviation) of the symptom scales for the treatment and control conditions, respectively\n"
   ]
  },
  {
   "cell_type": "code",
   "execution_count": null,
   "metadata": {
    "colab": {
     "base_uri": "https://localhost:8080/",
     "height": 557
    },
    "id": "60KybqjPGqOx",
    "outputId": "82df5ebd-cd50-4b0a-d871-e1aa201e7491"
   },
   "outputs": [],
   "source": [
    "dt = \"\"\"author,year,time,n1i,m1i,sd1i,n2i,m2i,sd2i,route,thc_drob,dose,prev_cannabis_mean,frequent_use,current_use,tobacco_current,age_m,Male,panss_bprs\n",
    "Barkus,2011,30,9,13.37,2.4,9,7.12,0.0,1,0,2.5,153.0,1.0,0.0,,26.3,100,1\n",
    "Bhattacharyya,2015,120,36,9.6,3.62367,36,7.26,0.582702,0,1,10.0,10.8333,0.0,0.0,25,25.97,100,1\n",
    "Bhattacharyya,2009,120,15,9.58847489,8.27122099,15,7.05801,0.24986901,0,1,10.0,8.0,0.0,0.0,46.66666667,26.7,100,1\n",
    "D'Souza,2012,10,26,12.65,3.19,26,7.96,2.18,1,1,2.133,318.0,1.0,,15.79,25.92,65.3846154,1\n",
    "D'Souza,2004,10,18,9.966837,2.71207595,18,6.813776,0.82992611,1,1,5.0,60.77,0.0,0.0,23.81,29.0,63.6363636,1\n",
    "D'Souza,2008,10,20,10.52,2.61,20,8.05,1.5,1,1,5.0,147.51,1.0,1.0,,24.8,70,1\n",
    "D'Souza,2009a,15,14,9.48755251,1.51,14,7.6335764,0.73450605,1,1,2.0774,48.86,0.0,0.0,0,25.85,78.5714286,1\n",
    "D'Souza,2009b,15,9,8.54065211,1.27455069,9,7.991526,0.866052,1,1,2.1125,141.72,1.0,1.0,11.11111111,22.66,100,1\n",
    "Kleinloog,2012,36,32,9.07,2.29,32,7.47,0.9,2,1,,292.2,1.0,0.0,0,22.3,100,1\n",
    "Liem-Moolenaar,2010,40,11,10.63,3.96,11,7.72,1.27,2,1,,,,0.0,,24.1,100,1\n",
    "Morgan,2018,NR,48,6.6870748,1.03687393,48,6.42857,1.0,2,1,8.0,,,1.0,70.83333333,21.705,70.83,0\n",
    "Morrison,2009,30,21,10.41396,5.28399034,21,7.0005403,0.0,1,0,2.5,,,0.0,,28.0,100,1\n",
    "Morrison,2011,30,16,11.3133161,3.5703548,16,7.036427,0.0,1,0,1.25,40.0,0.0,0.0,,26.0,43.75,1\n",
    "Radhakrishnan,2015,70,23,10.87,2.44,23,8.04,1.46,1,1,1.2147,296.75,1.0,,14.8148148,26.26,100,1\n",
    "Ranganathan,2012,120,26,9.68,1.93,26,7.726444,1.03775281,1,1,1.89,,,,26.66666667,27.14,86.6666667,1\"\"\"\n",
    "\n",
    "da = pd.read_csv(io.StringIO(dt))\n",
    "\n",
    "da[\"route\"] = da[\"route\"].replace({0: \"oral\", 1: \"IV\", 2: \"inhaled\"})\n",
    "da"
   ]
  },
  {
   "cell_type": "markdown",
   "metadata": {
    "id": "hmCWQJshl4f9"
   },
   "source": [
    "## Informal analyses\n",
    "\n",
    "Before proceeding to a more formal meta-analysis, we first explore the data visually.\n",
    "\n",
    "The first two plots below show the relationship between the standard deviation and mean, first in the treatment condition and then in the placebo condition. A few immediate insights are:\n",
    "\n",
    "* There is a weak but evident mean/variance relationship, in which the studies with greater means tend to have greater standard deviation.\n",
    "\n",
    "* Three of the studies report zero standard deviation in the placebo condition."
   ]
  },
  {
   "cell_type": "code",
   "execution_count": null,
   "metadata": {
    "colab": {
     "base_uri": "https://localhost:8080/",
     "height": 467
    },
    "id": "mm_95XbzlCfG",
    "outputId": "cca5c1b0-16a3-4420-d0cc-4dd12de674db"
   },
   "outputs": [],
   "source": [
    "plt.grid(True)\n",
    "plt.plot(da[\"m1i\"], da[\"sd1i\"], \"o\")\n",
    "plt.xlabel(\"Treatment mean\")\n",
    "plt.ylabel(\"Treatment standard deviation\")"
   ]
  },
  {
   "cell_type": "code",
   "execution_count": null,
   "metadata": {
    "colab": {
     "base_uri": "https://localhost:8080/",
     "height": 467
    },
    "id": "zEWDLOuXmLQK",
    "outputId": "79ce4e3f-7f30-4f33-ea93-9a51c83dad07"
   },
   "outputs": [],
   "source": [
    "plt.grid(True)\n",
    "plt.plot(da[\"m2i\"], da[\"sd2i\"], \"o\")\n",
    "plt.xlabel(\"Placebo mean\")\n",
    "plt.ylabel(\"Placebo standard deviation\")"
   ]
  },
  {
   "cell_type": "markdown",
   "metadata": {
    "id": "jj7G5uu3pSVg"
   },
   "source": [
    "The scatterplot below examines the relationship between the treatment and placebo mean responses.  If there is a lot of heterogeneity in baseline risk, this plot will show a positive trend.  Although no such trend is evident here, it is notable that the same study has the lowest mean for both the placebo and treatment conditions."
   ]
  },
  {
   "cell_type": "code",
   "execution_count": null,
   "metadata": {
    "colab": {
     "base_uri": "https://localhost:8080/",
     "height": 467
    },
    "id": "egViTvcFo8aV",
    "outputId": "81342f88-73e5-4954-f311-9d83cd0088bc"
   },
   "outputs": [],
   "source": [
    "plt.grid(True)\n",
    "plt.plot(da[\"m1i\"], da[\"m2i\"], \"o\")\n",
    "plt.xlabel(\"Treatment mean\")\n",
    "plt.ylabel(\"Placebo mean\")"
   ]
  },
  {
   "cell_type": "markdown",
   "metadata": {
    "id": "ybpgpTM5NJkk"
   },
   "source": [
    "The scatterplot below examines the standard deviations in the placebo and active conditions.  There is no evident relationship between the two standard deviations."
   ]
  },
  {
   "cell_type": "code",
   "execution_count": null,
   "metadata": {
    "colab": {
     "base_uri": "https://localhost:8080/",
     "height": 467
    },
    "id": "RMCcQcAapF1F",
    "outputId": "47d3a68f-e849-4635-cb12-6f4c142052d0"
   },
   "outputs": [],
   "source": [
    "plt.grid(True)\n",
    "plt.plot(da[\"sd1i\"], da[\"sd2i\"], \"o\")\n",
    "plt.xlabel(\"Treatment standard deviation\")\n",
    "plt.ylabel(\"Placebo standard deviation\")"
   ]
  },
  {
   "cell_type": "markdown",
   "metadata": {
    "id": "PfHmv53goPwS"
   },
   "source": [
    "The next two scatterplots show the treatment and placebo sample sizes against their respective means.\n",
    "\n",
    "There is little evidence of a systematic difference in the estimated treatment arm responses between smaller and larger studies, and this is also true for the placebo arm responses."
   ]
  },
  {
   "cell_type": "code",
   "execution_count": null,
   "metadata": {
    "colab": {
     "base_uri": "https://localhost:8080/",
     "height": 467
    },
    "id": "Y34naGQ7j80s",
    "outputId": "3b8d72fb-1e36-42ce-dfbb-59342d6f575b"
   },
   "outputs": [],
   "source": [
    "plt.grid(True)\n",
    "plt.plot(da[\"n1i\"], da[\"m1i\"], \"o\")\n",
    "plt.xlabel(\"Treatment sample size\")\n",
    "plt.ylabel(\"Treatment mean\")"
   ]
  },
  {
   "cell_type": "code",
   "execution_count": null,
   "metadata": {
    "colab": {
     "base_uri": "https://localhost:8080/",
     "height": 467
    },
    "id": "L-LlH1ZTkPuA",
    "outputId": "0584ff2b-8f3d-44f2-b300-e70bcbb564a7"
   },
   "outputs": [],
   "source": [
    "plt.grid(True)\n",
    "plt.plot(da[\"n2i\"], da[\"m2i\"], \"o\")\n",
    "plt.xlabel(\"Placebo sample size\")\n",
    "plt.ylabel(\"Placebo mean\")"
   ]
  },
  {
   "cell_type": "markdown",
   "metadata": {
    "id": "MOZU5usint8o"
   },
   "source": [
    "The scatterplot below shows the placebo mean plotted against the treatment mean.  The grey line is the line of equality and it is evident that in all studies, the treatment mean is greater than the placebo mean."
   ]
  },
  {
   "cell_type": "code",
   "execution_count": null,
   "metadata": {
    "colab": {
     "base_uri": "https://localhost:8080/",
     "height": 467
    },
    "id": "h6cXUlKRkXBI",
    "outputId": "21fa5d58-376b-489f-e3e8-4fba94e550b0"
   },
   "outputs": [],
   "source": [
    "plt.grid(True)\n",
    "plt.plot(da[\"m1i\"], da[\"m2i\"], \"o\")\n",
    "plt.axline([6, 6], [8, 8], color=\"grey\")\n",
    "plt.xlabel(\"Treatment mean\")\n",
    "plt.ylabel(\"Placebo mean\")"
   ]
  },
  {
   "cell_type": "markdown",
   "metadata": {
    "id": "TNBoHMfReosX"
   },
   "source": [
    "# Standardized mean changes\n",
    "\n",
    "The function below calculates the average within-subject \"standardized mean change\" (SMC) between the treatment and control conditions and its standard error, for each study in the meta-analysis.  The SMC is a dimension-free measure of effect size that can be compared more directly between studies.  It is closely related to the widely-reported \"Cohen's-D\" effect size.\n",
    "\n",
    "A key challenge here is that in any within-subjects design, the two measurements for a subject are correlated, but researchers rarely report this correlation in their manuscripts.  The standardized mean change cannot be calculated without knowing this correlation.  It is therefore common in meta-analyses to assume a value for this parameter such as r=0.5."
   ]
  },
  {
   "cell_type": "code",
   "execution_count": null,
   "metadata": {
    "id": "76BS1BWTxuP7"
   },
   "outputs": [],
   "source": [
    "def gen_se(da, r):\n",
    "  \"\"\"\n",
    "  Append the standardized mean change (SMC) for each study to the dataframe 'da',\n",
    "  assuming that the within-subject correlation is 'r'.\n",
    "\n",
    "  The standard error for the SMC is also calculated, along with the upper and lower 95% confidence bounds.\n",
    "  \"\"\"\n",
    "  # Standard deviation of the within-subject difference for one subject.\n",
    "  sdd = np.sqrt(da[\"sd1i\"]**2 + da[\"sd2i\"]**2 - 2*r*da[\"sd1i\"]*da[\"sd2i\"])\n",
    "  \n",
    "  # The standardized mean difference\n",
    "  da[\"smc\"] = (da[\"m1i\"] - da[\"m2i\"]) / sdd\n",
    "  \n",
    "  # The standard error of the standardized mean difference\n",
    "  da[\"smc_se\"] = 1 / np.sqrt(da[\"n1i\"])\n",
    "  \n",
    "  # Lower and upper confidence limits for the SMC\n",
    "  qq = t(da[\"n1i\"]-2).ppf(0.975)\n",
    "  da[\"lcb\"] = da[\"smc\"] - qq*da[\"smc_se\"]\n",
    "  da[\"ucb\"] = da[\"smc\"] + qq*da[\"smc_se\"]\n",
    "  return da\n",
    "\n",
    "da = gen_se(da, 0.5)"
   ]
  },
  {
   "cell_type": "markdown",
   "metadata": {
    "id": "ZzpRmVXEmC4Q"
   },
   "source": [
    "There are some special consequences of using the SMC (standardized mean change) in a meta-analysis that utilizes within-subject commparisons.  Let $d_i = y_i - x_i$ denote the difference between subject $i$'s response for the active treatment ($y_i$) and the placebo ($x_i$).  The standard deviation of $d_i$ is $s_p = \\sqrt{s_1^2 + s_2^2 - 2rs_1s_2}$.  Let $\\tilde{d}_i = d_i/s_p$.  The standard deviation of $\\tilde{d}_i$ is $1$.\n",
    "\n",
    "Let $\\bar{d} = (\\tilde{d}_1 + \\cdots + \\tilde{d}_n)/m$ denote the average of the $\\tilde{d}_i$ over the (independent) studies.  The standard error of $\\bar{d}$ is $1/\\sqrt{m}$.  \n",
    "\n",
    "When we use $r=1/2$ as done here, the standard deviation of $d_i$ is $\\sqrt{s_1^2 + s_2^2 - s_1s_2}$.  If $s_2 = 0$, the SD simplifies to $s_1$, and if we replace the value of $s_2$ with $s_1$ then we also get $s_1$.  Thus, in this special case, replacing a value $s_2=0$ with $s_2=s_1$ yields identical results."
   ]
  },
  {
   "cell_type": "markdown",
   "metadata": {
    "id": "6P0kqp6VLX0f"
   },
   "source": [
    "The standard error of the SMC is a smoothly decreasing function of the sample size ($1/\\sqrt{n}$)."
   ]
  },
  {
   "cell_type": "code",
   "execution_count": null,
   "metadata": {
    "colab": {
     "base_uri": "https://localhost:8080/",
     "height": 467
    },
    "id": "nDUzWNdOLTVH",
    "outputId": "4de18277-1be1-4716-abc0-15cbdd331827"
   },
   "outputs": [],
   "source": [
    "plt.grid(True)\n",
    "n1i = np.sort(da[\"n1i\"])\n",
    "plt.plot(n1i, 1/np.sqrt(n1i), \"-\", label=\"$1/\\sqrt{n}$\")\n",
    "plt.plot(da[\"n1i\"], da[\"smc_se\"], \"o\")\n",
    "plt.xlabel(\"Sample size\")\n",
    "plt.ylabel(\"SMC SE\")\n",
    "ha, lb = plt.gca().get_legend_handles_labels()\n",
    "plt.figlegend(ha, lb, loc=\"center right\")"
   ]
  },
  {
   "cell_type": "markdown",
   "metadata": {
    "id": "Qnh3kJry-oic"
   },
   "source": [
    "## Integration of p-values\n",
    "\n",
    "We begin by calculating the study-level p-values.  We can analyze these as an esemble of evidence from different sources, and combine them into a \"meta p-value\".  If all studies are null (i.e. if the \"global null\" holds), then these p-values would be an IID sample from a uniform distribution in (0,1), but clearly that is not the case here."
   ]
  },
  {
   "cell_type": "code",
   "execution_count": null,
   "metadata": {
    "id": "5bVgMtk--nlt"
   },
   "outputs": [],
   "source": [
    "da[\"pvalue\"] = t(da[\"n1i\"]-2).cdf(-np.abs(da[\"smc\"])/da[\"smc_se\"])\n",
    "da[\"pvalue\"]"
   ]
  },
  {
   "cell_type": "markdown",
   "metadata": {
    "id": "DTNK--laAc0f"
   },
   "source": [
    "Fisher's combining rule produces a statistic that under the global null follows a chi-square distribution with $2m=30$ degrees of freedom.  The \"meta p-value\" based on Fisher's method is essentially zero.\n"
   ]
  },
  {
   "cell_type": "code",
   "execution_count": null,
   "metadata": {
    "colab": {
     "base_uri": "https://localhost:8080/"
    },
    "id": "Wz4YZqfC_5mY",
    "outputId": "ffd13be4-13c7-4910-d0cc-4f200f9cbd6e"
   },
   "outputs": [],
   "source": [
    "fp = -2*np.log(da[\"pvalue\"]).sum()\n",
    "meta_p = 1 - chi2(2*da.shape[0]).cdf(fp)\n",
    "[fp, meta_p]"
   ]
  },
  {
   "cell_type": "markdown",
   "metadata": {
    "id": "Sq1GwePyIH6p"
   },
   "source": [
    "The studies under consideration include multiple studies conducted by similar author groups, and these could potentially be statistically dependent.  One way to account for such dependence is using the Bonferroni approach, under which the evidence remains strong."
   ]
  },
  {
   "cell_type": "code",
   "execution_count": null,
   "metadata": {
    "colab": {
     "base_uri": "https://localhost:8080/"
    },
    "id": "EWTD_MROH9sW",
    "outputId": "e5cfbbc4-73bc-47ed-ca98-f23e734af091"
   },
   "outputs": [],
   "source": [
    "bonf = da.shape[0] * da[\"pvalue\"].min()\n",
    "bonf"
   ]
  },
  {
   "cell_type": "markdown",
   "metadata": {
    "id": "V8DMkz3JJ9f5"
   },
   "source": [
    "Methods due to Vovk allow us to obtain p-values that are robust to dependence by rescaling the three [Pythagorean means](https://en.wikipedia.org/wiki/Pythagorean_means)."
   ]
  },
  {
   "cell_type": "code",
   "execution_count": null,
   "metadata": {
    "colab": {
     "base_uri": "https://localhost:8080/"
    },
    "id": "PIMuvjJXJEkm",
    "outputId": "845478ab-c30d-4778-b3f0-cd9ba3ac475a"
   },
   "outputs": [],
   "source": [
    "pval = da[\"pvalue\"]\n",
    "m = da.shape[0]\n",
    "am = 2*pval.mean()\n",
    "gm = np.exp(1) * np.exp(np.log(pval).mean())\n",
    "hm = np.log(m) / np.mean(1 / pval)\n",
    "[am, gm, hm]"
   ]
  },
  {
   "cell_type": "markdown",
   "metadata": {},
   "source": [
    "Below we conduct a small simulation study to assess the performance of the three p-value pooling procedures based on Pythagorean means."
   ]
  },
  {
   "cell_type": "code",
   "execution_count": null,
   "metadata": {},
   "outputs": [],
   "source": [
    "nrep = 1000\n",
    "n = 30\n",
    "meta = []\n",
    "for _ in range(nrep):\n",
    "    p = np.random.uniform(size=n)\n",
    "    meta.append([2*p.mean(), np.exp(1)*np.exp(np.log(pval)).mean(), np.log(m) / np.mean(1 / p)])\n",
    "meta = np.asarray(meta)\n",
    "(meta <= 0.05).mean(0)"
   ]
  },
  {
   "cell_type": "markdown",
   "metadata": {
    "id": "4hRDk37drIjE"
   },
   "source": [
    "We proceed with a scatterplot of the SMC against the study size.  This is a simple way to assess for heterogeneity that could possibly reflect systematic methodological differences between larger and smaller studies.  There is no clear trend below, although it is notable that the largest study has the smallest SMC and one of the two smallest studies has the largest SMC."
   ]
  },
  {
   "cell_type": "code",
   "execution_count": null,
   "metadata": {
    "colab": {
     "base_uri": "https://localhost:8080/",
     "height": 467
    },
    "id": "IymrMAyzq5pb",
    "outputId": "00f7321d-8315-4910-e122-5df5cb14acd6"
   },
   "outputs": [],
   "source": [
    "plt.grid(True)\n",
    "plt.plot(da[\"n1i\"], da[\"smc\"], \"o\")\n",
    "plt.xlabel(\"Sample size\")\n",
    "plt.ylabel(\"SMC\")"
   ]
  },
  {
   "cell_type": "markdown",
   "metadata": {
    "id": "0Z1pbI4owaSq"
   },
   "source": [
    "## Assessment of heterogeneity\n",
    "\n",
    "The following function calculates the pooled estimate of the SMC using inverse variance weighting."
   ]
  },
  {
   "cell_type": "code",
   "execution_count": null,
   "metadata": {
    "id": "5U-veDHhwUg9"
   },
   "outputs": [],
   "source": [
    "def pooled_smc(da):\n",
    "  w = 1 / da[\"smc_se\"]**2\n",
    "  w /= w.sum()\n",
    "  smc0 = np.dot(w, da[\"smc\"])\n",
    "  return smc0"
   ]
  },
  {
   "cell_type": "markdown",
   "metadata": {
    "id": "C_WN4iN3wnV2"
   },
   "source": [
    "The following function constructs a simple [forest plot](https://en.wikipedia.org/wiki/Forest_plot) of the study-level SMC's, along with the pooled estimate of the population SMC.  This should align with figure 3 from the Hindley et al. paper."
   ]
  },
  {
   "cell_type": "code",
   "execution_count": null,
   "metadata": {
    "colab": {
     "base_uri": "https://localhost:8080/",
     "height": 449
    },
    "id": "k79Wzwge9uQr",
    "outputId": "849ad93e-8703-4455-ff24-9ee428a15949"
   },
   "outputs": [],
   "source": [
    "def forest(da):\n",
    "  ii = da.shape[0] - np.arange(da.shape[0])\n",
    "  plt.plot(da[\"smc\"], ii, \"o\", color=\"black\")\n",
    "  for i in range(len(ii)):\n",
    "    plt.plot([da[\"lcb\"][i], da[\"ucb\"][i]], [ii[i], ii[i]], \"-\", color=\"black\")\n",
    "  smc0 = pooled_smc(da)\n",
    "  plt.gca().axvline(smc0)\n",
    "  plt.gca().axvline(0, color=\"grey\")\n",
    "  plt.gca().spines[['right', 'left', 'top']].set_visible(False)\n",
    "  plt.gca().set_yticks([])\n",
    "  plt.xlabel(\"SMC\")\n",
    "  plt.show()\n",
    "\n",
    "forest(da)"
   ]
  },
  {
   "cell_type": "markdown",
   "metadata": {
    "id": "zO3T6MJX0Usy"
   },
   "source": [
    "The function below calculate the pooled SMC estimate, the Cochrane's Q statistics, and the corresponding estimate of the heterogeneity statistic (I-squared)."
   ]
  },
  {
   "cell_type": "code",
   "execution_count": null,
   "metadata": {
    "id": "nKt-r9_1tycO"
   },
   "outputs": [],
   "source": [
    "def cochraneQ(da):\n",
    "  smc0 = pooled_smc(da)\n",
    "  cq = (da[\"smc\"] - smc0) / da[\"smc_se\"]\n",
    "  Q = np.sum(cq**2)\n",
    "  isquare = 1 - (da.shape[0]-1)/Q\n",
    "  return smc0,Q,isquare"
   ]
  },
  {
   "cell_type": "markdown",
   "metadata": {
    "id": "AKacfE6ESnYb"
   },
   "source": [
    "The Hindley et al. study reports a consensus treatment effect of 0.91, a Q statistic of 43.7 and an I-square of 65.7%.  Our estimates of these quantities are shown below.  We are using a slightly different method to estimate the consensus treatment effect and yet the findings for this parameter are quite similar.  Our estimates of heterogeneity are larger than reported by the authors."
   ]
  },
  {
   "cell_type": "code",
   "execution_count": null,
   "metadata": {
    "colab": {
     "base_uri": "https://localhost:8080/"
    },
    "id": "I8WqVzN-0R9L",
    "outputId": "4ff72891-7696-48bb-d737-1ad9696f2485"
   },
   "outputs": [],
   "source": [
    "smc0, Q, isquare = cochraneQ(da)\n",
    "[smc0, Q, isquare]"
   ]
  },
  {
   "cell_type": "markdown",
   "metadata": {
    "id": "1n-lCLo0qXrf"
   },
   "source": [
    "## Meta-regression analysis\n",
    "\n",
    "Next we perform some meta-regressions to assess the extent to which specific study features are associated with greater treatment effects.  We will conduct meta-regressions using weighted least squares (WLS) with inverse variance weighting based on the SMC standard error within each study.\n",
    "\n",
    "The authors note a negative association between prevalence of tobacco use and the SMC so we begin by looking at that factor alone, and are able to corroborate the claim:"
   ]
  },
  {
   "cell_type": "code",
   "execution_count": null,
   "metadata": {
    "colab": {
     "base_uri": "https://localhost:8080/",
     "height": 480
    },
    "id": "gUuTVbDZqWsW",
    "outputId": "e5727122-6b58-4c63-d3ec-608049b5fe0c"
   },
   "outputs": [],
   "source": [
    "wgt = 1 / da[\"smc_se\"]**2\n",
    "m0 = sm.WLS.from_formula(\"smc ~ tobacco_current\", weights=wgt, data=da)\n",
    "r0 = m0.fit()\n",
    "r0.summary()"
   ]
  },
  {
   "cell_type": "markdown",
   "metadata": {
    "id": "Kpt4wJt_tNzv"
   },
   "source": [
    "If we weight the studies equally, the p-value for the tobacco effect is somewhat larger (but [the difference between significant and not significant is not significant](http://www.stat.columbia.edu/~gelman/research/published/signif4.pdf))."
   ]
  },
  {
   "cell_type": "code",
   "execution_count": null,
   "metadata": {
    "colab": {
     "base_uri": "https://localhost:8080/",
     "height": 480
    },
    "id": "UFa_hsH1sqFh",
    "outputId": "482f8efd-ed90-440b-ffe9-3bf9b6c15b81"
   },
   "outputs": [],
   "source": [
    "m1 = sm.OLS.from_formula(\"smc ~ tobacco_current\", data=da)\n",
    "r1 = m1.fit()\n",
    "r1.summary()"
   ]
  },
  {
   "cell_type": "markdown",
   "metadata": {
    "id": "uAEbo5C8uYFt"
   },
   "source": [
    "Five of the studies were conducted by one group (lead author D'Souza), and the meta-analysis authors claim that this group obtains significantly greater SMC\n",
    "values than the others.  We do find a trend toward greater SMC in the D'Souza group studies, but it is not statistically significant in our analysis."
   ]
  },
  {
   "cell_type": "code",
   "execution_count": null,
   "metadata": {
    "colab": {
     "base_uri": "https://localhost:8080/",
     "height": 480
    },
    "id": "05EsqYZ_tYHQ",
    "outputId": "d0ceb447-0b37-4248-efcd-25b330d286de"
   },
   "outputs": [],
   "source": [
    "da[\"dsouza\"] = da[\"author\"].str.contains(\"D'Souza\")\n",
    "m2 = sm.WLS.from_formula(\"smc ~ dsouza\", weights=wgt, data=da)\n",
    "r2 = m2.fit()\n",
    "r2.summary()"
   ]
  },
  {
   "cell_type": "markdown",
   "metadata": {
    "id": "DwKAr1Bwuz8d"
   },
   "source": [
    "The meta-analysis also claims greater SMC values are associated with the intravaneous (IV) route of administration.  This claim is replicated in our analysis below."
   ]
  },
  {
   "cell_type": "code",
   "execution_count": null,
   "metadata": {
    "colab": {
     "base_uri": "https://localhost:8080/",
     "height": 501
    },
    "id": "-V-4k3l8uH_p",
    "outputId": "4b13cea4-de90-4eb1-de65-eceac324ebf2"
   },
   "outputs": [],
   "source": [
    "m3 = sm.WLS.from_formula(\"smc ~ route\", weights=wgt, data=da)\n",
    "r3 = m3.fit()\n",
    "r3.summary()"
   ]
  },
  {
   "cell_type": "markdown",
   "metadata": {
    "id": "MYiHMFbE6QY_"
   },
   "source": [
    "Meta-regression essentially comes down to a (weighted) regression analysis, using the study-level treatment effect estimates as the dependent variable and available study characteristics as the independent (explanatory) variables.  Thus, any methods for regression analysis can be used for meta-regression.  Below we will use the Lasso to explore possible factors underlying heterogeneity in the effect estimates.\n",
    "\n",
    "Rather than using cross-validation to select the Lasso tuning parameter, we will sweep through a sequence of tuning parameters and assess how the estimated regression effects change.  In general, as the penalty parameter increases most parameter estimates will attenuate toward zero.\n",
    "\n",
    "Some factors have missing values and due to the small sample size it is desirable to retain all of the studies here, so we label missing categorical variable values with a new category called \"missing\" and we impute missing quantitative variable values with the mean of all observed values for the same variable.  These single-imputation approaches are not ideal, but we wish to keep things somewhat simple here."
   ]
  },
  {
   "cell_type": "code",
   "execution_count": null,
   "metadata": {
    "colab": {
     "base_uri": "https://localhost:8080/"
    },
    "id": "QjGW4fF7wuKo",
    "outputId": "ed4802d3-21a0-4423-a913-ff5cb06c4019"
   },
   "outputs": [],
   "source": [
    "# Create a new dataframe with missing values imputed\n",
    "da1 = da.copy()\n",
    "for v in [\"route\"]:\n",
    "    # Handle missing categoricals\n",
    "    ii = pd.isnull(da1[v])\n",
    "    da1.loc[ii, v] = \"missing\"\n",
    "    \n",
    "for v in [\"dose\", \"tobacco_current\", \"frequent_use\", \"current_use\", \"Male\", \"age_m\", \"prev_cannabis_mean\"]:\n",
    "    # Handle missing quantitative\n",
    "    ii = pd.isnull(da1[v])\n",
    "    jj = pd.notnull(da1[v])\n",
    "    da1.loc[ii, v] = da1.loc[jj, v].mean()\n",
    "\n",
    "# Create a dummy-coded design matrix\n",
    "import patsy\n",
    "y = da1[\"smc\"]\n",
    "X = patsy.dmatrix(\"0 + dose + tobacco_current + route + dsouza + frequent_use + current_use + prev_cannabis_mean + Male + age_m\", da1, return_type=\"dataframe\")\n",
    "\n",
    "# Standardize all effects so that the measurement scale does not influence the results.\n",
    "X -= X.mean(0)\n",
    "X /= X.std(0)\n",
    "\n",
    "# Lasso\n",
    "m4 = sm.WLS(y, X, weights=wgt)\n",
    "for alpha in [0.01, 0.05, 0.1, 0.2]:\n",
    "  print(\"alpha=%.3f\" % alpha)\n",
    "  r4 = m4.fit_regularized(alpha=alpha, L1_wt=1)\n",
    "  print(r4.params)\n",
    "  print(\"\")"
   ]
  },
  {
   "cell_type": "markdown",
   "metadata": {
    "id": "xOIHJXUwyus8"
   },
   "source": [
    "## Simulation study to assess estimation of I-square\n",
    "\n",
    "The I-square statistic is very important in meta-analysis, but is difficult to estimate from modest sample sizes.  The simulation study below assesses the performance of the plug-in (method of moments) estimator of I^ 2. "
   ]
  },
  {
   "cell_type": "code",
   "execution_count": null,
   "metadata": {
    "id": "K2TA13fXyva4"
   },
   "outputs": [],
   "source": [
    "# Number of studies\n",
    "n_study = 30\n",
    "\n",
    "# Average sample size per study\n",
    "mean_study_n = 50\n",
    "\n",
    "# Mean and standard deviation of true effect sizes.\n",
    "es_mean = 3\n",
    "es_sd = 0.1\n",
    "\n",
    "def gen_study_ns(n_study, mean_study_n, cv=0.1):\n",
    "  a = 1 / cv**2\n",
    "  b = mean_study_n / a\n",
    "  return np.ceil(np.random.gamma(a, scale=b, size=n_study)).astype(int)\n",
    "\n",
    "def gen_study(es_mean, es_sd, n_study, mean_study_n, cv=0.1):\n",
    "\n",
    "  # Simulate effect sizes\n",
    "  es = es_mean + es_sd * np.random.normal(size=n_study)\n",
    "\n",
    "  # Simulate sample sizes\n",
    "  ns = gen_study_ns(n_study, mean_study_n, cv)\n",
    "\n",
    "  return es, ns\n",
    "\n",
    "# Generate observed study data.  We assume that the statistic is\n",
    "# standardized to that the observed value differs from the true\n",
    "# value by a unit-variance deviate.\n",
    "def gendat(n, e):\n",
    "  smc = e + np.random.normal(size=n)\n",
    "  return [smc.mean(), smc.std() / np.sqrt(n)]"
   ]
  },
  {
   "cell_type": "code",
   "execution_count": null,
   "metadata": {
    "colab": {
     "base_uri": "https://localhost:8080/"
    },
    "id": "iXwbJZXp1kH0",
    "outputId": "e3d3e8b0-ea2f-40e6-b50f-c26dfea7bed4"
   },
   "outputs": [],
   "source": [
    "nrep = 1000\n",
    "cv = 0.5\n",
    "\n",
    "smc0, Q, isquare = [], [], []\n",
    "\n",
    "for k in range(nrep):\n",
    "    \n",
    "  # Generate population parameters of each study\n",
    "  es, ns = gen_study(es_mean, es_sd, n_study, mean_study_n, cv)\n",
    "    \n",
    "  # Generate observed results from each study\n",
    "  dd = [gendat(n, e) for (e, n) in zip(es, ns)]\n",
    "    \n",
    "  da = pd.DataFrame({\"smc\": [x[0] for x in dd], \"smc_se\": [x[1] for x in dd],\n",
    "                     \"n\": ns})\n",
    "  da = da.loc[da[\"n\"] > 5, :]\n",
    "    \n",
    "  # Estimate I^2 from the observed study data\n",
    "  s, qq, isq = cochraneQ(da)\n",
    "  smc0.append(s)\n",
    "  Q.append(qq)\n",
    "  isquare.append(isq)\n",
    "\n",
    "rr = pd.DataFrame({\"smc0\": smc0, \"Q\": Q, \"isquare\": isquare})\n",
    "rr.mean(0)"
   ]
  },
  {
   "cell_type": "markdown",
   "metadata": {},
   "source": [
    "It isn't easy to calculate the population ICC directly, so we use simulation with a large number of studies."
   ]
  },
  {
   "cell_type": "code",
   "execution_count": null,
   "metadata": {
    "colab": {
     "base_uri": "https://localhost:8080/"
    },
    "id": "K8eL4xAjEMm6",
    "outputId": "43d3a246-d696-4b85-9cf0-72f93b1fa07c"
   },
   "outputs": [],
   "source": [
    "mean_study_var = (1 / gen_study_ns(1000, mean_study_n, cv=cv)).mean()\n",
    "true_isquare = es_sd**2 / (es_sd**2 + mean_study_var)\n",
    "true_isquare"
   ]
  },
  {
   "cell_type": "code",
   "execution_count": null,
   "metadata": {
    "colab": {
     "base_uri": "https://localhost:8080/",
     "height": 521
    },
    "id": "RI7vGSIfIcn1",
    "outputId": "53085028-efa6-41cf-d7b4-7893b160f5db"
   },
   "outputs": [],
   "source": [
    "plt.hist(rr[\"isquare\"])\n",
    "plt.xlabel(\"Estimated I^2\")\n",
    "plt.ylabel(\"Frequency\")"
   ]
  }
 ],
 "metadata": {
  "colab": {
   "provenance": []
  },
  "kernelspec": {
   "display_name": "Python 3 (ipykernel)",
   "language": "python",
   "name": "python3"
  },
  "language_info": {
   "codemirror_mode": {
    "name": "ipython",
    "version": 3
   },
   "file_extension": ".py",
   "mimetype": "text/x-python",
   "name": "python",
   "nbconvert_exporter": "python",
   "pygments_lexer": "ipython3",
   "version": "3.10.9"
  }
 },
 "nbformat": 4,
 "nbformat_minor": 1
}
