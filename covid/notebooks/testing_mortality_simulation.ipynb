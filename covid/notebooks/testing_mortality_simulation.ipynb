{
 "cells": [
  {
   "cell_type": "markdown",
   "metadata": {},
   "source": [
    "## Assessment using first principles simulation"
   ]
  },
  {
   "cell_type": "markdown",
   "metadata": {},
   "source": [
    "The analysis above uses Poisson regression, which is a statistical\n",
    "approach rather than a mechanistic approach.  Viral epidemics are\n",
    "generally modeled using \"first principles\" mathematical models that\n",
    "reflect the assumed disease dynamics.  A common formalism is to view\n",
    "the population as being partitioned into compartments of\n",
    "\"susceptible\", \"infected\", \"recovered\", and \"dead\" individuals.  In\n",
    "a discrete-time approach, on each day, the following can happen: (i)\n",
    "currently infected people can recover, (ii) currently infected\n",
    "people can die, and (iii) currently infected people can infect\n",
    "susceptible people.  By specifying probability distributions for the\n",
    "duration that a newly infected person remains infected, the\n",
    "probability that an infected person dies (the \"infection/fatality\n",
    "rate\"), the duration from infection to recovery or death, and the\n",
    "number of new infections arising from each infected person (the\n",
    "\"r0\", or more precisely, \"rt\" parameter), we can generate data\n",
    "following this formalism."
   ]
  },
  {
   "cell_type": "code",
   "execution_count": 1,
   "metadata": {},
   "outputs": [],
   "source": [
    "import pandas as pd\n",
    "import numpy as np\n",
    "import statsmodels.api as sm\n",
    "import matplotlib.pyplot as plt"
   ]
  },
  {
   "cell_type": "markdown",
   "metadata": {},
   "source": [
    "Below we will carry out a simulation using the very simple\n",
    "compartmental model described above, aiming to roughly capture the\n",
    "situation for Michigan.  We will model the rt parameter as a\n",
    "piecewise linear function that starts at 2.2 (a high value) and\n",
    "remains there for one month.  Then, due to the effect of mitigation\n",
    "measures, we have the rt decrease linearly from 2.2 to 0.9 over a\n",
    "duration of 20 days.  The rt remains at 0.9 thereafter.\n",
    "\n",
    "The main goal here is to see how the Poisson regression model\n",
    "performs when fed data generated according to a commonly-utilized\n",
    "probability model for epidemics."
   ]
  },
  {
   "cell_type": "code",
   "execution_count": 2,
   "metadata": {
    "lines_to_end_of_cell_marker": 0,
    "lines_to_next_cell": 1
   },
   "outputs": [],
   "source": [
    "# Simulate for this number of days\n",
    "ntime = 85\n",
    "\n",
    "# Infection fatality rate\n",
    "ifr = 0.01\n",
    "\n",
    "# Information characterizing one person\n",
    "class person:\n",
    "\n",
    "    # Day on which the person was infected\n",
    "    infection_day = 0\n",
    "\n",
    "    # True if the person recovers, False if they die\n",
    "    recover = True\n",
    "\n",
    "    # The time duration from infection to recovery or death\n",
    "    duration = 0\n",
    "\n",
    "    # The number of people infected by this person\n",
    "    infects = 0\n",
    "\n",
    "    def get_rt(self, d):\n",
    "\n",
    "        # The initial rt and final rt\n",
    "        r0 = 2.5\n",
    "        r1 = 0.9\n",
    "\n",
    "        # Due to mitigation, the rt value drops from r0 to r1\n",
    "        # between days d0 and d1.\n",
    "        d0, d1 = 20, 40\n",
    "\n",
    "        # Calculate the rt value on day d\n",
    "        if d <= d0:\n",
    "            rt = r0\n",
    "        elif d <= d1:\n",
    "            rt = r0 - (r0 - r1) * (d - d0) / (d1 - d0)\n",
    "        else:\n",
    "            rt = r1\n",
    "        return rt\n",
    "\n",
    "    # Generate a random person who is infected on day d.\n",
    "    def __init__(self, d):\n",
    "\n",
    "        rt = self.get_rt(d)\n",
    "\n",
    "        # Day of infection\n",
    "        self.day = d\n",
    "\n",
    "        # Does the person recover or die?\n",
    "        self.recover = np.random.uniform() > ifr\n",
    "        if self.recover:\n",
    "            # Duration to recovery\n",
    "            self.duration = int(np.ceil(-7*np.log(np.random.uniform())))\n",
    "        else:\n",
    "            # Duration to death\n",
    "            self.duration = int(np.ceil(-21*np.log(np.random.uniform())))\n",
    "\n",
    "        # Number of people infected by this person, give it heavier\n",
    "        # tails to approximate \"super-spreading\".\n",
    "        # b = v/m\n",
    "        # a = m^2/v\n",
    "        m = rt\n",
    "        v = 10.0 * m**2\n",
    "        self.infects = int(np.round(np.random.gamma(m**2/v, v/m)))"
   ]
  },
  {
   "cell_type": "markdown",
   "metadata": {},
   "source": [
    "The columns of the array 'sird' correspond to the number of new\n",
    "infections, new recoveries, new deaths, and active infections on a\n",
    "given day.  The rows of sird correspond to consecutive days since\n",
    "the beginning of the epidemic.\n",
    "\n",
    "The following function updates the numbers rows of 'sird' based on a\n",
    "set of infected people in 'active'."
   ]
  },
  {
   "cell_type": "code",
   "execution_count": 3,
   "metadata": {
    "lines_to_end_of_cell_marker": 0,
    "lines_to_next_cell": 1
   },
   "outputs": [],
   "source": [
    "def update_mat(active, sird):\n",
    "    for k, p in enumerate(active):\n",
    "        if p.day >= ntime:\n",
    "            continue\n",
    "\n",
    "        # Update the new infection column\n",
    "        sird[p.day, 0] += 1\n",
    "\n",
    "        # The end of the infectious interval\n",
    "        t = p.day + p.duration\n",
    "\n",
    "        # Update the active cases column\n",
    "        sird[p.day:min(t, ntime), 3] += 1\n",
    "\n",
    "        # The person's outcome occurs in the future\n",
    "        if t >= ntime:\n",
    "            continue\n",
    "\n",
    "        # Update the outcome columns\n",
    "        if p.recover:\n",
    "            sird[p.day + p.duration, 1] += 1\n",
    "        else:\n",
    "            sird[p.day + p.duration, 2] += 1\n",
    "\n",
    "    return sird"
   ]
  },
  {
   "cell_type": "markdown",
   "metadata": {},
   "source": [
    "The following function advances one generation, taking all the\n",
    "currently infected people and simulating data for the people\n",
    "infected by them."
   ]
  },
  {
   "cell_type": "code",
   "execution_count": 4,
   "metadata": {
    "lines_to_end_of_cell_marker": 0,
    "lines_to_next_cell": 1
   },
   "outputs": [],
   "source": [
    "def update_people(active):\n",
    "    active1 = set({})\n",
    "    for a in active:\n",
    "        for k in range(a.infects):\n",
    "            delay = np.random.poisson(4)\n",
    "            active1.add(person(a.day + delay))\n",
    "    return active1"
   ]
  },
  {
   "cell_type": "code",
   "execution_count": 5,
   "metadata": {
    "lines_to_next_cell": 1
   },
   "outputs": [],
   "source": [
    "np.random.seed(34234)"
   ]
  },
  {
   "cell_type": "markdown",
   "metadata": {},
   "source": [
    "The following function generates the 'sird' array as described\n",
    "above."
   ]
  },
  {
   "cell_type": "code",
   "execution_count": 6,
   "metadata": {
    "lines_to_end_of_cell_marker": 0,
    "lines_to_next_cell": 1
   },
   "outputs": [],
   "source": [
    "def gen_sird():\n",
    "\n",
    "    sird = np.zeros((ntime, 4))\n",
    "\n",
    "    # Start with 10 seeds on day 0.\n",
    "    active = set({person(0) for k in range(10)})\n",
    "\n",
    "    # Loop over ntime/4 generations of transmission (the serial\n",
    "    # interval is thought to be around 4 days).\n",
    "    for itr in range(ntime // 4):\n",
    "        sird = update_mat(active, sird)\n",
    "        active = update_people(active)\n",
    "\n",
    "    sird = pd.DataFrame(sird, columns=[\"I\", \"R\", \"D\", \"A\"])\n",
    "\n",
    "    return sird"
   ]
  },
  {
   "cell_type": "markdown",
   "metadata": {},
   "source": [
    "Next we need to simulate daily positive and negative test results.\n",
    "We use a gamma distribution, centered on a value equal to 1/100 of\n",
    "the population of active cases to produce the positive test results,\n",
    "and we simulate the negative test results as random values\n",
    "independent of the disease.  Note that detecting 1/100 of the active\n",
    "cases on a single day implies that the case/ascertainment ratio is\n",
    "around 10, if people would test positive for around 10 days during\n",
    "the course of their illness."
   ]
  },
  {
   "cell_type": "code",
   "execution_count": 7,
   "metadata": {
    "lines_to_end_of_cell_marker": 0,
    "lines_to_next_cell": 1
   },
   "outputs": [],
   "source": [
    "def attach_testing(sird):\n",
    "    # The relationship between the mean/variance and\n",
    "    # the gamma distribution parameters.\n",
    "    # m = a*b\n",
    "    # v = a*b^2\n",
    "    # b = v/m\n",
    "    # a = m^2/v\n",
    "\n",
    "    # Positive tests\n",
    "    m = sird.A / 100\n",
    "    v = 1.0 * m**1.5\n",
    "    sird[\"dpositive\"] = np.random.gamma(m**2/v, v/m, ntime)\n",
    "\n",
    "    # Negative tests\n",
    "    m = 20000\n",
    "    v = 1.0 * m**1.5\n",
    "    sird[\"dnegative\"] = np.random.gamma(m**2/v, v/m, ntime)\n",
    "    return sird"
   ]
  },
  {
   "cell_type": "markdown",
   "metadata": {},
   "source": [
    "Next we construct the covariates we need, so as to be able to fit\n",
    "the same model used above for the actual Covid tracking project\n",
    "data."
   ]
  },
  {
   "cell_type": "code",
   "execution_count": 8,
   "metadata": {
    "lines_to_end_of_cell_marker": 0,
    "lines_to_next_cell": 1
   },
   "outputs": [],
   "source": [
    "# Sum x from d2 days back in time to d1 days back in time, inclusive of\n",
    "# both endpoints.  d2 must be greater than d1.\n",
    "def wsum(x, d1, d2):\n",
    "    w = np.ones(d2 + 1)\n",
    "    if d1 > 0:\n",
    "        w[-d1:] = 0\n",
    "    y = np.zeros_like(x)\n",
    "    y[d2:] = np.convolve(x.values, w[::-1], mode='valid')\n",
    "    return y\n",
    "\n",
    "def attach_covariates(sird):\n",
    "    for j in range(4):\n",
    "        sird[\"cumpos%d\" % j] = wsum(sird.dpositive, 7*j, 7*j+6)\n",
    "        sird[\"cumneg%d\" % j] = wsum(sird.dnegative, 7*j, 7*j+6)\n",
    "        sird[\"logcumpos%d\" % j] = np.log(sird[\"cumpos%d\" % j] + 1)\n",
    "        sird[\"logcumneg%d\" % j] = np.log(sird[\"cumneg%d\" % j] + 1)\n",
    "    return sird"
   ]
  },
  {
   "cell_type": "markdown",
   "metadata": {},
   "source": [
    "The following function puts everything together:"
   ]
  },
  {
   "cell_type": "code",
   "execution_count": 9,
   "metadata": {},
   "outputs": [],
   "source": [
    "def generate():\n",
    "    sird = gen_sird()\n",
    "    sird = attach_testing(sird)\n",
    "    sird = attach_covariates(sird)\n",
    "    return sird\n",
    "\n",
    "sird = [generate() for k in range(2)]"
   ]
  },
  {
   "cell_type": "markdown",
   "metadata": {},
   "source": [
    "Below are plots of the simulated number of daily deaths, the\n",
    "simulated number of active cases, and the simulated number of\n",
    "positive tests.  The stochastic nature of the daily deaths and\n",
    "testing data is evident, but the number of active cases appears\n",
    "non-stochastic.  In fact this is not the case, but at the population\n",
    "level it appears to be so."
   ]
  },
  {
   "cell_type": "code",
   "execution_count": 10,
   "metadata": {},
   "outputs": [
    {
     "data": {
      "text/plain": [
       "Text(0, 0.5, 'Deaths')"
      ]
     },
     "execution_count": 10,
     "metadata": {},
     "output_type": "execute_result"
    },
    {
     "data": {
      "image/png": "[encoded data removed]",
      "text/plain": [
       "<Figure size 432x288 with 1 Axes>"
      ]
     },
     "metadata": {
      "needs_background": "light"
     },
     "output_type": "display_data"
    }
   ],
   "source": [
    "plt.clf()\n",
    "plt.grid(True)\n",
    "for x in sird:\n",
    "    plt.plot(x.D.values, '-', color='grey')\n",
    "plt.xlabel(\"Day\")\n",
    "plt.ylabel(\"Deaths\")"
   ]
  },
  {
   "cell_type": "code",
   "execution_count": 11,
   "metadata": {},
   "outputs": [
    {
     "data": {
      "text/plain": [
       "Text(0, 0.5, 'Active cases')"
      ]
     },
     "execution_count": 11,
     "metadata": {},
     "output_type": "execute_result"
    },
    {
     "data": {
      "image/png": "[encoded data removed]",
      "text/plain": [
       "<Figure size 432x288 with 1 Axes>"
      ]
     },
     "metadata": {
      "needs_background": "light"
     },
     "output_type": "display_data"
    }
   ],
   "source": [
    "plt.clf()\n",
    "plt.grid(True)\n",
    "for x in sird:\n",
    "    plt.plot(x.A.values, '-', color='grey')\n",
    "plt.xlabel(\"Day\")\n",
    "plt.ylabel(\"Active cases\")"
   ]
  },
  {
   "cell_type": "code",
   "execution_count": 12,
   "metadata": {},
   "outputs": [
    {
     "data": {
      "text/plain": [
       "Text(0, 0.5, 'Positive tests')"
      ]
     },
     "execution_count": 12,
     "metadata": {},
     "output_type": "execute_result"
    },
    {
     "data": {
      "image/png": "[encoded data removed]",
      "text/plain": [
       "<Figure size 432x288 with 1 Axes>"
      ]
     },
     "metadata": {
      "needs_background": "light"
     },
     "output_type": "display_data"
    }
   ],
   "source": [
    "plt.clf()\n",
    "plt.grid(True)\n",
    "for x in sird:\n",
    "    plt.plot(x.dpositive.values, '-', color='grey')\n",
    "plt.xlabel(\"Day\")\n",
    "plt.ylabel(\"Positive tests\")"
   ]
  },
  {
   "cell_type": "markdown",
   "metadata": {},
   "source": [
    "Now we can fit the same model used above to see what we get:"
   ]
  },
  {
   "cell_type": "code",
   "execution_count": 13,
   "metadata": {},
   "outputs": [
    {
     "name": "stdout",
     "output_type": "stream",
     "text": [
      "                 Generalized Linear Model Regression Results                  \n",
      "==============================================================================\n",
      "Dep. Variable:                      D   No. Observations:                   85\n",
      "Model:                            GLM   Df Residuals:                       76\n",
      "Model Family:                 Poisson   Df Model:                            8\n",
      "Link Function:                    log   Scale:                         0.62442\n",
      "Method:                          IRLS   Log-Likelihood:                -301.10\n",
      "Date:                Mon, 01 Jun 2020   Deviance:                       50.185\n",
      "Time:                        13:21:34   Pearson chi2:                     47.5\n",
      "No. Iterations:                    16                                         \n",
      "Covariance Type:            nonrobust                                         \n",
      "==============================================================================\n",
      "                 coef    std err          z      P>|z|      [0.025      0.975]\n",
      "------------------------------------------------------------------------------\n",
      "Intercept     -7.6859     11.689     -0.658      0.511     -30.596      15.225\n",
      "logcumpos0     0.0177      0.156      0.114      0.910      -0.288       0.323\n",
      "logcumpos1     0.6679      0.139      4.812      0.000       0.396       0.940\n",
      "logcumpos2     0.0413      0.122      0.338      0.735      -0.198       0.281\n",
      "logcumpos3    -0.0978      0.074     -1.330      0.184      -0.242       0.046\n",
      "logcumneg0    -0.7683      0.640     -1.201      0.230      -2.023       0.486\n",
      "logcumneg1     1.2798      0.831      1.541      0.123      -0.348       2.908\n",
      "logcumneg2    -0.0347      0.046     -0.758      0.448      -0.125       0.055\n",
      "logcumneg3     0.0666      0.027      2.496      0.013       0.014       0.119\n",
      "==============================================================================\n",
      "0.624422616990811\n",
      "                 Generalized Linear Model Regression Results                  \n",
      "==============================================================================\n",
      "Dep. Variable:                      D   No. Observations:                   85\n",
      "Model:                            GLM   Df Residuals:                       76\n",
      "Model Family:                 Poisson   Df Model:                            8\n",
      "Link Function:                    log   Scale:                          1.4910\n",
      "Method:                          IRLS   Log-Likelihood:                -195.45\n",
      "Date:                Mon, 01 Jun 2020   Deviance:                       116.13\n",
      "Time:                        13:21:34   Pearson chi2:                     113.\n",
      "No. Iterations:                    14                                         \n",
      "Covariance Type:            nonrobust                                         \n",
      "==============================================================================\n",
      "                 coef    std err          z      P>|z|      [0.025      0.975]\n",
      "------------------------------------------------------------------------------\n",
      "Intercept     -8.6700      5.108     -1.697      0.090     -18.682       1.342\n",
      "logcumpos0     0.0673      0.091      0.737      0.461      -0.112       0.246\n",
      "logcumpos1     0.5091      0.123      4.153      0.000       0.269       0.749\n",
      "logcumpos2     0.1027      0.095      1.082      0.279      -0.083       0.289\n",
      "logcumpos3    -0.0737      0.049     -1.501      0.133      -0.170       0.023\n",
      "logcumneg0     0.6104      0.420      1.452      0.147      -0.214       1.434\n",
      "logcumneg1     0.0299      0.081      0.368      0.713      -0.129       0.189\n",
      "logcumneg2     0.0236      0.033      0.713      0.476      -0.041       0.088\n",
      "logcumneg3     0.0434      0.015      2.957      0.003       0.015       0.072\n",
      "==============================================================================\n",
      "1.4910041557625093\n"
     ]
    }
   ],
   "source": [
    "fml = \"D ~ \"\n",
    "fml += \" + \".join([\"logcumpos%d\" % j for j in range(4)])\n",
    "fml += \" + \"\n",
    "fml += \" + \".join([\"logcumneg%d\" % j for j in range(4)])\n",
    "r4 = []\n",
    "for x in sird:\n",
    "    m4 = sm.GLM.from_formula(fml, data=x, family=sm.families.Poisson())\n",
    "    r = m4.fit(scale=\"X2\")\n",
    "    print(r.summary())\n",
    "    print(r.scale)\n",
    "    r4.append(x)"
   ]
  },
  {
   "cell_type": "markdown",
   "metadata": {},
   "source": [
    "Qualitatively, the results are fairly similar to what we saw with\n",
    "the actual Covid Tracking project data.  Note that the simulation\n",
    "reflects data for a single state, whereas the actual data is for all\n",
    "US states.  As a result, the actual data analysis has much greater\n",
    "power.  In the simulated data, the coefficients for the log number\n",
    "of positive tests are not always statistically significant.  As in\n",
    "the actual data, their sum is around 0.8.  Interestingly, the scale\n",
    "parameter is slightly less than 1, sometimes termed \"under-dispersion\".\n",
    "This may be because in the simulation we use the same infection\n",
    "fatality ratio (IFR) and Rt sequence for every person, but in fact\n",
    "these are likely variable."
   ]
  }
 ],
 "metadata": {
  "jupytext": {
   "cell_metadata_filter": "-all"
  },
  "kernelspec": {
   "display_name": "Python 3",
   "language": "python",
   "name": "python3"
  },
  "language_info": {
   "codemirror_mode": {
    "name": "ipython",
    "version": 3
   },
   "file_extension": ".py",
   "mimetype": "text/x-python",
   "name": "python",
   "nbconvert_exporter": "python",
   "pygments_lexer": "ipython3",
   "version": "3.7.3"
  }
 },
 "nbformat": 4,
 "nbformat_minor": 2
}
