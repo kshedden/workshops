{
 "cells": [
  {
   "cell_type": "markdown",
   "metadata": {},
   "source": [
    "## Testing, prevalence of active cases, and mortality in Covid"
   ]
  },
  {
   "cell_type": "markdown",
   "metadata": {},
   "source": [
    "This notebook considers several topics related to Covid mortality\n",
    "and SARS-CoV-2 virus testing, using data from the [Covid Tracking\n",
    "project](covidtracking.com).\n",
    "\n",
    "You can get the data by going to https://covidtracking.com/api, then\n",
    "downloading the CSV file under \"historic state data\".  Make sure to\n",
    "save the data using file name \"ctp_daily.csv\".  A direct link to the\n",
    "data is here:\n",
    "\n",
    "https://covidtracking.com/api/v1/states/daily.csv\n",
    "\n",
    "We will also use data about the population size for the US states.\n",
    "This can be obtained from various sources, we will get it directly\n",
    "from Wikipedia below.\n",
    "\n",
    "Our main interest here will be to assess whether the reported\n",
    "testing data for active viral infections, using the PCR testing\n",
    "platform, are sufficient to explain the variation in Covid-related\n",
    "mortality.  One of the main reasons to perform viral testing is to\n",
    "assess the prevalence of infections.  As with any surveillance\n",
    "activity, it is not necessary to detect all cases to estimate the\n",
    "prevalence.  It is sufficient to detect a fraction of the cases, and\n",
    "generalize to the full population.  Unfortunately, SARS-CoV-2\n",
    "testing has been performed extremely haphazardly -- a very\n",
    "non-representative subpopulation has been tested.  Therefore, we\n",
    "will not actually be aiming literally for the prevalence here\n",
    "(e.g. cases per thousand population).  Instead, we take the point of\n",
    "view that the question of whether enough testing has been done\n",
    "can largely be settled by assessing to what extent testing results\n",
    "predict mortality, which is the main hard endpoint for Covid.\n",
    "\n",
    "We note that there are other possible uses of testing such as for\n",
    "use in contact tracing, identifying emerging disease hotspots, and\n",
    "assessing cumulative prevalence of past exposure to the virus.\n",
    "These are distinct goals from prevalence estimation, and likely\n",
    "would require much more extensive and more systematic testing. These\n",
    "goals are not considered further here."
   ]
  },
  {
   "cell_type": "code",
   "execution_count": 1,
   "metadata": {},
   "outputs": [],
   "source": [
    "import pandas as pd\n",
    "import numpy as np\n",
    "import statsmodels.api as sm\n",
    "import matplotlib.pyplot as plt\n",
    "import matplotlib.dates as mdates\n",
    "import os"
   ]
  },
  {
   "cell_type": "code",
   "execution_count": 2,
   "metadata": {},
   "outputs": [],
   "source": [
    "# Below we get state population data from Wikipedia.  We only download\n",
    "# the file one time and store it locally as 'states.csv'.\n",
    "if not os.path.exists(\"states.csv\"):\n",
    "\n",
    "    # Map full state names to postal codes\n",
    "    dm = {\"Alabama\": \"AL\", \"Alaska\": \"AK\", \"Arizona\": \"AZ\", \"Arkansas\": \"AR\", \"California\": \"CA\",\n",
    "        \"Colorado\": \"CO\", \"Connecticut\": \"CT\", \"Delaware\": \"DE\", \"District of Columbia\": \"DC\",\n",
    "        \"Florida\": \"FL\", \"Georgia\": \"GA\", \"Hawaii\": \"HI\", \"Idaho\": \"ID\", \"Illinois\": \"IL\", \"Indiana\": \"IN\",\n",
    "        \"Iowa\": \"IA\", \"Kansas\": \"KS\", \"Kentucky\": \"KY\", \"Louisiana\": \"LA\", \"Maine\": \"ME\", \"Maryland\": \"MD\",\n",
    "        \"Massachusetts\": \"MA\", \"Michigan\": \"MI\", \"Minnesota\": \"MN\", \"Mississippi\": \"MS\", \"Missouri\": \"MO\",\n",
    "        \"Montana\": \"MT\", \"Nebraska\": \"NE\", \"Nevada\": \"NV\", \"New Hampshire\": \"NH\", \"New Jersey\": \"NJ\",\n",
    "        \"New Mexico\": \"NM\", \"New York\": \"NY\", \"North Carolina\": \"NC\", \"North Dakota\": \"ND\", \"Ohio\": \"OH\",\n",
    "        \"Oklahoma\": \"OK\", \"Oregon\": \"OR\", \"Pennsylvania\": \"PA\", \"Puerto Rico\": \"PR\", \"Rhode Island\": \"RI\",\n",
    "        \"South Carolina\": \"SC\", \"South Dakota\": \"SD\", \"Tennessee\": \"TN\", \"Texas\": \"TX\", \"Utah\": \"UT\",\n",
    "        \"Vermont\": \"VT\", \"Virginia\": \"VA\", \"Washington\": \"WA\", \"West Virginia\": \"WV\", \"Wisconsin\": \"WI\",\n",
    "        \"Wyoming\": \"WY\"}\n",
    "\n",
    "    ta = pd.read_html(\"https://simple.m.wikipedia.org/wiki/List_of_U.S._states_by_population\",\n",
    "                      attrs={\"class\": \"wikitable sortable\"})\n",
    "    ta = ta[0].iloc[:, 2:4]\n",
    "    ta[\"SA\"] = [dm.get(x, \"\") for x in ta.State]\n",
    "    ta = ta.loc[ta.SA != \"\", :]\n",
    "    ta.columns = [\"state\", \"pop\", \"SA\"]\n",
    "    ta = ta.loc[:, [\"state\", \"SA\", \"pop\"]]\n",
    "    ta = ta.sort_values(by=\"state\")\n",
    "    ta.to_csv(\"states.csv\", index=None)"
   ]
  },
  {
   "cell_type": "markdown",
   "metadata": {},
   "source": [
    "Next we load and merge the Covid data and the state population data."
   ]
  },
  {
   "cell_type": "code",
   "execution_count": 3,
   "metadata": {},
   "outputs": [],
   "source": [
    "df = pd.read_csv(\"ctp_daily.csv\")\n",
    "dp = pd.read_csv(\"states.csv\")\n",
    "dp = dp.drop(\"state\", axis=1)\n",
    "df = pd.merge(df, dp, left_on=\"state\", right_on=\"SA\", how=\"left\")\n",
    "df[\"pdate\"] = pd.to_datetime(df.date, format=\"%Y%m%d\")\n",
    "dx = df.loc[:, [\"date\", \"pdate\", \"state\", \"positive\", \"negative\", \"death\", \"pop\"]].dropna()\n",
    "dx = dx.sort_values(by=[\"state\", \"pdate\"])"
   ]
  },
  {
   "cell_type": "markdown",
   "metadata": {},
   "source": [
    "The data as provided are cumulative, so we difference it to get the\n",
    "daily values."
   ]
  },
  {
   "cell_type": "code",
   "execution_count": 4,
   "metadata": {},
   "outputs": [],
   "source": [
    "dx[\"ddeath\"] = dx.groupby(\"state\")[\"death\"].diff()\n",
    "dx[\"dpositive\"] = dx.groupby(\"state\")[\"positive\"].diff()\n",
    "dx[\"dnegative\"] = dx.groupby(\"state\")[\"negative\"].diff()\n",
    "dx = dx.dropna()"
   ]
  },
  {
   "cell_type": "markdown",
   "metadata": {},
   "source": [
    "## Relationship between testing results and mortality.\n",
    "\n",
    "The Covid Tracking project reports cumulative daily counts of\n",
    "Covid-related deaths for each US state, and also reports the\n",
    "cumulative numbers of positive and negative Covid tests.  The tests\n",
    "reported are primarily PCR tests that assess for viral RNA, which\n",
    "should indicate an active or recently cleared SARS-CoV-2 infection.\n",
    "The number of positive tests and the number of negative tests are\n",
    "reported for each US state and for each day.\n",
    "\n",
    "There is a lot of discussion and debate about the characteristics of\n",
    "PCR testing for SARS-CoV-2.  One useful reference for this topic is:\n",
    "\n",
    "https://asm.org/Articles/2020/April/False-Negatives-and-Reinfections-the-Challenges-of\n",
    "\n",
    "To summarize:\n",
    "\n",
    "* It is currently unknown for how long after infection, symptom\n",
    "onset, or recovery a person may continue to have positive PCR test\n",
    "values.  It is likely that this duration could be from 1 to 4 weeks\n",
    "in most cases.\n",
    "\n",
    "* The PCR test is quite sensitive, approaching 100% in lab\n",
    "conditions, but false negatives can result from flawed sample\n",
    "collection.\n",
    "\n",
    "* The PCR test is quite specific in the narrow sense -- if it\n",
    "detects viral RNA, then viral RNA was probably present.  However it\n",
    "is possible that PCR may detect residual non-pathogenic RNA remnants\n",
    "from a cleared infection.\n",
    "\n",
    "* Viral load is highest early in the course of the infection,\n",
    "including during the pre-symptomatic or asymptomatic period. People\n",
    "with severe Covid complications that persist several weeks after\n",
    "symptom onset may have minimal viral load by that time, and are\n",
    "primarily impacted by the after-effects of their immune response to\n",
    "the virus.\n",
    "\n",
    "* It is currently unknown what fraction of the many people with\n",
    "minimal or no symptoms following SARS-CoV-2 exposure will receive a\n",
    "test and then test positive via PCR.\n",
    "\n",
    "* Antibody testing detects past infection, which in most cases will\n",
    "have resolved to the point where a concurrent PCR test would be\n",
    "negative.  We only have basic summaries of the antibody testing that\n",
    "has been done to date.  Reportedly, a few states have counted\n",
    "antibody tests among the PCR tests.  We do not attempt to account\n",
    "for that here.\n",
    "\n",
    "We should also keep in mind that each US state follows different\n",
    "practices for testing and reporting.  For mortality data, there may\n",
    "be differences in which deaths are deemed to be Covid-associated.\n",
    "There are likely to be substantial undercounts, for example some\n",
    "states during some periods of time only reported deaths in\n",
    "hospitals.  But there could be some overcounting as well, e.g. a\n",
    "person with multiple severe illnesses, including Covid, may not have\n",
    "died primarily due to Covid.\n",
    "\n",
    "For the testing data, each state has its own policies about who can\n",
    "get tested.  Early in the epidemic testing was severely constrained\n",
    "by the availability of test kits.  Not all states have consistently\n",
    "reported negative test results, but reporting of test positives is\n",
    "presumably somewhat more consistent.  The sample of tested people is\n",
    "not representative of the general population, and is likely a\n",
    "heterogeneous mix of health-care workers and people with Covid symptoms\n",
    "It is certainly enriched for cases."
   ]
  },
  {
   "cell_type": "markdown",
   "metadata": {},
   "source": [
    "Below are plots of the daily death counts for New York and for Michigan:"
   ]
  },
  {
   "cell_type": "code",
   "execution_count": 5,
   "metadata": {},
   "outputs": [
    {
     "name": "stderr",
     "output_type": "stream",
     "text": [
      "/nfs/kshedden/python3/lib/python3.7/site-packages/pandas/plotting/_matplotlib/converter.py:103: FutureWarning: Using an implicitly registered datetime converter for a matplotlib plotting method. The converter was registered by pandas on import. Future versions of pandas will require you to explicitly register matplotlib converters.\n",
      "\n",
      "To register the converters:\n",
      "\t>>> from pandas.plotting import register_matplotlib_converters\n",
      "\t>>> register_matplotlib_converters()\n",
      "  warnings.warn(msg, FutureWarning)\n"
     ]
    },
    {
     "data": {
      "image/png": "[encoded data removed]",
      "text/plain": [
       "<Figure size 432x288 with 1 Axes>"
      ]
     },
     "metadata": {
      "needs_background": "light"
     },
     "output_type": "display_data"
    },
    {
     "data": {
      "image/png": "[encoded data removed]",
      "text/plain": [
       "<Figure size 432x288 with 1 Axes>"
      ]
     },
     "metadata": {
      "needs_background": "light"
     },
     "output_type": "display_data"
    }
   ],
   "source": [
    "fmt = mdates.DateFormatter(\"%m-%d\")\n",
    "months = mdates.MonthLocator()\n",
    "\n",
    "for st in \"NY\", \"MI\":\n",
    "    da = dx.loc[dx.state==st, :]\n",
    "    plt.clf()\n",
    "    plt.grid(True)\n",
    "    plt.plot(da.pdate.values, da.ddeath.values, '-', color='purple')\n",
    "    plt.title(st)\n",
    "    plt.xlabel(\"Day\")\n",
    "    plt.ylabel(\"Deaths\")\n",
    "    plt.gca().xaxis.set_major_formatter(fmt)\n",
    "    plt.gca().xaxis.set_major_locator(months)\n",
    "    plt.show()"
   ]
  },
  {
   "cell_type": "markdown",
   "metadata": {},
   "source": [
    "Below are plots of the daily number of positive tests for New York\n",
    "and for Michigan:"
   ]
  },
  {
   "cell_type": "code",
   "execution_count": 6,
   "metadata": {
    "lines_to_end_of_cell_marker": 0,
    "lines_to_next_cell": 1
   },
   "outputs": [
    {
     "data": {
      "image/png": "[encoded data removed]",
      "text/plain": [
       "<Figure size 432x288 with 1 Axes>"
      ]
     },
     "metadata": {
      "needs_background": "light"
     },
     "output_type": "display_data"
    },
    {
     "data": {
      "image/png": "[encoded data removed]",
      "text/plain": [
       "<Figure size 432x288 with 1 Axes>"
      ]
     },
     "metadata": {
      "needs_background": "light"
     },
     "output_type": "display_data"
    }
   ],
   "source": [
    "for st in \"NY\", \"MI\":\n",
    "    da = dx.loc[dx.state==st, :]\n",
    "    plt.clf()\n",
    "    plt.grid(True)\n",
    "    plt.plot(da.pdate.values, da.dpositive.values, '-', color='purple')\n",
    "    plt.title(st)\n",
    "    plt.xlabel(\"Day\")\n",
    "    plt.ylabel(\"Positive tests\")\n",
    "    plt.gca().xaxis.set_major_formatter(fmt)\n",
    "    plt.gca().xaxis.set_major_locator(months)\n",
    "    plt.show()"
   ]
  },
  {
   "cell_type": "markdown",
   "metadata": {},
   "source": [
    "Our main analysis will use a regression approach to relate\n",
    "SARS-CoV-2 testing results to Covid mortality.  As noted above, the\n",
    "motivation for this analysis is that the people who test positive\n",
    "can be viewed in some way as representing the prevalence of active\n",
    "infections (with many caveats, to be discussed below).  Thus,\n",
    "understanding the statistical relationship between testing results\n",
    "and Covid mortality can be informative about the relationship\n",
    "between exposure and mortality.\n",
    "\n",
    "Since people who die from Covid typically were infected several\n",
    "weeks prior to their death, we will create counts of testing\n",
    "positives and negatives in several windows of width one week,\n",
    "lagging behind the mortality count."
   ]
  },
  {
   "cell_type": "code",
   "execution_count": 7,
   "metadata": {
    "lines_to_end_of_cell_marker": 0,
    "lines_to_next_cell": 1
   },
   "outputs": [
    {
     "name": "stderr",
     "output_type": "stream",
     "text": [
      "/nfs/kshedden/python3/lib/python3.7/site-packages/pandas/core/series.py:853: RuntimeWarning: invalid value encountered in log\n",
      "  result = getattr(ufunc, method)(*inputs, **kwargs)\n"
     ]
    }
   ],
   "source": [
    "# Sum x from d2 days back in time to d1 days back in time, inclusive of\n",
    "# both endpoints.  d2 must be greater than d1.\n",
    "def wsum(x, d1, d2):\n",
    "    w = np.ones(d2 + 1)\n",
    "    if d1 > 0:\n",
    "        w[-d1:] = 0\n",
    "    y = np.zeros_like(x)\n",
    "    y[d2:] = np.convolve(x.values, w[::-1], mode='valid')\n",
    "    return y\n",
    "\n",
    "for j in range(4):\n",
    "    dx[\"cumpos%d\" % j] = dx.groupby(\"state\").dpositive.transform(lambda x: wsum(x, 7*j, 7*j+6))\n",
    "    dx[\"cumneg%d\" % j] = dx.groupby(\"state\").dnegative.transform(lambda x: wsum(x, 7*j, 7*j+6))\n",
    "    dx[\"logcumpos%d\" % j] = np.log(dx[\"cumpos%d\" % j] + 1)\n",
    "    dx[\"logcumneg%d\" % j] = np.log(dx[\"cumneg%d\" % j] + 1)"
   ]
  },
  {
   "cell_type": "markdown",
   "metadata": {},
   "source": [
    "Below we will use regression analysis to try to understand how\n",
    "SARS-CoV-2 testing results relate to Covid mortality.  A reasonable\n",
    "hypothesis would be that a greater number of positive test results\n",
    "predicts greater mortality, at a 1-4 week lag.  More specifically,\n",
    "all else held equal, comparing two places/times where the Covid\n",
    "prevalence differs by a factor of two over the past month, we expect\n",
    "there to be a factor of two difference in Covid mortality today.\n",
    "\n",
    "Another reasonable hypothesis would be that the ratio of positive to\n",
    "negative test results, rather than the absolute number of positive\n",
    "test results, could be a stronger predictor of mortality.  This is\n",
    "based on the logic that taking this ratio corrects for the fact that\n",
    "states may increase their testing when a big surge in cases is\n",
    "expected.\n",
    "\n",
    "There are several other factors that we should consider and account\n",
    "for if possible:\n",
    "\n",
    "* The virus arrived in different states at different times, e.g. it\n",
    "arrived in New York before it arrived in South Dakota.\n",
    "\n",
    "* States vary greatly in terms of population size.  It is reasonable\n",
    "to expect death counts to scale with population size.\n",
    "\n",
    "* Transmission rates may vary by state, e.g. due to population\n",
    "density.\n",
    "\n",
    "* The seasons were changing just as the epidemic in the US reached\n",
    "its peak.  Spring weather may reduce transmission rates.\n",
    "\n",
    "* The infection/fatality ratio (IFR) may vary by state due to\n",
    "demographic characteristics of the population and prevalence of\n",
    "comorbidities."
   ]
  },
  {
   "cell_type": "markdown",
   "metadata": {},
   "source": [
    "To account for differences in the time when the disease arrived in\n",
    "each state, we identify the date of the first Covid death, then\n",
    "include only the data starting 10 days after that date."
   ]
  },
  {
   "cell_type": "code",
   "execution_count": 8,
   "metadata": {},
   "outputs": [],
   "source": [
    "def firstdeath(x):\n",
    "    if (x.death == 0).all():\n",
    "        return np.inf\n",
    "    ii = np.flatnonzero(x.death > 0)[0]\n",
    "    return x.pdate.iloc[ii]\n",
    "\n",
    "xx = dx.groupby(\"state\").apply(firstdeath)\n",
    "xx.name = \"firstdeath\"\n",
    "dx = pd.merge(dx, xx, left_on=\"state\", right_index=True)\n",
    "\n",
    "dx[\"rdate\"] = (dx.pdate - dx.firstdeath).dt.days\n",
    "dx = dx.loc[dx.rdate >= 10, :]"
   ]
  },
  {
   "cell_type": "markdown",
   "metadata": {},
   "source": [
    "Below is an initial regression analysis looking at mortality counts\n",
    "per state/day as an outcome that is predicted by testing results.\n",
    "We also include state level fixed effects to control for the\n",
    "possibility of different infection/fatality ratios among the states.\n",
    "The model is fit using a Poisson generalized estimating equations\n",
    "(GEE) approach, clustering the data by state.  This allows data\n",
    "values in the same state to be correlated, e.g. through a serial\n",
    "correlation with respect to time."
   ]
  },
  {
   "cell_type": "code",
   "execution_count": 9,
   "metadata": {},
   "outputs": [
    {
     "name": "stdout",
     "output_type": "stream",
     "text": [
      "                               GEE Regression Results                              \n",
      "===================================================================================\n",
      "Dep. Variable:                      ddeath   No. Observations:                 2509\n",
      "Model:                                 GEE   No. clusters:                       52\n",
      "Method:                        Generalized   Min. cluster size:                  26\n",
      "                      Estimating Equations   Max. cluster size:                  69\n",
      "Family:                            Poisson   Mean cluster size:                48.2\n",
      "Dependence structure:         Independence   Num. iterations:                     2\n",
      "Date:                     Mon, 01 Jun 2020   Scale:                          10.719\n",
      "Covariance type:                    robust   Time:                         14:25:43\n",
      "================================================================================\n",
      "                   coef    std err          z      P>|z|      [0.025      0.975]\n",
      "--------------------------------------------------------------------------------\n",
      "C(state)[AK]    -3.9572      0.559     -7.084      0.000      -5.052      -2.862\n",
      "C(state)[AL]    -2.3853      0.758     -3.149      0.002      -3.870      -0.900\n",
      "C(state)[AR]    -3.2846      0.698     -4.704      0.000      -4.653      -1.916\n",
      "C(state)[AZ]    -2.1664      0.749     -2.891      0.004      -3.635      -0.698\n",
      "C(state)[CA]    -1.7785      0.904     -1.968      0.049      -3.549      -0.007\n",
      "C(state)[CO]    -2.0133      0.750     -2.685      0.007      -3.483      -0.544\n",
      "C(state)[CT]    -1.3431      0.783     -1.716      0.086      -2.877       0.191\n",
      "C(state)[DC]    -2.3762      0.658     -3.612      0.000      -3.665      -1.087\n",
      "C(state)[DE]    -2.7012      0.660     -4.096      0.000      -3.994      -1.409\n",
      "C(state)[FL]    -1.8806      0.864     -2.177      0.029      -3.574      -0.187\n",
      "C(state)[GA]    -2.0407      0.812     -2.514      0.012      -3.632      -0.450\n",
      "C(state)[HI]    -3.2679      0.533     -6.132      0.000      -4.312      -2.223\n",
      "C(state)[IA]    -2.8741      0.756     -3.800      0.000      -4.357      -1.392\n",
      "C(state)[ID]    -3.0508      0.607     -5.030      0.000      -4.240      -1.862\n",
      "C(state)[IL]    -1.7109      0.884     -1.935      0.053      -3.444       0.022\n",
      "C(state)[IN]    -1.7935      0.784     -2.289      0.022      -3.329      -0.258\n",
      "C(state)[KS]    -3.2214      0.707     -4.557      0.000      -4.607      -1.836\n",
      "C(state)[KY]    -2.4639      0.722     -3.411      0.001      -3.880      -1.048\n",
      "C(state)[LA]    -1.4980      0.811     -1.846      0.065      -3.088       0.092\n",
      "C(state)[MA]    -1.3724      0.869     -1.578      0.114      -3.077       0.332\n",
      "C(state)[MD]    -1.8578      0.803     -2.313      0.021      -3.432      -0.284\n",
      "C(state)[ME]    -3.0739      0.509     -6.040      0.000      -4.071      -2.076\n",
      "C(state)[MI]    -1.0514      0.818     -1.286      0.198      -2.654       0.551\n",
      "C(state)[MN]    -2.0673      0.795     -2.600      0.009      -3.626      -0.509\n",
      "C(state)[MO]    -2.1363      0.726     -2.942      0.003      -3.560      -0.713\n",
      "C(state)[MS]    -2.2905      0.737     -3.108      0.002      -3.735      -0.846\n",
      "C(state)[MT]    -3.1373      0.492     -6.380      0.000      -4.101      -2.174\n",
      "C(state)[NC]    -2.3233      0.799     -2.907      0.004      -3.890      -0.757\n",
      "C(state)[ND]    -3.4082      0.666     -5.118      0.000      -4.713      -2.103\n",
      "C(state)[NE]    -3.7065      0.737     -5.032      0.000      -5.150      -2.263\n",
      "C(state)[NH]    -2.5368      0.646     -3.930      0.000      -3.802      -1.272\n",
      "C(state)[NJ]    -1.3087      0.846     -1.546      0.122      -2.968       0.350\n",
      "C(state)[NM]    -2.3822      0.733     -3.251      0.001      -3.818      -0.946\n",
      "C(state)[NV]    -2.3970      0.687     -3.489      0.000      -3.744      -1.050\n",
      "C(state)[NY]    -0.9984      0.956     -1.044      0.296      -2.872       0.875\n",
      "C(state)[OH]    -1.7642      0.808     -2.184      0.029      -3.348      -0.181\n",
      "C(state)[OK]    -2.3560      0.678     -3.475      0.001      -3.685      -1.027\n",
      "C(state)[OR]    -2.8056      0.686     -4.089      0.000      -4.150      -1.461\n",
      "C(state)[PA]    -1.3981      0.847     -1.651      0.099      -3.058       0.262\n",
      "C(state)[PR]    -2.7663      0.549     -5.036      0.000      -3.843      -1.690\n",
      "C(state)[RI]    -2.3488      0.754     -3.113      0.002      -3.827      -0.870\n",
      "C(state)[SC]    -2.4226      0.711     -3.410      0.001      -3.815      -1.030\n",
      "C(state)[SD]    -4.1450      0.650     -6.381      0.000      -5.418      -2.872\n",
      "C(state)[TN]    -3.0652      0.810     -3.785      0.000      -4.652      -1.478\n",
      "C(state)[TX]    -2.2932      0.877     -2.616      0.009      -4.011      -0.575\n",
      "C(state)[UT]    -3.7992      0.752     -5.051      0.000      -5.273      -2.325\n",
      "C(state)[VA]    -2.3767      0.798     -2.976      0.003      -3.942      -0.812\n",
      "C(state)[VT]    -2.7995      0.556     -5.031      0.000      -3.890      -1.709\n",
      "C(state)[WA]    -2.0937      0.784     -2.669      0.008      -3.631      -0.556\n",
      "C(state)[WI]    -2.4273      0.754     -3.219      0.001      -3.905      -0.950\n",
      "C(state)[WV]    -2.7004      0.656     -4.118      0.000      -3.986      -1.415\n",
      "C(state)[WY]    -5.3686      0.578     -9.285      0.000      -6.502      -4.235\n",
      "logcumpos0       0.6193      0.084      7.370      0.000       0.455       0.784\n",
      "logcumpos1       0.1648      0.035      4.644      0.000       0.095       0.234\n",
      "logcumpos2       0.0361      0.033      1.102      0.271      -0.028       0.100\n",
      "logcumpos3      -0.0363      0.041     -0.875      0.381      -0.118       0.045\n",
      "logcumneg0      -0.0695      0.033     -2.103      0.035      -0.134      -0.005\n",
      "logcumneg1      -0.0758      0.031     -2.428      0.015      -0.137      -0.015\n",
      "logcumneg2       0.0027      0.026      0.103      0.918      -0.049       0.054\n",
      "logcumneg3       0.0378      0.031      1.212      0.225      -0.023       0.099\n",
      "==============================================================================\n",
      "Skew:                          5.6410   Kurtosis:                     105.1739\n",
      "Centered skew:                 5.6410   Centered kurtosis:            105.1739\n",
      "==============================================================================\n"
     ]
    }
   ],
   "source": [
    "fml = \"ddeath ~ 0 + C(state) + \"\n",
    "fml += \" + \".join([\"logcumpos%d\" % j for j in range(4)])\n",
    "fml += \" + \"\n",
    "fml += \" + \".join([\"logcumneg%d\" % j for j in range(4)])\n",
    "m1 = sm.GEE.from_formula(fml, groups=\"state\", data=dx, family=sm.families.Poisson())\n",
    "r1 = m1.fit(scale=\"X2\")\n",
    "print(r1.summary())"
   ]
  },
  {
   "cell_type": "markdown",
   "metadata": {},
   "source": [
    "A perfect 1-1 relationship between testing and mortality would\n",
    "manifest as a perfect linear relationship between the log number of\n",
    "cases and the log number of positive tests.  In this case, we would\n",
    "expect the regression coefficients for the log number of positive\n",
    "tests to be equal to 1 (assuming that cases and mortality are 1-1 at\n",
    "some lag).  As we see above, the coefficient for the log number of\n",
    "positive tests in the week immediately preceding the day of the mortality\n",
    "count is around 0.62, and the coefficients for the two weeks prior\n",
    "to that were 0.16 and 0.04 respectively.  Note that these\n",
    "coefficients sum to around 0.8 -- if the positive tests in two\n",
    "states/4 week time periods differ by a factor of two, the state/time\n",
    "with more positive tests will have around 80% more deaths.  The fact\n",
    "that these effects are spread across several lagged terms may\n",
    "reflect variation in the timing of death relative to infection.\n",
    "\n",
    "Note also that there is a statistically significant inverse\n",
    "relationship between the log number of negative tests in the prior\n",
    "weeks and mortality.  However the coefficients of the negative test\n",
    "result variables do not sum to a value close to 1.  This would argue\n",
    "against using the ratio of the number of positive to negative tests\n",
    "as a predictor of mortality.\n",
    "\n",
    "As noted above, only a fraction of the people who have been exposed\n",
    "to SARS-CoV-2 virus are tested during the period of time when they\n",
    "would have a positive PCR test.  There is an unknown scaling factor\n",
    "called the \"ascertainment ratio\" between the number of exposed\n",
    "people and the number of people who are tested and found to have an\n",
    "active infection.  The results here do not tell us anything about\n",
    "this ratio.  Instead, the results here tell us that the testing in\n",
    "the U.S., with all its flaws, is sufficiently comprehensive and\n",
    "representative to capture around 80% of Covid mortality.  More\n",
    "representative testing, which may or may not involve a greater\n",
    "volume of testing, would potentially capture 100% of Covid\n",
    "mortality."
   ]
  },
  {
   "cell_type": "markdown",
   "metadata": {},
   "source": [
    "## State effects and variation in the IFR"
   ]
  },
  {
   "cell_type": "markdown",
   "metadata": {},
   "source": [
    "The analysis above uses state-level fixed effects to account\n",
    "for state-to-state differences from various sources.  From a\n",
    "statistical perspective, this is one of several ways to address\n",
    "this issue.  Including large numbers of fixed effects in any\n",
    "regression model can raise concerns about there being sufficient\n",
    "data to estimate these parameters.  This is classically known\n",
    "as the \"Neyman-Scott\" problem.  Alternatives to fixed effects\n",
    "include mutilevel analysis, shrunken fixed effects, and marginal\n",
    "analysis that allow for covariances within states (which we have\n",
    "done here via GEE)."
   ]
  },
  {
   "cell_type": "markdown",
   "metadata": {},
   "source": [
    "If we believe that the positive and negative testing data are\n",
    "sufficiently informative about the prevalence of the disease at each\n",
    "state/time, then the state fixed effects in the above model might\n",
    "reflect state-to-state differences in the infection/fatality ratio.\n",
    "The analysis below shows that these state effects have a range of\n",
    "around 4.4 on the log scale, with a standard deviation of 0.82.\n",
    "Since exp(0.82) ~ 2.27, this might suggest that most states have IFR\n",
    "values that are within a factor of around 2.5 of the mean\n",
    "state-level IFR.\n",
    "\n",
    "Variation on the order of 2 or more suggests major contributions\n",
    "of state-level factors to Covid mortality.  Note in particular\n",
    "that Michigan, New York, Pennsylvania and other hard-hit states\n",
    "have large fixed effects, suggesting that they either have lower\n",
    "case ascertainment, or higher infection fatality rates."
   ]
  },
  {
   "cell_type": "code",
   "execution_count": 10,
   "metadata": {},
   "outputs": [
    {
     "name": "stdout",
     "output_type": "stream",
     "text": [
      "Range of state effects:\n",
      "-5.368611589075238 -0.99837848022408\n",
      "Unadjusted SD of state effects:\n",
      "0.8253747958120818\n"
     ]
    }
   ],
   "source": [
    "# Extract the state fixed effects\n",
    "pa = r1.params\n",
    "st = [y for x, y in zip(pa.index, pa.values) if \"state\" in x]\n",
    "st = np.asarray(st)\n",
    "\n",
    "print(\"Range of state effects:\")\n",
    "print(st.min(), st.max())\n",
    "\n",
    "print(\"Unadjusted SD of state effects:\")\n",
    "print(st.std())"
   ]
  },
  {
   "cell_type": "markdown",
   "metadata": {},
   "source": [
    "The state fixed effects discussed above are estimates, not exact\n",
    "values.  The estimation errors in these quantities inflate their\n",
    "variance when estimated naively as in the preceding cell.  This can\n",
    "be addressed as shown below.  However the results show that the\n",
    "bias is not great in this case, and the relationship between testing\n",
    "and mortality may commonly differ from state-to-state by factors on\n",
    "the order of 2-3."
   ]
  },
  {
   "cell_type": "code",
   "execution_count": 11,
   "metadata": {},
   "outputs": [
    {
     "name": "stdout",
     "output_type": "stream",
     "text": [
      "Adjusted variance and SD of state effects:\n",
      "variance=0.668018, SD=0.817324\n",
      "\n"
     ]
    }
   ],
   "source": [
    "ii = [i for i, x in enumerate(pa.index) if \"state\" in x]\n",
    "c = r1.cov_params().iloc[ii, ii]\n",
    "\n",
    "# This is a method of moments adjustment to remove the extra variance\n",
    "# due to parameter estimation.  We do not provide all the details\n",
    "# here.\n",
    "p = len(st)\n",
    "oo = np.ones(p)\n",
    "qm = np.eye(p) - np.outer(oo, oo) / p # Centering matrix\n",
    "bias = np.trace(np.dot(qm, np.dot(c, qm)))\n",
    "v = np.dot(st, np.dot(qm, st)) - bias\n",
    "v /= p\n",
    "\n",
    "print(\"Adjusted variance and SD of state effects:\")\n",
    "print(\"variance=%f, SD=%f\\n\" % (v, np.sqrt(v)))"
   ]
  },
  {
   "cell_type": "markdown",
   "metadata": {},
   "source": [
    "## Alternative models and confounding"
   ]
  },
  {
   "cell_type": "markdown",
   "metadata": {},
   "source": [
    "As with any observational data set, there are many opportunities for\n",
    "confounding to mislead us.  One such possibility is that all the US\n",
    "states have progressed through the Covid epidemic over roughly the\n",
    "same time period, and during this time the weather became much\n",
    "warmer in most of the US.  In fact, weather is just one possible\n",
    "confounder indexed by time (e.g. standards of care have evolved and\n",
    "may have impacted the IFR).  To address this possibility, we fit\n",
    "models in which calendar date, or date relative to the state's first\n",
    "Covid death are included as controls.  We find that the coefficients\n",
    "for the positive and negative testing results are relatively\n",
    "invariant to inclusion of these terms.  Also, based on a score test,\n",
    "the inclusion of rdate (the number of days within a state since that\n",
    "state's first recorded Covid death) is not statistically\n",
    "significant."
   ]
  },
  {
   "cell_type": "code",
   "execution_count": 12,
   "metadata": {},
   "outputs": [
    {
     "name": "stdout",
     "output_type": "stream",
     "text": [
      "                               GEE Regression Results                              \n",
      "===================================================================================\n",
      "Dep. Variable:                      ddeath   No. Observations:                 2509\n",
      "Model:                                 GEE   No. clusters:                       52\n",
      "Method:                        Generalized   Min. cluster size:                  26\n",
      "                      Estimating Equations   Max. cluster size:                  69\n",
      "Family:                            Poisson   Mean cluster size:                48.2\n",
      "Dependence structure:         Independence   Num. iterations:                     2\n",
      "Date:                     Mon, 01 Jun 2020   Scale:                          10.553\n",
      "Covariance type:                    robust   Time:                         14:25:44\n",
      "===================================================================================\n",
      "                      coef    std err          z      P>|z|      [0.025      0.975]\n",
      "-----------------------------------------------------------------------------------\n",
      "C(state)[AK]       -3.6364      0.596     -6.101      0.000      -4.805      -2.468\n",
      "C(state)[AL]       -2.0693      0.796     -2.599      0.009      -3.630      -0.509\n",
      "C(state)[AR]       -3.0436      0.728     -4.182      0.000      -4.470      -1.617\n",
      "C(state)[AZ]       -1.9286      0.783     -2.464      0.014      -3.462      -0.395\n",
      "C(state)[CA]       -1.4446      0.958     -1.509      0.131      -3.321       0.432\n",
      "C(state)[CO]       -1.8336      0.785     -2.335      0.020      -3.373      -0.295\n",
      "C(state)[CT]       -1.1350      0.827     -1.372      0.170      -2.756       0.486\n",
      "C(state)[DC]       -2.2716      0.684     -3.320      0.001      -3.613      -0.931\n",
      "C(state)[DE]       -2.5541      0.690     -3.704      0.000      -3.906      -1.203\n",
      "C(state)[FL]       -1.5593      0.913     -1.708      0.088      -3.349       0.230\n",
      "C(state)[GA]       -1.7816      0.857     -2.078      0.038      -3.462      -0.101\n",
      "C(state)[HI]       -2.9823      0.597     -4.999      0.000      -4.151      -1.813\n",
      "C(state)[IA]       -2.6834      0.785     -3.419      0.001      -4.222      -1.145\n",
      "C(state)[ID]       -2.8189      0.630     -4.473      0.000      -4.054      -1.584\n",
      "C(state)[IL]       -1.4305      0.937     -1.526      0.127      -3.268       0.407\n",
      "C(state)[IN]       -1.5834      0.822     -1.927      0.054      -3.194       0.027\n",
      "C(state)[KS]       -3.0973      0.730     -4.242      0.000      -4.528      -1.666\n",
      "C(state)[KY]       -2.2733      0.746     -3.046      0.002      -3.736      -0.810\n",
      "C(state)[LA]       -1.2343      0.854     -1.445      0.148      -2.908       0.439\n",
      "C(state)[MA]       -1.0875      0.922     -1.179      0.238      -2.895       0.720\n",
      "C(state)[MD]       -1.6471      0.845     -1.949      0.051      -3.303       0.009\n",
      "C(state)[ME]       -3.1045      0.542     -5.732      0.000      -4.166      -2.043\n",
      "C(state)[MI]       -0.7768      0.867     -0.896      0.370      -2.476       0.922\n",
      "C(state)[MN]       -1.8747      0.819     -2.289      0.022      -3.480      -0.270\n",
      "C(state)[MO]       -1.8990      0.759     -2.502      0.012      -3.387      -0.411\n",
      "C(state)[MS]       -2.0895      0.763     -2.738      0.006      -3.585      -0.593\n",
      "C(state)[MT]       -2.9027      0.537     -5.405      0.000      -3.955      -1.850\n",
      "C(state)[NC]       -2.0020      0.839     -2.386      0.017      -3.646      -0.358\n",
      "C(state)[ND]       -3.1588      0.691     -4.572      0.000      -4.513      -1.805\n",
      "C(state)[NE]       -3.5292      0.759     -4.647      0.000      -5.018      -2.041\n",
      "C(state)[NH]       -2.3788      0.665     -3.578      0.000      -3.682      -1.076\n",
      "C(state)[NJ]       -1.0998      0.914     -1.204      0.229      -2.890       0.691\n",
      "C(state)[NM]       -2.1356      0.761     -2.808      0.005      -3.626      -0.645\n",
      "C(state)[NV]       -2.2166      0.711     -3.119      0.002      -3.610      -0.824\n",
      "C(state)[NY]       -0.6541      1.031     -0.635      0.526      -2.674       1.366\n",
      "C(state)[OH]       -1.5041      0.847     -1.775      0.076      -3.165       0.156\n",
      "C(state)[OK]       -2.1621      0.703     -3.076      0.002      -3.540      -0.784\n",
      "C(state)[OR]       -2.5824      0.712     -3.626      0.000      -3.978      -1.187\n",
      "C(state)[PA]       -1.1287      0.894     -1.263      0.207      -2.880       0.623\n",
      "C(state)[PR]       -2.7485      0.573     -4.795      0.000      -3.872      -1.625\n",
      "C(state)[RI]       -2.0929      0.790     -2.648      0.008      -3.642      -0.544\n",
      "C(state)[SC]       -2.2258      0.738     -3.014      0.003      -3.673      -0.779\n",
      "C(state)[SD]       -4.0555      0.668     -6.072      0.000      -5.365      -2.746\n",
      "C(state)[TN]       -2.7557      0.850     -3.241      0.001      -4.422      -1.089\n",
      "C(state)[TX]       -1.9710      0.926     -2.128      0.033      -3.786      -0.156\n",
      "C(state)[UT]       -3.4989      0.786     -4.449      0.000      -5.040      -1.958\n",
      "C(state)[VA]       -2.1789      0.836     -2.607      0.009      -3.817      -0.541\n",
      "C(state)[VT]       -2.6077      0.580     -4.497      0.000      -3.744      -1.471\n",
      "C(state)[WA]       -1.7869      0.811     -2.203      0.028      -3.377      -0.197\n",
      "C(state)[WI]       -2.2054      0.783     -2.817      0.005      -3.740      -0.671\n",
      "C(state)[WV]       -2.3419      0.703     -3.333      0.001      -3.719      -0.965\n",
      "C(state)[WY]       -5.0743      0.605     -8.390      0.000      -6.260      -3.889\n",
      "bs(rdate, 5)[0]     0.0707      0.364      0.194      0.846      -0.643       0.784\n",
      "bs(rdate, 5)[1]     0.4842      0.474      1.021      0.307      -0.446       1.414\n",
      "bs(rdate, 5)[2]     0.4494      0.467      0.963      0.336      -0.466       1.364\n",
      "bs(rdate, 5)[3]     0.8860      0.718      1.235      0.217      -0.520       2.292\n",
      "bs(rdate, 5)[4]    -0.2159      0.374     -0.577      0.564      -0.949       0.517\n",
      "logcumpos0          0.6344      0.101      6.260      0.000       0.436       0.833\n",
      "logcumpos1          0.1770      0.045      3.912      0.000       0.088       0.266\n",
      "logcumpos2          0.0334      0.031      1.082      0.279      -0.027       0.094\n",
      "logcumpos3         -0.0456      0.035     -1.320      0.187      -0.113       0.022\n",
      "logcumneg0         -0.1116      0.062     -1.788      0.074      -0.234       0.011\n",
      "logcumneg1         -0.1004      0.051     -1.970      0.049      -0.200      -0.000\n",
      "logcumneg2         -0.0121      0.027     -0.447      0.655      -0.065       0.041\n",
      "logcumneg3          0.0316      0.026      1.213      0.225      -0.019       0.083\n",
      "==============================================================================\n",
      "Skew:                          5.4725   Kurtosis:                     104.0474\n",
      "Centered skew:                 5.4725   Centered kurtosis:            104.0474\n",
      "==============================================================================\n",
      "Score test for model 2 relative to model 1:\n",
      "{'statistic': 5.604939219323411, 'df': 5, 'p-value': 0.3465760684049346}\n"
     ]
    }
   ],
   "source": [
    "fml = \"ddeath ~ 0 + C(state) + bs(rdate, 5) + \"\n",
    "fml += \" + \".join([\"logcumpos%d\" % j for j in range(4)])\n",
    "fml += \" + \"\n",
    "fml += \" + \".join([\"logcumneg%d\" % j for j in range(4)])\n",
    "m2 = sm.GEE.from_formula(fml, groups=\"state\", data=dx, family=sm.families.Poisson())\n",
    "r2 = m2.fit(scale=\"X2\")\n",
    "print(r2.summary())\n",
    "print(\"Score test for model 2 relative to model 1:\")\n",
    "print(m2.compare_score_test(r1))"
   ]
  },
  {
   "cell_type": "markdown",
   "metadata": {},
   "source": [
    "As noted above, it makes sense to model death relative to population\n",
    "size.  Since the Poisson regression that we will be using has a log\n",
    "link function, to properly account for population effects we should\n",
    "use the log of the total population as an offset, or as a covariate.\n",
    "Note however that Covid has largely arisen in geographically-limited\n",
    "clusters that are smaller than an entire state.  For this reason,\n",
    "the state population may not be the perfect offset to use for this\n",
    "purpose.  Ideally, we would have mortality and testing data at a\n",
    "finer geographical scale, for example by county.  But that data is\n",
    "not available now."
   ]
  },
  {
   "cell_type": "code",
   "execution_count": 13,
   "metadata": {},
   "outputs": [],
   "source": [
    "dx[\"lpop\"] = np.log(dx[\"pop\"])"
   ]
  },
  {
   "cell_type": "markdown",
   "metadata": {},
   "source": [
    "Since population size is a state-level variable and we already have\n",
    "included state fixed effects in the model, a main effect of\n",
    "population size has already been accounted for in the models above.\n",
    "However we can take the question of population scaling a bit further\n",
    "by considering interactions between population size and the positive\n",
    "test counts.  As shown below however, these coefficients are not\n",
    "statistically significant based on the score test."
   ]
  },
  {
   "cell_type": "code",
   "execution_count": 14,
   "metadata": {},
   "outputs": [
    {
     "name": "stdout",
     "output_type": "stream",
     "text": [
      "Score test for model 3 relative to model 2:\n",
      "{'statistic': 3.144053283840204, 'df': 9, 'p-value': 0.9583086039808422}\n"
     ]
    }
   ],
   "source": [
    "dx[\"lpop_cen\"] = dx.lpop - dx.lpop.mean()\n",
    "fml = \"ddeath ~ 0 + C(state) + bs(rdate, 5) + \"\n",
    "fml += \" + \".join([\"lpop_cen*logcumpos%d\" % j for j in range(4)])\n",
    "fml += \" + \"\n",
    "fml += \" + \".join([\"lpop_cen*logcumneg%d\" % j for j in range(4)])\n",
    "m3 = sm.GEE.from_formula(fml, groups=\"state\", data=dx, family=sm.families.Poisson())\n",
    "r3 = m3.fit(scale=\"X2\")\n",
    "print(\"Score test for model 3 relative to model 2:\")\n",
    "print(m3.compare_score_test(r2))"
   ]
  },
  {
   "cell_type": "markdown",
   "metadata": {},
   "source": [
    "## Dispersion relative to the mean and the scale parameter"
   ]
  },
  {
   "cell_type": "markdown",
   "metadata": {},
   "source": [
    "Above we focused on the mean structure of the model, which is\n",
    "reflected in the slope parameters for the covariates.  These\n",
    "parameters determine the expected mortality count for any given\n",
    "state/date pair.  We should also consider to what extent the data\n",
    "are scattered with respect to this mean.  This is captured through\n",
    "the scale parameter of the quasi-Poisson regression."
   ]
  },
  {
   "cell_type": "code",
   "execution_count": 15,
   "metadata": {},
   "outputs": [
    {
     "name": "stdout",
     "output_type": "stream",
     "text": [
      "10.719056894065115\n",
      "10.552970538459268\n",
      "10.409096549371016\n"
     ]
    }
   ],
   "source": [
    "print(r1.scale)\n",
    "print(r2.scale)\n",
    "print(r3.scale)"
   ]
  },
  {
   "cell_type": "markdown",
   "metadata": {},
   "source": [
    "In an ideal Poisson regression, the scale parameter is equal to 1,\n",
    "meaning that the conditional variance is equal to the conditional\n",
    "mean.  Here we are seeing that the conditional variance is around 10\n",
    "times greater than the conditional mean.\n",
    "\n",
    "The conventional approach for estimating the scale parameter is\n",
    "analogous to the sample variance, using the \"Pearson residuals\"."
   ]
  },
  {
   "cell_type": "code",
   "execution_count": 16,
   "metadata": {
    "lines_to_end_of_cell_marker": 0,
    "lines_to_next_cell": 1
   },
   "outputs": [
    {
     "name": "stdout",
     "output_type": "stream",
     "text": [
      "10.278036657228618\n"
     ]
    }
   ],
   "source": [
    "resid = r2.resid_pearson\n",
    "print(np.var(resid))\n",
    "\n",
    "# This is how the Pearson residuals are constructed:\n",
    "f = np.exp(np.dot(m2.exog, r2.params))\n",
    "resid0 = (m2.endog - f) / np.sqrt(f)\n",
    "\n",
    "assert(np.all(np.abs(resid - resid0) < 1e-10))"
   ]
  },
  {
   "cell_type": "markdown",
   "metadata": {},
   "source": [
    "As we saw above, there are some large outliers in the mortality\n",
    "data, and we have good reason to believe that these outliers do not\n",
    "reflect actual daily death counts.  Therefore it might make sense to\n",
    "use an alternative approach to calculating the scale parameter that\n",
    "is not too strongly influenced by a few outlying values.  One way to\n",
    "do this is using \"Huber's proposal 2\" estimate of the scale.  This\n",
    "estimator solves a modified (\"clipped\") version of the moment-based\n",
    "estimating equation solved by the usual sample variance.\n",
    "\n",
    "Huber's scale estimate is around 4.15, indicating how the usual\n",
    "scale estimate is inflated by a few large outliers.  Thus, we see\n",
    "that the conditional variance in the number of Covid deaths is\n",
    "around 4-10 times greater than the conditional mean number of Covid\n",
    "deaths, depending on how we estimate the scale parameter."
   ]
  },
  {
   "cell_type": "code",
   "execution_count": 17,
   "metadata": {
    "lines_to_end_of_cell_marker": 0,
    "lines_to_next_cell": 1
   },
   "outputs": [],
   "source": [
    "def g(s, x=resid):\n",
    "    c = 1.345\n",
    "    return np.sum(np.clip(x / s, -c, c)**2)\n",
    "\n",
    "# This is around 0.84, slightly less than 1 due\n",
    "# to clipping.\n",
    "gam = g(1, np.random.normal(size=50000)) / 50000\n",
    "\n",
    "# This is the equation that we wish to solve to estimate\n",
    "# the scale parameter s.\n",
    "def h(s):\n",
    "    return g(s).sum() - gam*(m2.nobs - r2.params.size)\n",
    "\n",
    "# Left bracket\n",
    "s0 = r2.scale\n",
    "while h(s0) < 0:\n",
    "    s0 /= 2\n",
    "\n",
    "# Right bracket\n",
    "s1 = r2.scale\n",
    "while h(s1) > 0:\n",
    "    s1 *= 2\n",
    "\n",
    "from scipy.optimize import root_scalar\n",
    "\n",
    "scale_huber = root_scalar(h, bracket=[s0, s1]).root**2"
   ]
  },
  {
   "cell_type": "markdown",
   "metadata": {},
   "source": [
    "In a perfect Poisson situation, the variance would be equal to the\n",
    "mean.  This perfect Poisson behavior would arise if we had\n",
    "independence and homogeneity -- independence meaning that any two\n",
    "people living in the same state on the same day die of Covid\n",
    "independently of each other, and homogeneity meaning that any two\n",
    "people living in the same state on the same day have the same\n",
    "probability of dying of Covid.  The independence condition is likely\n",
    "to hold, but the homogeneity condition is not.  Our data are not\n",
    "stratified by known risk factors, sex and age being most\n",
    "well-established.  Also, there are complex artifacts in the way\n",
    "death reports are distributed over the days of the week.  Pooling\n",
    "data with different event probabilities will give us a scale\n",
    "parameter greater than 1, as is seen here.\n",
    "\n",
    "Although we don't have access to the stratified data that we would\n",
    "need to characterize these sources of dispersion, we can do some\n",
    "sensitivity analyses to see to what extent age and sex effects might\n",
    "inflate the scale parameter."
   ]
  },
  {
   "cell_type": "markdown",
   "metadata": {},
   "source": [
    "The following function implements a form of sensitivity analysis in\n",
    "which we attempt to identify population structures that are\n",
    "consistent with the findings we reached above with the Covid\n",
    "tracking project data.  Our goal here is to get a better sense for\n",
    "how much heterogeneity would be needed to attain a scale parameter\n",
    "around 10, while respecting the marginal mean structure estimated\n",
    "above.  We can do this, in a very hypothetical way, by imagining\n",
    "that our population consists of two groups with different risks.  If\n",
    "we specify the prevalences of these two groups, and the risk ratio\n",
    "between them, and force the marginal mean to agree with what we\n",
    "found above, we can calculate the scale parameter.\n",
    "\n",
    "This idea is implemented in the function below.  The parameter\n",
    "'high_risk' is a hypothetical risk ratio between a high risk group\n",
    "and a low risk group.  The parameter 'pr_high' is the hypothetical\n",
    "proportion of the population in the high risk group."
   ]
  },
  {
   "cell_type": "code",
   "execution_count": 18,
   "metadata": {
    "lines_to_end_of_cell_marker": 0,
    "lines_to_next_cell": 1
   },
   "outputs": [],
   "source": [
    "def scale_2group(high_risk, pr_high):\n",
    "    f = np.r_[1, high_risk]\n",
    "    pr = np.r_[1 - pr_high, pr_high]\n",
    "    f /= np.dot(f, pr)\n",
    "    ex = r1.fittedvalues\n",
    "    exq = [fx*ex for fx in f]\n",
    "    mcv = sum([p*b for (p, b) in zip(pr, exq)])\n",
    "    vcm = sum([p*(b-ex)**2 for (p, b) in zip(pr, exq)])\n",
    "    tv = mcv + vcm\n",
    "    return (tv/ex).mean()"
   ]
  },
  {
   "cell_type": "markdown",
   "metadata": {},
   "source": [
    "If we calculate the hypothetical scale parameter for an imaginary\n",
    "population in which 5% of the population is 4 times more likely to\n",
    "die than the others, we get a scale parameter of around 11, which is\n",
    "close to our observed scale parameter.  Of course the real world\n",
    "does not consist of two homogeneous groups, but this may not be as\n",
    "far as one would imagine from reality.  For example, including a\n",
    "third group with very low risk would not change anything.\n",
    "Consistent with observed data, we can suppose that the risk of dying\n",
    "for people under 40 is negligible.\n",
    "\n",
    "Below we show two hypothetical 2-group scenarios that would explain\n",
    "the scale parameters estimated in the conventional way, and\n",
    "robustly.  In the first case, we posit that 5% of the population has\n",
    "a 3.8 times greater risk of death than the others.  In the second\n",
    "case, we posit that 2% of the population has a 3.3 times greater\n",
    "risk of death than the others."
   ]
  },
  {
   "cell_type": "code",
   "execution_count": 19,
   "metadata": {},
   "outputs": [
    {
     "name": "stdout",
     "output_type": "stream",
     "text": [
      "10.494514484697184\n",
      "4.139938674770221\n"
     ]
    }
   ],
   "source": [
    "print(scale_2group(3.8, 0.05))\n",
    "print(scale_2group(3.3, 0.02))"
   ]
  },
  {
   "cell_type": "markdown",
   "metadata": {},
   "source": [
    "As another illustration, if half the population (i.e. males) has a 2\n",
    "times greater risk of death than the others, then we get a scale\n",
    "parameter that is in-range with our estimated values."
   ]
  },
  {
   "cell_type": "code",
   "execution_count": 20,
   "metadata": {},
   "outputs": [
    {
     "name": "stdout",
     "output_type": "stream",
     "text": [
      "4.681546432841761\n"
     ]
    }
   ],
   "source": [
    "print(scale_2group(2.0, 0.5))"
   ]
  }
 ],
 "metadata": {
  "jupytext": {
   "cell_metadata_filter": "-all"
  },
  "kernelspec": {
   "display_name": "Python 3",
   "language": "python",
   "name": "python3"
  },
  "language_info": {
   "codemirror_mode": {
    "name": "ipython",
    "version": 3
   },
   "file_extension": ".py",
   "mimetype": "text/x-python",
   "name": "python",
   "nbconvert_exporter": "python",
   "pygments_lexer": "ipython3",
   "version": "3.7.3"
  }
 },
 "nbformat": 4,
 "nbformat_minor": 2
}
