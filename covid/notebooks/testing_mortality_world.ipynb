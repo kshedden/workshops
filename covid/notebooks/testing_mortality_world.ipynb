{
 "cells": [
  {
   "cell_type": "markdown",
   "metadata": {},
   "source": [
    "## Covid case/mortality analysis for 173 countries\n",
    "\n",
    "We use data from this site:\n",
    "\n",
    "https://www.ecdc.europa.eu/en/publications-data/download-todays-data-geographic-distribution-covid-19-cases-worldwide\n",
    "\n",
    "Download the csv data file and save it in the working directory with the file name \"ecdpc.csv\"."
   ]
  },
  {
   "cell_type": "code",
   "execution_count": 1,
   "metadata": {},
   "outputs": [],
   "source": [
    "import numpy as np\n",
    "import statsmodels.api as sm\n",
    "import pandas as pd\n",
    "from datetime import datetime"
   ]
  },
  {
   "cell_type": "markdown",
   "metadata": {},
   "source": [
    "Load the data"
   ]
  },
  {
   "cell_type": "code",
   "execution_count": 2,
   "metadata": {},
   "outputs": [],
   "source": [
    "df = pd.read_csv(\"ecdpc.csv\")"
   ]
  },
  {
   "cell_type": "markdown",
   "metadata": {},
   "source": [
    "Simplify some variable names"
   ]
  },
  {
   "cell_type": "code",
   "execution_count": 3,
   "metadata": {
    "lines_to_next_cell": 1
   },
   "outputs": [],
   "source": [
    "df[\"country\"] = df.countryterritoryCode\n",
    "df = df.loc[pd.notnull(df.country), :]"
   ]
  },
  {
   "cell_type": "markdown",
   "metadata": {},
   "source": [
    "Clean up the dates"
   ]
  },
  {
   "cell_type": "code",
   "execution_count": 4,
   "metadata": {},
   "outputs": [],
   "source": [
    "def f(x):\n",
    "    u = x.split(\"/\")\n",
    "    return \"%s-%s-%s\" % tuple(u[::-1])\n",
    "df[\"date_rep\"] = df.dateRep.apply(f)\n",
    "df[\"date\"] = pd.to_datetime(df.date_rep)"
   ]
  },
  {
   "cell_type": "markdown",
   "metadata": {},
   "source": [
    "Remove meaningless rows with future dates."
   ]
  },
  {
   "cell_type": "code",
   "execution_count": 5,
   "metadata": {},
   "outputs": [],
   "source": [
    "today = datetime.today().strftime('%Y-%m-%d')\n",
    "today = pd.to_datetime(today)\n",
    "df = df.loc[df.date <= today]"
   ]
  },
  {
   "cell_type": "markdown",
   "metadata": {},
   "source": [
    "Only keep countries having at least one month of data"
   ]
  },
  {
   "cell_type": "code",
   "execution_count": 6,
   "metadata": {},
   "outputs": [
    {
     "name": "stdout",
     "output_type": "stream",
     "text": [
      "202\n"
     ]
    }
   ],
   "source": [
    "n = df.groupby(\"country\").size()\n",
    "n = n[n > 30]\n",
    "df = df.loc[df.country.isin(n.index), :]\n",
    "print(df.country.unique().size)"
   ]
  },
  {
   "cell_type": "markdown",
   "metadata": {},
   "source": [
    "Sort first by country, then within country by date."
   ]
  },
  {
   "cell_type": "code",
   "execution_count": 7,
   "metadata": {},
   "outputs": [],
   "source": [
    "df = df.sort_values([\"country\", \"date\"])"
   ]
  },
  {
   "cell_type": "markdown",
   "metadata": {},
   "source": [
    "Days is the number of calendar days in 2020 for each record."
   ]
  },
  {
   "cell_type": "code",
   "execution_count": 8,
   "metadata": {
    "lines_to_next_cell": 1
   },
   "outputs": [],
   "source": [
    "df[\"days\"] = (df.date - pd.to_datetime(\"2020-01-01\")).dt.days"
   ]
  },
  {
   "cell_type": "markdown",
   "metadata": {},
   "source": [
    "Create variables containing the number of new cases\n",
    "within a week, for each of the four weeks preceding\n",
    "the current day."
   ]
  },
  {
   "cell_type": "code",
   "execution_count": 9,
   "metadata": {
    "lines_to_end_of_cell_marker": 0,
    "lines_to_next_cell": 1
   },
   "outputs": [
    {
     "name": "stderr",
     "output_type": "stream",
     "text": [
      "/nfs/kshedden/python3/lib/python3.7/site-packages/pandas/core/series.py:853: RuntimeWarning: invalid value encountered in log\n",
      "  result = getattr(ufunc, method)(*inputs, **kwargs)\n"
     ]
    }
   ],
   "source": [
    "# Sum x from d2 days back in time to d1 days back in time, inclusive of\n",
    "# both endpoints.  d2 must be greater than d1.\n",
    "def wsum(x, d1, d2):\n",
    "    w = np.ones(d2 + 1)\n",
    "    if d1 > 0:\n",
    "        w[-d1:] = 0\n",
    "    y = np.zeros_like(x)\n",
    "    y[d2:] = np.convolve(x.values, w[::-1], mode='valid')\n",
    "    return y\n",
    "\n",
    "for j in range(4):\n",
    "    xx = df.groupby(\"country\").cases.transform(lambda x: wsum(x, 7*j, 7*j+6))\n",
    "    df[\"cumpos%d\" % j] = df.groupby(\"country\").cases.transform(lambda x: wsum(x, 7*j, 7*j+6))\n",
    "    df[\"logcumpos%d\" % j] = np.log(df[\"cumpos%d\" % j] + 1)"
   ]
  },
  {
   "cell_type": "markdown",
   "metadata": {},
   "source": [
    "Calculate the date of the first death in each country,\n",
    "then remove data prior to 10 days after this date.\n",
    "rdays is the number of days in each country since\n",
    "its first reported Covid death."
   ]
  },
  {
   "cell_type": "code",
   "execution_count": 10,
   "metadata": {},
   "outputs": [],
   "source": [
    "def firstdeath(x):\n",
    "    if (x.deaths == 0).all():\n",
    "        return np.inf\n",
    "    ii = np.flatnonzero(x.deaths > 0)[0]\n",
    "    return x.date.iloc[ii]\n",
    "\n",
    "xx = df.groupby(\"country\").apply(firstdeath)\n",
    "xx.name = \"firstdeath\"\n",
    "df = pd.merge(df, xx, left_on=\"country\", right_index=True)\n",
    "\n",
    "df[\"rdays\"] = (df.date - df.firstdeath).dt.days\n",
    "df = df.loc[df.rdays >= 10, :]"
   ]
  },
  {
   "cell_type": "markdown",
   "metadata": {},
   "source": [
    "Here is a basic regression analysis looking at all the countries, with data filtered\n",
    "as described above."
   ]
  },
  {
   "cell_type": "code",
   "execution_count": 11,
   "metadata": {},
   "outputs": [
    {
     "name": "stdout",
     "output_type": "stream",
     "text": [
      "                               GEE Regression Results                              \n",
      "===================================================================================\n",
      "Dep. Variable:                      deaths   No. Observations:                 8586\n",
      "Model:                                 GEE   No. clusters:                      173\n",
      "Method:                        Generalized   Min. cluster size:                  12\n",
      "                      Estimating Equations   Max. cluster size:                 123\n",
      "Family:                            Poisson   Mean cluster size:                49.6\n",
      "Dependence structure:         Independence   Num. iterations:                     2\n",
      "Date:                     Mon, 01 Jun 2020   Scale:                          33.046\n",
      "Covariance type:                    robust   Time:                         13:29:26\n",
      "===================================================================================\n",
      "                      coef    std err          z      P>|z|      [0.025      0.975]\n",
      "-----------------------------------------------------------------------------------\n",
      "C(country)[ABW]    -3.9114      0.063    -61.801      0.000      -4.035      -3.787\n",
      "C(country)[AFG]    -4.3143      0.447     -9.650      0.000      -5.191      -3.438\n",
      "C(country)[AGO]    -5.3809      0.132    -40.838      0.000      -5.639      -5.123\n",
      "C(country)[ALB]    -4.6574      0.304    -15.335      0.000      -5.253      -4.062\n",
      "C(country)[AND]    -3.9173      0.327    -11.968      0.000      -4.559      -3.276\n",
      "C(country)[ARE]    -5.2399      0.517    -10.127      0.000      -6.254      -4.226\n",
      "C(country)[ARG]    -3.7832      0.437     -8.662      0.000      -4.639      -2.927\n",
      "C(country)[ARM]    -5.0287      0.407    -12.343      0.000      -5.827      -4.230\n",
      "C(country)[ATG]    -4.0133      0.067    -59.777      0.000      -4.145      -3.882\n",
      "C(country)[AUS]    -5.1046      0.459    -11.131      0.000      -6.003      -4.206\n",
      "C(country)[AUT]    -3.9337      0.510     -7.712      0.000      -4.933      -2.934\n",
      "C(country)[AZE]    -5.2982      0.387    -13.708      0.000      -6.056      -4.541\n",
      "C(country)[BDI]   -29.5319      1.007    -29.334      0.000     -31.505     -27.559\n",
      "C(country)[BEL]    -2.3761      0.566     -4.197      0.000      -3.486      -1.266\n",
      "C(country)[BEN]    -6.5777      0.263    -25.006      0.000      -7.093      -6.062\n",
      "C(country)[BFA]    -3.9405      0.311    -12.684      0.000      -4.549      -3.332\n",
      "C(country)[BGD]    -4.5830      0.536     -8.552      0.000      -5.633      -3.533\n",
      "C(country)[BGR]    -3.9504      0.361    -10.934      0.000      -4.658      -3.242\n",
      "C(country)[BHR]    -7.3884      0.433    -17.081      0.000      -8.236      -6.541\n",
      "C(country)[BHS]    -4.7405      0.170    -27.816      0.000      -5.075      -4.406\n",
      "C(country)[BIH]    -3.8793      0.371    -10.469      0.000      -4.606      -3.153\n",
      "C(country)[BLR]    -5.7638      0.551    -10.466      0.000      -6.843      -4.684\n",
      "C(country)[BLZ]   -28.6173      1.005    -28.465      0.000     -30.588     -26.647\n",
      "C(country)[BMU]    -4.4305      0.181    -24.540      0.000      -4.784      -4.077\n",
      "C(country)[BOL]    -3.7885      0.419     -9.035      0.000      -4.610      -2.967\n",
      "C(country)[BRA]    -2.7184      0.670     -4.056      0.000      -4.032      -1.405\n",
      "C(country)[BRB]    -4.3322      0.116    -37.306      0.000      -4.560      -4.105\n",
      "C(country)[BRN]   -28.8326      1.005    -28.701      0.000     -30.802     -26.864\n",
      "C(country)[BWA]   -29.1140      1.005    -28.958      0.000     -31.084     -27.143\n",
      "C(country)[CAN]    -3.0492      0.585     -5.210      0.000      -4.196      -1.902\n",
      "C(country)[CHE]    -3.5989      0.540     -6.661      0.000      -4.658      -2.540\n",
      "C(country)[CHL]    -4.7959      0.557     -8.617      0.000      -5.887      -3.705\n",
      "C(country)[CHN]    -3.3751      0.629     -5.369      0.000      -4.607      -2.143\n",
      "C(country)[CIV]    -5.3142      0.361    -14.726      0.000      -6.021      -4.607\n",
      "C(country)[CMR]    -3.9554      0.385    -10.267      0.000      -4.711      -3.200\n",
      "C(country)[COD]    -4.3149      0.346    -12.457      0.000      -4.994      -3.636\n",
      "C(country)[COG]    -4.7087      0.259    -18.160      0.000      -5.217      -4.200\n",
      "C(country)[COL]    -3.8535      0.490     -7.861      0.000      -4.814      -2.893\n",
      "C(country)[CPV]    -6.2875      0.265    -23.687      0.000      -6.808      -5.767\n",
      "C(country)[CRI]    -5.7775      0.308    -18.748      0.000      -6.382      -5.174\n",
      "C(country)[CUB]    -4.2574      0.363    -11.739      0.000      -4.968      -3.547\n",
      "C(country)[CUW]   -28.5936      1.003    -28.518      0.000     -30.559     -26.628\n",
      "C(country)[CYM]   -30.1000      1.015    -29.656      0.000     -32.089     -28.111\n",
      "C(country)[CYP]    -5.7491      0.321    -17.898      0.000      -6.379      -5.120\n",
      "C(country)[CZE]    -4.0794      0.448     -9.101      0.000      -4.958      -3.201\n",
      "C(country)[DEU]    -3.4658      0.643     -5.392      0.000      -4.726      -2.206\n",
      "C(country)[DJI]    -5.9062      0.361    -16.372      0.000      -6.613      -5.199\n",
      "C(country)[DNK]    -3.7730      0.453     -8.327      0.000      -4.661      -2.885\n",
      "C(country)[DOM]    -4.1578      0.475     -8.754      0.000      -5.089      -3.227\n",
      "C(country)[DZA]    -3.3766      0.431     -7.833      0.000      -4.221      -2.532\n",
      "C(country)[ECU]    -2.9335      0.531     -5.527      0.000      -3.974      -1.893\n",
      "C(country)[EGY]    -3.6125      0.471     -7.672      0.000      -4.535      -2.690\n",
      "C(country)[ESP]    -2.4918      0.663     -3.761      0.000      -3.790      -1.193\n",
      "C(country)[EST]    -4.2278      0.343    -12.324      0.000      -4.900      -3.555\n",
      "C(country)[ETH]    -6.0605      0.256    -23.717      0.000      -6.561      -5.560\n",
      "C(country)[FIN]    -3.8568      0.422     -9.143      0.000      -4.684      -3.030\n",
      "C(country)[FRA]    -2.0787      0.623     -3.334      0.001      -3.301      -0.857\n",
      "C(country)[GAB]    -5.6866      0.354    -16.070      0.000      -6.380      -4.993\n",
      "C(country)[GBR]    -2.2589      0.657     -3.438      0.001      -3.547      -0.971\n",
      "C(country)[GEO]    -5.2116      0.287    -18.188      0.000      -5.773      -4.650\n",
      "C(country)[GGY]    -4.1550      0.268    -15.514      0.000      -4.680      -3.630\n",
      "C(country)[GHA]    -6.1705      0.442    -13.969      0.000      -7.036      -5.305\n",
      "C(country)[GIN]    -6.0209      0.400    -15.054      0.000      -6.805      -5.237\n",
      "C(country)[GMB]   -29.0182      1.004    -28.908      0.000     -30.986     -27.051\n",
      "C(country)[GNB]    -6.2263      0.418    -14.910      0.000      -7.045      -5.408\n",
      "C(country)[GNQ]    -4.8427      0.314    -15.413      0.000      -5.458      -4.227\n",
      "C(country)[GRC]    -3.8297      0.374    -10.244      0.000      -4.563      -3.097\n",
      "C(country)[GTM]    -4.5683      0.357    -12.808      0.000      -5.267      -3.869\n",
      "C(country)[GUM]    -4.8913      0.235    -20.809      0.000      -5.352      -4.431\n",
      "C(country)[GUY]    -4.0703      0.178    -22.865      0.000      -4.419      -3.721\n",
      "C(country)[HND]    -3.8459      0.397     -9.698      0.000      -4.623      -3.069\n",
      "C(country)[HRV]    -4.0073      0.371    -10.802      0.000      -4.734      -3.280\n",
      "C(country)[HTI]    -3.8183      0.293    -13.013      0.000      -4.393      -3.243\n",
      "C(country)[HUN]    -3.0104      0.391     -7.698      0.000      -3.777      -2.244\n",
      "C(country)[IDN]    -3.3524      0.489     -6.859      0.000      -4.310      -2.395\n",
      "C(country)[IMN]    -3.5771      0.285    -12.567      0.000      -4.135      -3.019\n",
      "C(country)[IND]    -3.6662      0.611     -6.000      0.000      -4.864      -2.469\n",
      "C(country)[IRL]    -3.4203      0.516     -6.632      0.000      -4.431      -2.409\n",
      "C(country)[IRN]    -3.3048      0.596     -5.543      0.000      -4.473      -2.136\n",
      "C(country)[IRQ]    -4.2214      0.376    -11.232      0.000      -4.958      -3.485\n",
      "C(country)[ISL]    -6.1379      0.379    -16.212      0.000      -6.880      -5.396\n",
      "C(country)[ISR]    -4.7955      0.507     -9.452      0.000      -5.790      -3.801\n",
      "C(country)[ITA]    -2.3532      0.644     -3.654      0.000      -3.615      -1.091\n",
      "C(country)[JAM]    -5.6232      0.289    -19.459      0.000      -6.190      -5.057\n",
      "C(country)[JEY]    -3.6097      0.272    -13.254      0.000      -4.143      -3.076\n",
      "C(country)[JOR]    -6.0240      0.259    -23.269      0.000      -6.531      -5.517\n",
      "C(country)[JPN]    -3.7889      0.482     -7.856      0.000      -4.734      -2.844\n",
      "C(country)[KAZ]    -6.1852      0.438    -14.111      0.000      -7.044      -5.326\n",
      "C(country)[KEN]    -4.0117      0.309    -12.991      0.000      -4.617      -3.406\n",
      "C(country)[KGZ]    -5.8529      0.331    -17.703      0.000      -6.501      -5.205\n",
      "C(country)[KOR]    -4.5321      0.499     -9.091      0.000      -5.509      -3.555\n",
      "C(country)[KWT]    -5.2631      0.505    -10.417      0.000      -6.253      -4.273\n",
      "C(country)[LBN]    -4.8537      0.300    -16.157      0.000      -5.442      -4.265\n",
      "C(country)[LBR]    -3.8698      0.244    -15.883      0.000      -4.347      -3.392\n",
      "C(country)[LBY]    -4.8438      0.167    -28.974      0.000      -5.171      -4.516\n",
      "C(country)[LIE]   -28.5573      1.001    -28.515      0.000     -30.520     -26.594\n",
      "C(country)[LKA]    -6.4656      0.316    -20.450      0.000      -7.085      -5.846\n",
      "C(country)[LTU]    -4.6306      0.378    -12.248      0.000      -5.372      -3.890\n",
      "C(country)[LUX]    -4.5989      0.435    -10.580      0.000      -5.451      -3.747\n",
      "C(country)[LVA]    -4.5509      0.277    -16.450      0.000      -5.093      -4.009\n",
      "C(country)[MAR]    -4.4428      0.435    -10.213      0.000      -5.295      -3.590\n",
      "C(country)[MCO]    -3.6201      0.137    -26.330      0.000      -3.890      -3.351\n",
      "C(country)[MDA]    -4.1265      0.426     -9.697      0.000      -4.960      -3.292\n",
      "C(country)[MDV]    -7.3517      0.372    -19.738      0.000      -8.082      -6.622\n",
      "C(country)[MEX]    -2.5046      0.570     -4.397      0.000      -3.621      -1.388\n",
      "C(country)[MKD]    -3.8598      0.349    -11.074      0.000      -4.543      -3.177\n",
      "C(country)[MLI]    -3.8963      0.321    -12.152      0.000      -4.525      -3.268\n",
      "C(country)[MLT]    -5.4735      0.235    -23.290      0.000      -5.934      -5.013\n",
      "C(country)[MMR]    -5.3816      0.220    -24.511      0.000      -5.812      -4.951\n",
      "C(country)[MNE]    -4.8824      0.300    -16.261      0.000      -5.471      -4.294\n",
      "C(country)[MNP]   -28.8489      1.003    -28.748      0.000     -30.816     -26.882\n",
      "C(country)[MRT]    -3.2951      0.186    -17.698      0.000      -3.660      -2.930\n",
      "C(country)[MSR]   -28.0157      1.000    -28.012      0.000     -29.976     -26.055\n",
      "C(country)[MUS]    -4.9162      0.331    -14.843      0.000      -5.565      -4.267\n",
      "C(country)[MWI]    -5.5361      0.156    -35.555      0.000      -5.841      -5.231\n",
      "C(country)[MYS]    -5.0965      0.431    -11.834      0.000      -5.941      -4.252\n",
      "C(country)[NER]    -3.8740      0.343    -11.304      0.000      -4.546      -3.202\n",
      "C(country)[NGA]    -4.1217      0.450     -9.168      0.000      -5.003      -3.241\n",
      "C(country)[NIC]    -2.9283      0.080    -36.713      0.000      -3.085      -2.772\n",
      "C(country)[NLD]    -2.6660      0.549     -4.855      0.000      -3.742      -1.590\n",
      "C(country)[NOR]    -4.3626      0.446     -9.783      0.000      -5.237      -3.489\n",
      "C(country)[NZL]    -4.4696      0.349    -12.795      0.000      -5.154      -3.785\n",
      "C(country)[OMN]    -5.9432      0.422    -14.081      0.000      -6.770      -5.116\n",
      "C(country)[PAK]    -4.1953      0.556     -7.539      0.000      -5.286      -3.105\n",
      "C(country)[PAN]    -4.3415      0.455     -9.532      0.000      -5.234      -3.449\n",
      "C(country)[PER]    -3.7678      0.613     -6.151      0.000      -4.968      -2.567\n",
      "C(country)[PHL]    -3.4880      0.464     -7.513      0.000      -4.398      -2.578\n",
      "C(country)[POL]    -3.6927      0.494     -7.476      0.000      -4.661      -2.725\n",
      "C(country)[PRI]    -4.0955      0.399    -10.263      0.000      -4.878      -3.313\n",
      "C(country)[PRT]    -3.8200      0.531     -7.189      0.000      -4.861      -2.779\n",
      "C(country)[PRY]    -5.6298      0.310    -18.170      0.000      -6.237      -5.022\n",
      "C(country)[PSE]    -6.1462      0.270    -22.780      0.000      -6.675      -5.617\n",
      "C(country)[QAT]    -8.3181      0.547    -15.215      0.000      -9.390      -7.247\n",
      "C(country)[ROU]    -3.4400      0.493     -6.981      0.000      -4.406      -2.474\n",
      "C(country)[RUS]    -4.7300      0.690     -6.855      0.000      -6.082      -3.378\n",
      "C(country)[SAU]    -5.5523      0.578     -9.613      0.000      -6.684      -4.420\n",
      "C(country)[SDN]    -3.7956      0.408     -9.314      0.000      -4.594      -2.997\n",
      "C(country)[SEN]    -5.1909      0.390    -13.311      0.000      -5.955      -4.427\n",
      "C(country)[SGP]    -7.8164      0.537    -14.568      0.000      -8.868      -6.765\n",
      "C(country)[SLE]    -3.7401      0.315    -11.858      0.000      -4.358      -3.122\n",
      "C(country)[SLV]    -4.8638      0.355    -13.720      0.000      -5.559      -4.169\n",
      "C(country)[SMR]    -4.0868      0.271    -15.088      0.000      -4.618      -3.556\n",
      "C(country)[SOM]    -4.2359      0.372    -11.392      0.000      -4.965      -3.507\n",
      "C(country)[SRB]    -4.6594      0.472     -9.871      0.000      -5.585      -3.734\n",
      "C(country)[STP]    -4.8585      0.351    -13.829      0.000      -5.547      -4.170\n",
      "C(country)[SUR]   -28.0878      1.000    -28.086      0.000     -30.048     -26.128\n",
      "C(country)[SVK]    -4.7054      0.340    -13.824      0.000      -5.373      -4.038\n",
      "C(country)[SVN]    -3.6208      0.347    -10.423      0.000      -4.302      -2.940\n",
      "C(country)[SWE]    -2.6989      0.518     -5.213      0.000      -3.714      -1.684\n",
      "C(country)[SWZ]    -6.4489      0.261    -24.722      0.000      -6.960      -5.938\n",
      "C(country)[SXM]    -3.8007      0.200    -18.961      0.000      -4.194      -3.408\n",
      "C(country)[SYR]    -5.4027      0.134    -40.314      0.000      -5.665      -5.140\n",
      "C(country)[TCA]   -28.4957      1.002    -28.450      0.000     -30.459     -26.533\n",
      "C(country)[TCD]    -3.5042      0.355     -9.859      0.000      -4.201      -2.808\n",
      "C(country)[TGO]    -4.5313      0.234    -19.362      0.000      -4.990      -4.073\n",
      "C(country)[THA]    -4.9831      0.402    -12.408      0.000      -5.770      -4.196\n",
      "C(country)[TTO]    -4.8482      0.208    -23.330      0.000      -5.256      -4.441\n",
      "C(country)[TUN]    -4.3654      0.336    -12.986      0.000      -5.024      -3.707\n",
      "C(country)[TUR]    -4.0237      0.649     -6.200      0.000      -5.296      -2.752\n",
      "C(country)[TWN]    -5.5181      0.259    -21.311      0.000      -6.026      -5.011\n",
      "C(country)[TZA]    -4.2875      0.314    -13.649      0.000      -4.903      -3.672\n",
      "C(country)[UKR]    -4.1525      0.505     -8.222      0.000      -5.142      -3.163\n",
      "C(country)[URY]    -4.7485      0.270    -17.571      0.000      -5.278      -4.219\n",
      "C(country)[USA]    -2.8350      0.773     -3.669      0.000      -4.350      -1.320\n",
      "C(country)[UZB]    -6.4453      0.388    -16.606      0.000      -7.206      -5.685\n",
      "C(country)[VEN]    -5.6648      0.258    -21.954      0.000      -6.170      -5.159\n",
      "C(country)[VGB]   -28.5253      1.001    -28.497      0.000     -30.487     -26.563\n",
      "C(country)[VIR]    -3.3290      0.121    -27.501      0.000      -3.566      -3.092\n",
      "C(country)[XKX]    -4.6203      0.317    -14.568      0.000      -5.242      -3.999\n",
      "C(country)[YEM]    -2.5522      0.284     -8.972      0.000      -3.110      -1.995\n",
      "C(country)[ZAF]    -4.3015      0.492     -8.746      0.000      -5.266      -3.338\n",
      "C(country)[ZMB]    -5.6548      0.323    -17.516      0.000      -6.288      -5.022\n",
      "C(country)[ZWE]    -4.2769      0.116    -36.770      0.000      -4.505      -4.049\n",
      "logcumpos0          0.4508      0.084      5.352      0.000       0.286       0.616\n",
      "logcumpos1          0.3266      0.100      3.252      0.001       0.130       0.524\n",
      "logcumpos2          0.1448      0.069      2.097      0.036       0.009       0.280\n",
      "logcumpos3         -0.0742      0.045     -1.637      0.102      -0.163       0.015\n",
      "==============================================================================\n",
      "Skew:                         16.4479   Kurtosis:                     695.8259\n",
      "Centered skew:                16.4479   Centered kurtosis:            695.8259\n",
      "==============================================================================\n"
     ]
    }
   ],
   "source": [
    "fml = \"deaths ~ 0 + C(country) + \"\n",
    "fml += \"logcumpos0 + logcumpos1 + logcumpos2 + logcumpos3\"\n",
    "m1 = sm.GEE.from_formula(fml, groups=\"country\", data=df, family=sm.families.Poisson())\n",
    "r1 = m1.fit(scale=\"X2\")\n",
    "print(r1.summary())"
   ]
  },
  {
   "cell_type": "markdown",
   "metadata": {},
   "source": [
    "Including either relative time or calendar time in the model could capture\n",
    "risk-modifying effects of interest.  For example, if there is a role for\n",
    "calendar time, this could reflect a changing case/fatality ratio as the\n",
    "epidemic progresses."
   ]
  },
  {
   "cell_type": "code",
   "execution_count": 12,
   "metadata": {},
   "outputs": [
    {
     "name": "stdout",
     "output_type": "stream",
     "text": [
      "                               GEE Regression Results                              \n",
      "===================================================================================\n",
      "Dep. Variable:                      deaths   No. Observations:                 8586\n",
      "Model:                                 GEE   No. clusters:                      173\n",
      "Method:                        Generalized   Min. cluster size:                  12\n",
      "                      Estimating Equations   Max. cluster size:                 123\n",
      "Family:                            Poisson   Mean cluster size:                49.6\n",
      "Dependence structure:         Independence   Num. iterations:                     2\n",
      "Date:                     Mon, 01 Jun 2020   Scale:                          32.362\n",
      "Covariance type:                    robust   Time:                         13:29:28\n",
      "===================================================================================\n",
      "                      coef    std err          z      P>|z|      [0.025      0.975]\n",
      "-----------------------------------------------------------------------------------\n",
      "C(country)[ABW]    -4.3474      0.112    -38.814      0.000      -4.567      -4.128\n",
      "C(country)[AFG]    -4.3828      0.379    -11.577      0.000      -5.125      -3.641\n",
      "C(country)[AGO]    -5.6477      0.173    -32.714      0.000      -5.986      -5.309\n",
      "C(country)[ALB]    -4.8199      0.252    -19.157      0.000      -5.313      -4.327\n",
      "C(country)[AND]    -4.1263      0.271    -15.201      0.000      -4.658      -3.594\n",
      "C(country)[ARE]    -5.3159      0.442    -12.029      0.000      -6.182      -4.450\n",
      "C(country)[ARG]    -3.7956      0.369    -10.300      0.000      -4.518      -3.073\n",
      "C(country)[ARM]    -5.1724      0.345    -14.995      0.000      -5.848      -4.496\n",
      "C(country)[ATG]    -4.4169      0.125    -35.286      0.000      -4.662      -4.172\n",
      "C(country)[AUS]    -5.1977      0.359    -14.492      0.000      -5.901      -4.495\n",
      "C(country)[AUT]    -4.0598      0.445     -9.125      0.000      -4.932      -3.188\n",
      "C(country)[AZE]    -5.4350      0.324    -16.768      0.000      -6.070      -4.800\n",
      "C(country)[BDI]   -29.8546      1.014    -29.439      0.000     -31.842     -27.867\n",
      "C(country)[BEL]    -2.4533      0.490     -5.002      0.000      -3.415      -1.492\n",
      "C(country)[BEN]    -6.7881      0.239    -28.348      0.000      -7.257      -6.319\n",
      "C(country)[BFA]    -4.1275      0.247    -16.731      0.000      -4.611      -3.644\n",
      "C(country)[BGD]    -4.5713      0.453    -10.087      0.000      -5.460      -3.683\n",
      "C(country)[BGR]    -4.0408      0.300    -13.488      0.000      -4.628      -3.454\n",
      "C(country)[BHR]    -7.4507      0.368    -20.246      0.000      -8.172      -6.729\n",
      "C(country)[BHS]    -5.0550      0.154    -32.757      0.000      -5.357      -4.753\n",
      "C(country)[BIH]    -4.0382      0.302    -13.381      0.000      -4.630      -3.447\n",
      "C(country)[BLR]    -5.8660      0.473    -12.407      0.000      -6.793      -4.939\n",
      "C(country)[BLZ]   -28.9500      1.007    -28.735      0.000     -30.925     -26.975\n",
      "C(country)[BMU]    -4.7620      0.166    -28.756      0.000      -5.087      -4.437\n",
      "C(country)[BOL]    -3.9070      0.351    -11.124      0.000      -4.595      -3.219\n",
      "C(country)[BRA]    -2.6575      0.593     -4.479      0.000      -3.820      -1.495\n",
      "C(country)[BRB]    -4.6904      0.123    -38.236      0.000      -4.931      -4.450\n",
      "C(country)[BRN]   -29.2221      1.007    -29.029      0.000     -31.195     -27.249\n",
      "C(country)[BWA]   -29.4434      1.011    -29.109      0.000     -31.426     -27.461\n",
      "C(country)[CAN]    -3.0506      0.505     -6.042      0.000      -4.040      -2.061\n",
      "C(country)[CHE]    -3.6923      0.457     -8.075      0.000      -4.589      -2.796\n",
      "C(country)[CHL]    -4.8331      0.485     -9.963      0.000      -5.784      -3.882\n",
      "C(country)[CHN]    -3.3699      0.502     -6.714      0.000      -4.354      -2.386\n",
      "C(country)[CIV]    -5.5137      0.303    -18.194      0.000      -6.108      -4.920\n",
      "C(country)[CMR]    -4.0924      0.324    -12.634      0.000      -4.727      -3.457\n",
      "C(country)[COD]    -4.4204      0.296    -14.954      0.000      -5.000      -3.841\n",
      "C(country)[COG]    -4.9514      0.225    -21.997      0.000      -5.393      -4.510\n",
      "C(country)[COL]    -3.9150      0.418     -9.372      0.000      -4.734      -3.096\n",
      "C(country)[CPV]    -6.4307      0.248    -25.882      0.000      -6.918      -5.944\n",
      "C(country)[CRI]    -5.9683      0.250    -23.872      0.000      -6.458      -5.478\n",
      "C(country)[CUB]    -4.4139      0.290    -15.235      0.000      -4.982      -3.846\n",
      "C(country)[CUW]   -28.9281      1.012    -28.596      0.000     -30.911     -26.945\n",
      "C(country)[CYM]   -30.3426      1.017    -29.836      0.000     -32.336     -28.349\n",
      "C(country)[CYP]    -5.9710      0.267    -22.333      0.000      -6.495      -5.447\n",
      "C(country)[CZE]    -4.2663      0.402    -10.606      0.000      -5.055      -3.478\n",
      "C(country)[DEU]    -3.5230      0.573     -6.151      0.000      -4.645      -2.401\n",
      "C(country)[DJI]    -6.1004      0.312    -19.522      0.000      -6.713      -5.488\n",
      "C(country)[DNK]    -3.9241      0.389    -10.079      0.000      -4.687      -3.161\n",
      "C(country)[DOM]    -4.2507      0.401    -10.609      0.000      -5.036      -3.465\n",
      "C(country)[DZA]    -3.4397      0.362     -9.497      0.000      -4.150      -2.730\n",
      "C(country)[ECU]    -2.9789      0.453     -6.572      0.000      -3.867      -2.091\n",
      "C(country)[EGY]    -3.5882      0.401     -8.939      0.000      -4.375      -2.801\n",
      "C(country)[ESP]    -2.5198      0.584     -4.318      0.000      -3.663      -1.376\n",
      "C(country)[EST]    -4.4882      0.305    -14.693      0.000      -5.087      -3.890\n",
      "C(country)[ETH]    -6.2898      0.221    -28.433      0.000      -6.723      -5.856\n",
      "C(country)[FIN]    -4.0406      0.363    -11.142      0.000      -4.751      -3.330\n",
      "C(country)[FRA]    -1.9663      0.540     -3.642      0.000      -3.025      -0.908\n",
      "C(country)[GAB]    -5.7311      0.318    -18.033      0.000      -6.354      -5.108\n",
      "C(country)[GBR]    -2.2147      0.577     -3.837      0.000      -3.346      -1.083\n",
      "C(country)[GEO]    -5.4853      0.245    -22.396      0.000      -5.965      -5.005\n",
      "C(country)[GGY]    -4.4017      0.229    -19.189      0.000      -4.851      -3.952\n",
      "C(country)[GHA]    -6.2294      0.368    -16.925      0.000      -6.951      -5.508\n",
      "C(country)[GIN]    -6.2426      0.360    -17.334      0.000      -6.948      -5.537\n",
      "C(country)[GMB]   -29.3006      1.021    -28.705      0.000     -31.301     -27.300\n",
      "C(country)[GNB]    -6.3140      0.365    -17.295      0.000      -7.030      -5.598\n",
      "C(country)[GNQ]    -5.0892      0.297    -17.153      0.000      -5.671      -4.508\n",
      "C(country)[GRC]    -4.0179      0.313    -12.848      0.000      -4.631      -3.405\n",
      "C(country)[GTM]    -4.6102      0.321    -14.371      0.000      -5.239      -3.981\n",
      "C(country)[GUM]    -5.0996      0.187    -27.224      0.000      -5.467      -4.733\n",
      "C(country)[GUY]    -4.2551      0.219    -19.412      0.000      -4.685      -3.825\n",
      "C(country)[HND]    -3.9371      0.326    -12.075      0.000      -4.576      -3.298\n",
      "C(country)[HRV]    -4.2321      0.322    -13.143      0.000      -4.863      -3.601\n",
      "C(country)[HTI]    -4.0014      0.276    -14.506      0.000      -4.542      -3.461\n",
      "C(country)[HUN]    -3.1526      0.321     -9.822      0.000      -3.782      -2.523\n",
      "C(country)[IDN]    -3.3818      0.415     -8.149      0.000      -4.195      -2.568\n",
      "C(country)[IMN]    -3.7883      0.236    -16.052      0.000      -4.251      -3.326\n",
      "C(country)[IND]    -3.5876      0.532     -6.741      0.000      -4.631      -2.545\n",
      "C(country)[IRL]    -3.4965      0.435     -8.044      0.000      -4.348      -2.645\n",
      "C(country)[IRN]    -3.2512      0.517     -6.292      0.000      -4.264      -2.238\n",
      "C(country)[IRQ]    -4.2805      0.316    -13.525      0.000      -4.901      -3.660\n",
      "C(country)[ISL]    -6.3642      0.343    -18.554      0.000      -7.036      -5.692\n",
      "C(country)[ISR]    -4.9505      0.448    -11.040      0.000      -5.829      -4.072\n",
      "C(country)[ITA]    -2.3253      0.563     -4.133      0.000      -3.428      -1.223\n",
      "C(country)[JAM]    -5.8207      0.230    -25.306      0.000      -6.272      -5.370\n",
      "C(country)[JEY]    -3.8279      0.211    -18.134      0.000      -4.242      -3.414\n",
      "C(country)[JOR]    -6.2656      0.217    -28.853      0.000      -6.691      -5.840\n",
      "C(country)[JPN]    -3.6813      0.409     -8.991      0.000      -4.484      -2.879\n",
      "C(country)[KAZ]    -6.3375      0.369    -17.160      0.000      -7.061      -5.614\n",
      "C(country)[KEN]    -4.1824      0.260    -16.096      0.000      -4.692      -3.673\n",
      "C(country)[KGZ]    -6.0643      0.275    -22.029      0.000      -6.604      -5.525\n",
      "C(country)[KOR]    -4.6010      0.411    -11.201      0.000      -5.406      -3.796\n",
      "C(country)[KWT]    -5.3724      0.431    -12.473      0.000      -6.217      -4.528\n",
      "C(country)[LBN]    -5.0336      0.250    -20.175      0.000      -5.523      -4.545\n",
      "C(country)[LBR]    -4.1216      0.198    -20.791      0.000      -4.510      -3.733\n",
      "C(country)[LBY]    -5.1408      0.155    -33.124      0.000      -5.445      -4.837\n",
      "C(country)[LIE]   -28.9888      1.007    -28.788      0.000     -30.962     -27.015\n",
      "C(country)[LKA]    -6.6742      0.257    -26.012      0.000      -7.177      -6.171\n",
      "C(country)[LTU]    -4.8161      0.318    -15.161      0.000      -5.439      -4.193\n",
      "C(country)[LUX]    -4.7259      0.349    -13.525      0.000      -5.411      -4.041\n",
      "C(country)[LVA]    -4.8524      0.243    -20.008      0.000      -5.328      -4.377\n",
      "C(country)[MAR]    -4.5017      0.362    -12.447      0.000      -5.211      -3.793\n",
      "C(country)[MCO]    -3.9633      0.131    -30.162      0.000      -4.221      -3.706\n",
      "C(country)[MDA]    -4.2387      0.355    -11.941      0.000      -4.934      -3.543\n",
      "C(country)[MDV]    -7.5073      0.385    -19.480      0.000      -8.263      -6.752\n",
      "C(country)[MEX]    -2.5189      0.493     -5.114      0.000      -3.484      -1.554\n",
      "C(country)[MKD]    -4.0695      0.290    -14.033      0.000      -4.638      -3.501\n",
      "C(country)[MLI]    -4.0910      0.259    -15.773      0.000      -4.599      -3.583\n",
      "C(country)[MLT]    -5.7647      0.200    -28.839      0.000      -6.156      -5.373\n",
      "C(country)[MMR]    -5.6547      0.191    -29.632      0.000      -6.029      -5.281\n",
      "C(country)[MNE]    -5.0672      0.238    -21.262      0.000      -5.534      -4.600\n",
      "C(country)[MNP]   -29.1647      1.014    -28.771      0.000     -31.151     -27.178\n",
      "C(country)[MRT]    -3.5387      0.324    -10.919      0.000      -4.174      -2.903\n",
      "C(country)[MSR]   -28.4281      1.009    -28.174      0.000     -30.406     -26.450\n",
      "C(country)[MUS]    -5.0545      0.251    -20.175      0.000      -5.546      -4.563\n",
      "C(country)[MWI]    -5.8301      0.173    -33.771      0.000      -6.168      -5.492\n",
      "C(country)[MYS]    -5.2746      0.374    -14.098      0.000      -6.008      -4.541\n",
      "C(country)[NER]    -4.0270      0.265    -15.222      0.000      -4.546      -3.509\n",
      "C(country)[NGA]    -4.1751      0.374    -11.166      0.000      -4.908      -3.442\n",
      "C(country)[NIC]    -3.2371      0.191    -16.921      0.000      -3.612      -2.862\n",
      "C(country)[NLD]    -2.7288      0.470     -5.808      0.000      -3.650      -1.808\n",
      "C(country)[NOR]    -4.5337      0.389    -11.669      0.000      -5.295      -3.772\n",
      "C(country)[NZL]    -4.6770      0.315    -14.863      0.000      -5.294      -4.060\n",
      "C(country)[OMN]    -6.1089      0.361    -16.933      0.000      -6.816      -5.402\n",
      "C(country)[PAK]    -4.2144      0.481     -8.769      0.000      -5.156      -3.272\n",
      "C(country)[PAN]    -4.3909      0.377    -11.656      0.000      -5.129      -3.653\n",
      "C(country)[PER]    -3.7499      0.532     -7.052      0.000      -4.792      -2.708\n",
      "C(country)[PHL]    -3.4249      0.430     -7.961      0.000      -4.268      -2.582\n",
      "C(country)[POL]    -3.7525      0.417     -9.007      0.000      -4.569      -2.936\n",
      "C(country)[PRI]    -4.2041      0.312    -13.465      0.000      -4.816      -3.592\n",
      "C(country)[PRT]    -3.9298      0.462     -8.502      0.000      -4.836      -3.024\n",
      "C(country)[PRY]    -5.7475      0.261    -21.987      0.000      -6.260      -5.235\n",
      "C(country)[PSE]    -6.4016      0.222    -28.780      0.000      -6.838      -5.966\n",
      "C(country)[QAT]    -8.4001      0.471    -17.843      0.000      -9.323      -7.477\n",
      "C(country)[ROU]    -3.5780      0.427     -8.378      0.000      -4.415      -2.741\n",
      "C(country)[RUS]    -4.7340      0.611     -7.750      0.000      -5.931      -3.537\n",
      "C(country)[SAU]    -5.5982      0.500    -11.193      0.000      -6.579      -4.618\n",
      "C(country)[SDN]    -3.7117      0.365    -10.172      0.000      -4.427      -2.997\n",
      "C(country)[SEN]    -5.3418      0.318    -16.786      0.000      -5.966      -4.718\n",
      "C(country)[SGP]    -7.8760      0.453    -17.400      0.000      -8.763      -6.989\n",
      "C(country)[SLE]    -3.9680      0.293    -13.545      0.000      -4.542      -3.394\n",
      "C(country)[SLV]    -5.0137      0.292    -17.145      0.000      -5.587      -4.441\n",
      "C(country)[SMR]    -4.2326      0.236    -17.936      0.000      -4.695      -3.770\n",
      "C(country)[SOM]    -4.4151      0.301    -14.667      0.000      -5.005      -3.825\n",
      "C(country)[SRB]    -4.7899      0.393    -12.180      0.000      -5.561      -4.019\n",
      "C(country)[STP]    -4.9368      0.316    -15.636      0.000      -5.556      -4.318\n",
      "C(country)[SUR]   -28.4847      1.019    -27.955      0.000     -30.482     -26.488\n",
      "C(country)[SVK]    -4.9695      0.320    -15.522      0.000      -5.597      -4.342\n",
      "C(country)[SVN]    -3.8213      0.287    -13.319      0.000      -4.384      -3.259\n",
      "C(country)[SWE]    -2.7594      0.446     -6.189      0.000      -3.633      -1.885\n",
      "C(country)[SWZ]    -6.6922      0.220    -30.454      0.000      -7.123      -6.261\n",
      "C(country)[SXM]    -4.0716      0.164    -24.850      0.000      -4.393      -3.750\n",
      "C(country)[SYR]    -5.7107      0.156    -36.624      0.000      -6.016      -5.405\n",
      "C(country)[TCA]   -28.8639      1.010    -28.589      0.000     -30.843     -26.885\n",
      "C(country)[TCD]    -3.6503      0.334    -10.922      0.000      -4.305      -2.995\n",
      "C(country)[TGO]    -4.7115      0.229    -20.616      0.000      -5.159      -4.264\n",
      "C(country)[THA]    -5.0895      0.310    -16.427      0.000      -5.697      -4.482\n",
      "C(country)[TTO]    -5.1048      0.172    -29.700      0.000      -5.442      -4.768\n",
      "C(country)[TUN]    -4.5717      0.271    -16.854      0.000      -5.103      -4.040\n",
      "C(country)[TUR]    -4.0379      0.558     -7.237      0.000      -5.131      -2.944\n",
      "C(country)[TWN]    -5.6526      0.235    -24.085      0.000      -6.113      -5.193\n",
      "C(country)[TZA]    -4.4663      0.237    -18.807      0.000      -4.932      -4.001\n",
      "C(country)[UKR]    -4.2057      0.424     -9.929      0.000      -5.036      -3.375\n",
      "C(country)[URY]    -5.0180      0.223    -22.484      0.000      -5.455      -4.581\n",
      "C(country)[USA]    -2.6937      0.693     -3.885      0.000      -4.053      -1.335\n",
      "C(country)[UZB]    -6.6301      0.326    -20.359      0.000      -7.268      -5.992\n",
      "C(country)[VEN]    -5.8782      0.232    -25.351      0.000      -6.333      -5.424\n",
      "C(country)[VGB]   -28.9022      1.009    -28.633      0.000     -30.881     -26.924\n",
      "C(country)[VIR]    -3.6752      0.132    -27.744      0.000      -3.935      -3.416\n",
      "C(country)[XKX]    -4.8228      0.253    -19.050      0.000      -5.319      -4.327\n",
      "C(country)[YEM]    -2.6646      0.274     -9.710      0.000      -3.202      -2.127\n",
      "C(country)[ZAF]    -4.3892      0.421    -10.437      0.000      -5.213      -3.565\n",
      "C(country)[ZMB]    -5.7899      0.299    -19.335      0.000      -6.377      -5.203\n",
      "C(country)[ZWE]    -4.5722      0.183    -24.972      0.000      -4.931      -4.213\n",
      "bs(rdays, 5)[0]     0.6237      0.203      3.066      0.002       0.225       1.022\n",
      "bs(rdays, 5)[1]     0.3886      0.299      1.298      0.194      -0.198       0.975\n",
      "bs(rdays, 5)[2]     0.3619      0.414      0.875      0.382      -0.449       1.173\n",
      "bs(rdays, 5)[3]    -1.0331      0.551     -1.876      0.061      -2.113       0.046\n",
      "bs(rdays, 5)[4]     2.5080      0.804      3.120      0.002       0.932       4.084\n",
      "logcumpos0          0.4148      0.099      4.195      0.000       0.221       0.609\n",
      "logcumpos1          0.2811      0.102      2.753      0.006       0.081       0.481\n",
      "logcumpos2          0.1379      0.061      2.257      0.024       0.018       0.258\n",
      "logcumpos3         -0.0098      0.039     -0.255      0.799      -0.085       0.066\n",
      "==============================================================================\n",
      "Skew:                         15.3071   Kurtosis:                     626.6341\n",
      "Centered skew:                15.3071   Centered kurtosis:            626.6341\n",
      "==============================================================================\n"
     ]
    },
    {
     "name": "stdout",
     "output_type": "stream",
     "text": [
      "{'statistic': 8.038538341636286, 'df': 5, 'p-value': 0.15412445444462763}\n"
     ]
    }
   ],
   "source": [
    "fml = \"deaths ~ 0 + C(country) + bs(rdays, 5) + \"\n",
    "fml += \"logcumpos0 + logcumpos1 + logcumpos2 + logcumpos3\"\n",
    "m2 = sm.GEE.from_formula(fml, groups=\"country\", data=df, family=sm.families.Poisson())\n",
    "r2 = m2.fit(scale=\"X2\")\n",
    "print(r2.summary())\n",
    "print(m2.compare_score_test(r1))"
   ]
  },
  {
   "cell_type": "markdown",
   "metadata": {},
   "source": [
    "There variance is around 30 times the mean."
   ]
  },
  {
   "cell_type": "code",
   "execution_count": 13,
   "metadata": {
    "lines_to_next_cell": 2
   },
   "outputs": [
    {
     "name": "stdout",
     "output_type": "stream",
     "text": [
      "33.04612879864114\n",
      "32.361938777767186\n"
     ]
    }
   ],
   "source": [
    "print(r1.scale)\n",
    "print(r2.scale)"
   ]
  }
 ],
 "metadata": {
  "jupytext": {
   "cell_metadata_filter": "-all"
  },
  "kernelspec": {
   "display_name": "Python 3",
   "language": "python",
   "name": "python3"
  },
  "language_info": {
   "codemirror_mode": {
    "name": "ipython",
    "version": 3
   },
   "file_extension": ".py",
   "mimetype": "text/x-python",
   "name": "python",
   "nbconvert_exporter": "python",
   "pygments_lexer": "ipython3",
   "version": "3.7.3"
  }
 },
 "nbformat": 4,
 "nbformat_minor": 2
}
